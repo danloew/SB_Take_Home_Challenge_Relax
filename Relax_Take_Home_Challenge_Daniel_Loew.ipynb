{
 "cells": [
  {
   "cell_type": "markdown",
   "metadata": {},
   "source": [
    "# Relax Inc. Take-Home Challenge, Daniel Loew, Springboard"
   ]
  },
  {
   "cell_type": "markdown",
   "metadata": {},
   "source": [
    "The Relax Inc. take-home challenge focuses on predicting customer adoption of the platform using a set of user characteristics."
   ]
  },
  {
   "cell_type": "code",
   "execution_count": 1,
   "metadata": {},
   "outputs": [],
   "source": [
    "import csv\n",
    "import numpy as np\n",
    "import pandas as pd\n",
    "import matplotlib.pyplot as plt\n",
    "from matplotlib import cm\n",
    "import seaborn as sns\n",
    "%matplotlib inline\n",
    "import sklearn\n",
    "from sklearn import linear_model\n",
    "from sklearn.model_selection import train_test_split\n",
    "from sklearn.model_selection import cross_val_score\n",
    "from sklearn.metrics import accuracy_score\n",
    "from sklearn.metrics import roc_curve\n",
    "from sklearn.metrics import roc_auc_score\n",
    "from sklearn.preprocessing import MinMaxScaler\n",
    "from sklearn.ensemble import RandomForestClassifier\n",
    "from sklearn.metrics import classification_report\n",
    "from sklearn.metrics import confusion_matrix\n",
    "import pickle"
   ]
  },
  {
   "cell_type": "code",
   "execution_count": 2,
   "metadata": {},
   "outputs": [],
   "source": [
    "data_path = '/Users/DanLoew/Documents/Academia/Springboard/DSCT/17.2.3 Relax Inc Take Home Challenge/relax_challenge/takehome_users.csv'\n",
    "df = pd.read_csv(data_path, index_col='object_id', encoding='latin_1')"
   ]
  },
  {
   "cell_type": "code",
   "execution_count": 3,
   "metadata": {},
   "outputs": [
    {
     "data": {
      "text/html": [
       "<div>\n",
       "<style scoped>\n",
       "    .dataframe tbody tr th:only-of-type {\n",
       "        vertical-align: middle;\n",
       "    }\n",
       "\n",
       "    .dataframe tbody tr th {\n",
       "        vertical-align: top;\n",
       "    }\n",
       "\n",
       "    .dataframe thead th {\n",
       "        text-align: right;\n",
       "    }\n",
       "</style>\n",
       "<table border=\"1\" class=\"dataframe\">\n",
       "  <thead>\n",
       "    <tr style=\"text-align: right;\">\n",
       "      <th></th>\n",
       "      <th>creation_time</th>\n",
       "      <th>name</th>\n",
       "      <th>email</th>\n",
       "      <th>creation_source</th>\n",
       "      <th>last_session_creation_time</th>\n",
       "      <th>opted_in_to_mailing_list</th>\n",
       "      <th>enabled_for_marketing_drip</th>\n",
       "      <th>org_id</th>\n",
       "      <th>invited_by_user_id</th>\n",
       "    </tr>\n",
       "    <tr>\n",
       "      <th>object_id</th>\n",
       "      <th></th>\n",
       "      <th></th>\n",
       "      <th></th>\n",
       "      <th></th>\n",
       "      <th></th>\n",
       "      <th></th>\n",
       "      <th></th>\n",
       "      <th></th>\n",
       "      <th></th>\n",
       "    </tr>\n",
       "  </thead>\n",
       "  <tbody>\n",
       "    <tr>\n",
       "      <th>1</th>\n",
       "      <td>2014-04-22 03:53:30</td>\n",
       "      <td>Clausen August</td>\n",
       "      <td>AugustCClausen@yahoo.com</td>\n",
       "      <td>GUEST_INVITE</td>\n",
       "      <td>1.398139e+09</td>\n",
       "      <td>1</td>\n",
       "      <td>0</td>\n",
       "      <td>11</td>\n",
       "      <td>10803.0</td>\n",
       "    </tr>\n",
       "    <tr>\n",
       "      <th>2</th>\n",
       "      <td>2013-11-15 03:45:04</td>\n",
       "      <td>Poole Matthew</td>\n",
       "      <td>MatthewPoole@gustr.com</td>\n",
       "      <td>ORG_INVITE</td>\n",
       "      <td>1.396238e+09</td>\n",
       "      <td>0</td>\n",
       "      <td>0</td>\n",
       "      <td>1</td>\n",
       "      <td>316.0</td>\n",
       "    </tr>\n",
       "    <tr>\n",
       "      <th>3</th>\n",
       "      <td>2013-03-19 23:14:52</td>\n",
       "      <td>Bottrill Mitchell</td>\n",
       "      <td>MitchellBottrill@gustr.com</td>\n",
       "      <td>ORG_INVITE</td>\n",
       "      <td>1.363735e+09</td>\n",
       "      <td>0</td>\n",
       "      <td>0</td>\n",
       "      <td>94</td>\n",
       "      <td>1525.0</td>\n",
       "    </tr>\n",
       "    <tr>\n",
       "      <th>4</th>\n",
       "      <td>2013-05-21 08:09:28</td>\n",
       "      <td>Clausen Nicklas</td>\n",
       "      <td>NicklasSClausen@yahoo.com</td>\n",
       "      <td>GUEST_INVITE</td>\n",
       "      <td>1.369210e+09</td>\n",
       "      <td>0</td>\n",
       "      <td>0</td>\n",
       "      <td>1</td>\n",
       "      <td>5151.0</td>\n",
       "    </tr>\n",
       "    <tr>\n",
       "      <th>5</th>\n",
       "      <td>2013-01-17 10:14:20</td>\n",
       "      <td>Raw Grace</td>\n",
       "      <td>GraceRaw@yahoo.com</td>\n",
       "      <td>GUEST_INVITE</td>\n",
       "      <td>1.358850e+09</td>\n",
       "      <td>0</td>\n",
       "      <td>0</td>\n",
       "      <td>193</td>\n",
       "      <td>5240.0</td>\n",
       "    </tr>\n",
       "  </tbody>\n",
       "</table>\n",
       "</div>"
      ],
      "text/plain": [
       "                 creation_time               name                       email  \\\n",
       "object_id                                                                       \n",
       "1          2014-04-22 03:53:30     Clausen August    AugustCClausen@yahoo.com   \n",
       "2          2013-11-15 03:45:04      Poole Matthew      MatthewPoole@gustr.com   \n",
       "3          2013-03-19 23:14:52  Bottrill Mitchell  MitchellBottrill@gustr.com   \n",
       "4          2013-05-21 08:09:28    Clausen Nicklas   NicklasSClausen@yahoo.com   \n",
       "5          2013-01-17 10:14:20          Raw Grace          GraceRaw@yahoo.com   \n",
       "\n",
       "          creation_source  last_session_creation_time  \\\n",
       "object_id                                               \n",
       "1            GUEST_INVITE                1.398139e+09   \n",
       "2              ORG_INVITE                1.396238e+09   \n",
       "3              ORG_INVITE                1.363735e+09   \n",
       "4            GUEST_INVITE                1.369210e+09   \n",
       "5            GUEST_INVITE                1.358850e+09   \n",
       "\n",
       "           opted_in_to_mailing_list  enabled_for_marketing_drip  org_id  \\\n",
       "object_id                                                                 \n",
       "1                                 1                           0      11   \n",
       "2                                 0                           0       1   \n",
       "3                                 0                           0      94   \n",
       "4                                 0                           0       1   \n",
       "5                                 0                           0     193   \n",
       "\n",
       "           invited_by_user_id  \n",
       "object_id                      \n",
       "1                     10803.0  \n",
       "2                       316.0  \n",
       "3                      1525.0  \n",
       "4                      5151.0  \n",
       "5                      5240.0  "
      ]
     },
     "execution_count": 3,
     "metadata": {},
     "output_type": "execute_result"
    }
   ],
   "source": [
    "df.head()"
   ]
  },
  {
   "cell_type": "code",
   "execution_count": 4,
   "metadata": {},
   "outputs": [
    {
     "name": "stdout",
     "output_type": "stream",
     "text": [
      "<class 'pandas.core.frame.DataFrame'>\n",
      "Int64Index: 12000 entries, 1 to 12000\n",
      "Data columns (total 9 columns):\n",
      "creation_time                 12000 non-null object\n",
      "name                          12000 non-null object\n",
      "email                         12000 non-null object\n",
      "creation_source               12000 non-null object\n",
      "last_session_creation_time    8823 non-null float64\n",
      "opted_in_to_mailing_list      12000 non-null int64\n",
      "enabled_for_marketing_drip    12000 non-null int64\n",
      "org_id                        12000 non-null int64\n",
      "invited_by_user_id            6417 non-null float64\n",
      "dtypes: float64(2), int64(3), object(4)\n",
      "memory usage: 937.5+ KB\n"
     ]
    }
   ],
   "source": [
    "df.info()"
   ]
  },
  {
   "cell_type": "code",
   "execution_count": 5,
   "metadata": {},
   "outputs": [
    {
     "data": {
      "text/html": [
       "<div>\n",
       "<style scoped>\n",
       "    .dataframe tbody tr th:only-of-type {\n",
       "        vertical-align: middle;\n",
       "    }\n",
       "\n",
       "    .dataframe tbody tr th {\n",
       "        vertical-align: top;\n",
       "    }\n",
       "\n",
       "    .dataframe thead th {\n",
       "        text-align: right;\n",
       "    }\n",
       "</style>\n",
       "<table border=\"1\" class=\"dataframe\">\n",
       "  <thead>\n",
       "    <tr style=\"text-align: right;\">\n",
       "      <th></th>\n",
       "      <th>creation_time</th>\n",
       "      <th>name</th>\n",
       "      <th>email</th>\n",
       "      <th>creation_source</th>\n",
       "      <th>last_session_creation_time</th>\n",
       "      <th>opted_in_to_mailing_list</th>\n",
       "      <th>enabled_for_marketing_drip</th>\n",
       "      <th>org_id</th>\n",
       "      <th>invited_by_user_id</th>\n",
       "    </tr>\n",
       "  </thead>\n",
       "  <tbody>\n",
       "    <tr>\n",
       "      <th>count</th>\n",
       "      <td>12000</td>\n",
       "      <td>12000</td>\n",
       "      <td>12000</td>\n",
       "      <td>12000</td>\n",
       "      <td>8.823000e+03</td>\n",
       "      <td>12000.000000</td>\n",
       "      <td>12000.000000</td>\n",
       "      <td>12000.000000</td>\n",
       "      <td>6417.000000</td>\n",
       "    </tr>\n",
       "    <tr>\n",
       "      <th>unique</th>\n",
       "      <td>11996</td>\n",
       "      <td>11355</td>\n",
       "      <td>11980</td>\n",
       "      <td>5</td>\n",
       "      <td>NaN</td>\n",
       "      <td>NaN</td>\n",
       "      <td>NaN</td>\n",
       "      <td>NaN</td>\n",
       "      <td>NaN</td>\n",
       "    </tr>\n",
       "    <tr>\n",
       "      <th>top</th>\n",
       "      <td>2012-09-01 07:22:09</td>\n",
       "      <td>Araujo Gabriela</td>\n",
       "      <td>AlfieLane@yahoo.com</td>\n",
       "      <td>ORG_INVITE</td>\n",
       "      <td>NaN</td>\n",
       "      <td>NaN</td>\n",
       "      <td>NaN</td>\n",
       "      <td>NaN</td>\n",
       "      <td>NaN</td>\n",
       "    </tr>\n",
       "    <tr>\n",
       "      <th>freq</th>\n",
       "      <td>2</td>\n",
       "      <td>5</td>\n",
       "      <td>2</td>\n",
       "      <td>4254</td>\n",
       "      <td>NaN</td>\n",
       "      <td>NaN</td>\n",
       "      <td>NaN</td>\n",
       "      <td>NaN</td>\n",
       "      <td>NaN</td>\n",
       "    </tr>\n",
       "    <tr>\n",
       "      <th>mean</th>\n",
       "      <td>NaN</td>\n",
       "      <td>NaN</td>\n",
       "      <td>NaN</td>\n",
       "      <td>NaN</td>\n",
       "      <td>1.379279e+09</td>\n",
       "      <td>0.249500</td>\n",
       "      <td>0.149333</td>\n",
       "      <td>141.884583</td>\n",
       "      <td>5962.957145</td>\n",
       "    </tr>\n",
       "    <tr>\n",
       "      <th>std</th>\n",
       "      <td>NaN</td>\n",
       "      <td>NaN</td>\n",
       "      <td>NaN</td>\n",
       "      <td>NaN</td>\n",
       "      <td>1.953116e+07</td>\n",
       "      <td>0.432742</td>\n",
       "      <td>0.356432</td>\n",
       "      <td>124.056723</td>\n",
       "      <td>3383.761968</td>\n",
       "    </tr>\n",
       "    <tr>\n",
       "      <th>min</th>\n",
       "      <td>NaN</td>\n",
       "      <td>NaN</td>\n",
       "      <td>NaN</td>\n",
       "      <td>NaN</td>\n",
       "      <td>1.338452e+09</td>\n",
       "      <td>0.000000</td>\n",
       "      <td>0.000000</td>\n",
       "      <td>0.000000</td>\n",
       "      <td>3.000000</td>\n",
       "    </tr>\n",
       "    <tr>\n",
       "      <th>25%</th>\n",
       "      <td>NaN</td>\n",
       "      <td>NaN</td>\n",
       "      <td>NaN</td>\n",
       "      <td>NaN</td>\n",
       "      <td>1.363195e+09</td>\n",
       "      <td>0.000000</td>\n",
       "      <td>0.000000</td>\n",
       "      <td>29.000000</td>\n",
       "      <td>3058.000000</td>\n",
       "    </tr>\n",
       "    <tr>\n",
       "      <th>50%</th>\n",
       "      <td>NaN</td>\n",
       "      <td>NaN</td>\n",
       "      <td>NaN</td>\n",
       "      <td>NaN</td>\n",
       "      <td>1.382888e+09</td>\n",
       "      <td>0.000000</td>\n",
       "      <td>0.000000</td>\n",
       "      <td>108.000000</td>\n",
       "      <td>5954.000000</td>\n",
       "    </tr>\n",
       "    <tr>\n",
       "      <th>75%</th>\n",
       "      <td>NaN</td>\n",
       "      <td>NaN</td>\n",
       "      <td>NaN</td>\n",
       "      <td>NaN</td>\n",
       "      <td>1.398443e+09</td>\n",
       "      <td>0.000000</td>\n",
       "      <td>0.000000</td>\n",
       "      <td>238.250000</td>\n",
       "      <td>8817.000000</td>\n",
       "    </tr>\n",
       "    <tr>\n",
       "      <th>max</th>\n",
       "      <td>NaN</td>\n",
       "      <td>NaN</td>\n",
       "      <td>NaN</td>\n",
       "      <td>NaN</td>\n",
       "      <td>1.402067e+09</td>\n",
       "      <td>1.000000</td>\n",
       "      <td>1.000000</td>\n",
       "      <td>416.000000</td>\n",
       "      <td>11999.000000</td>\n",
       "    </tr>\n",
       "  </tbody>\n",
       "</table>\n",
       "</div>"
      ],
      "text/plain": [
       "              creation_time             name                email  \\\n",
       "count                 12000            12000                12000   \n",
       "unique                11996            11355                11980   \n",
       "top     2012-09-01 07:22:09  Araujo Gabriela  AlfieLane@yahoo.com   \n",
       "freq                      2                5                    2   \n",
       "mean                    NaN              NaN                  NaN   \n",
       "std                     NaN              NaN                  NaN   \n",
       "min                     NaN              NaN                  NaN   \n",
       "25%                     NaN              NaN                  NaN   \n",
       "50%                     NaN              NaN                  NaN   \n",
       "75%                     NaN              NaN                  NaN   \n",
       "max                     NaN              NaN                  NaN   \n",
       "\n",
       "       creation_source  last_session_creation_time  opted_in_to_mailing_list  \\\n",
       "count            12000                8.823000e+03              12000.000000   \n",
       "unique               5                         NaN                       NaN   \n",
       "top         ORG_INVITE                         NaN                       NaN   \n",
       "freq              4254                         NaN                       NaN   \n",
       "mean               NaN                1.379279e+09                  0.249500   \n",
       "std                NaN                1.953116e+07                  0.432742   \n",
       "min                NaN                1.338452e+09                  0.000000   \n",
       "25%                NaN                1.363195e+09                  0.000000   \n",
       "50%                NaN                1.382888e+09                  0.000000   \n",
       "75%                NaN                1.398443e+09                  0.000000   \n",
       "max                NaN                1.402067e+09                  1.000000   \n",
       "\n",
       "        enabled_for_marketing_drip        org_id  invited_by_user_id  \n",
       "count                 12000.000000  12000.000000         6417.000000  \n",
       "unique                         NaN           NaN                 NaN  \n",
       "top                            NaN           NaN                 NaN  \n",
       "freq                           NaN           NaN                 NaN  \n",
       "mean                      0.149333    141.884583         5962.957145  \n",
       "std                       0.356432    124.056723         3383.761968  \n",
       "min                       0.000000      0.000000            3.000000  \n",
       "25%                       0.000000     29.000000         3058.000000  \n",
       "50%                       0.000000    108.000000         5954.000000  \n",
       "75%                       0.000000    238.250000         8817.000000  \n",
       "max                       1.000000    416.000000        11999.000000  "
      ]
     },
     "execution_count": 5,
     "metadata": {},
     "output_type": "execute_result"
    }
   ],
   "source": [
    "df.describe(include='all')"
   ]
  },
  {
   "cell_type": "code",
   "execution_count": 6,
   "metadata": {},
   "outputs": [
    {
     "data": {
      "text/plain": [
       "(12000, 9)"
      ]
     },
     "execution_count": 6,
     "metadata": {},
     "output_type": "execute_result"
    }
   ],
   "source": [
    "df.shape"
   ]
  },
  {
   "cell_type": "code",
   "execution_count": 7,
   "metadata": {},
   "outputs": [
    {
     "data": {
      "text/plain": [
       "creation_time                    0\n",
       "name                             0\n",
       "email                            0\n",
       "creation_source                  0\n",
       "last_session_creation_time    3177\n",
       "opted_in_to_mailing_list         0\n",
       "enabled_for_marketing_drip       0\n",
       "org_id                           0\n",
       "invited_by_user_id            5583\n",
       "dtype: int64"
      ]
     },
     "execution_count": 7,
     "metadata": {},
     "output_type": "execute_result"
    }
   ],
   "source": [
    "df.isnull().sum()"
   ]
  },
  {
   "cell_type": "code",
   "execution_count": 8,
   "metadata": {},
   "outputs": [
    {
     "data": {
      "text/plain": [
       "creation_time                    0\n",
       "name                             0\n",
       "email                            0\n",
       "creation_source                  0\n",
       "last_session_creation_time    3177\n",
       "opted_in_to_mailing_list         0\n",
       "enabled_for_marketing_drip       0\n",
       "org_id                           0\n",
       "invited_by_user_id            5583\n",
       "dtype: int64"
      ]
     },
     "execution_count": 8,
     "metadata": {},
     "output_type": "execute_result"
    }
   ],
   "source": [
    "df.isna().sum()"
   ]
  },
  {
   "cell_type": "code",
   "execution_count": 9,
   "metadata": {},
   "outputs": [
    {
     "data": {
      "text/plain": [
       "6417"
      ]
     },
     "execution_count": 9,
     "metadata": {},
     "output_type": "execute_result"
    }
   ],
   "source": [
    "12000 - 5583"
   ]
  },
  {
   "cell_type": "code",
   "execution_count": 10,
   "metadata": {
    "scrolled": false
   },
   "outputs": [
    {
     "data": {
      "text/plain": [
       "ORG_INVITE            4254\n",
       "GUEST_INVITE          2163\n",
       "PERSONAL_PROJECTS     2111\n",
       "SIGNUP                2087\n",
       "SIGNUP_GOOGLE_AUTH    1385\n",
       "Name: creation_source, dtype: int64"
      ]
     },
     "execution_count": 10,
     "metadata": {},
     "output_type": "execute_result"
    }
   ],
   "source": [
    "df['creation_source'].value_counts()"
   ]
  },
  {
   "cell_type": "code",
   "execution_count": 11,
   "metadata": {},
   "outputs": [
    {
     "data": {
      "text/plain": [
       "6417"
      ]
     },
     "execution_count": 11,
     "metadata": {},
     "output_type": "execute_result"
    }
   ],
   "source": [
    "4254 + 2163"
   ]
  },
  {
   "cell_type": "markdown",
   "metadata": {},
   "source": [
    "In order for the machine learning to work, there can be no missing values. As is seen above, 3,177 users have no value for 'last_session_creation_time'. These missing values illustrate users who created their account and never logged in again. Therefore, their value for 'last_session_creation_time' will be changed from 'nan' to the median value for that column. \n",
    "\n",
    "5,583 users have a missing value for the 'invited_by_user_id' variable, because these users weren't invited by a specific org or guest, as illustrated in the 'value_counts' and math cells above. Therefore, these users will have their missing value for 'invited_by_user_id' changed to 'not_invited_by_org_or_user'.\n",
    "\n",
    "For each of the two features with missing values, a partner binary feature will be created which will flag which rows had their missing values filled in."
   ]
  },
  {
   "cell_type": "code",
   "execution_count": 12,
   "metadata": {},
   "outputs": [
    {
     "data": {
      "text/plain": [
       "['last_session_creation_time', 'invited_by_user_id']"
      ]
     },
     "execution_count": 12,
     "metadata": {},
     "output_type": "execute_result"
    }
   ],
   "source": [
    "null_value_columns = list(df.columns[(df.isnull().sum()>0) | (df.isna().sum()>0)])\n",
    "null_value_columns"
   ]
  },
  {
   "cell_type": "code",
   "execution_count": 13,
   "metadata": {},
   "outputs": [
    {
     "name": "stdout",
     "output_type": "stream",
     "text": [
      "last_session_creation_time\n",
      "invited_by_user_id\n"
     ]
    }
   ],
   "source": [
    "for col_name in null_value_columns:\n",
    "    new_col_name = col_name+'_isnull'\n",
    "    print(col_name)\n",
    "    df[new_col_name] = df[col_name].isnull()"
   ]
  },
  {
   "cell_type": "code",
   "execution_count": 14,
   "metadata": {},
   "outputs": [
    {
     "data": {
      "text/html": [
       "<div>\n",
       "<style scoped>\n",
       "    .dataframe tbody tr th:only-of-type {\n",
       "        vertical-align: middle;\n",
       "    }\n",
       "\n",
       "    .dataframe tbody tr th {\n",
       "        vertical-align: top;\n",
       "    }\n",
       "\n",
       "    .dataframe thead th {\n",
       "        text-align: right;\n",
       "    }\n",
       "</style>\n",
       "<table border=\"1\" class=\"dataframe\">\n",
       "  <thead>\n",
       "    <tr style=\"text-align: right;\">\n",
       "      <th></th>\n",
       "      <th>creation_time</th>\n",
       "      <th>name</th>\n",
       "      <th>email</th>\n",
       "      <th>creation_source</th>\n",
       "      <th>last_session_creation_time</th>\n",
       "      <th>opted_in_to_mailing_list</th>\n",
       "      <th>enabled_for_marketing_drip</th>\n",
       "      <th>org_id</th>\n",
       "      <th>invited_by_user_id</th>\n",
       "      <th>last_session_creation_time_isnull</th>\n",
       "      <th>invited_by_user_id_isnull</th>\n",
       "    </tr>\n",
       "    <tr>\n",
       "      <th>object_id</th>\n",
       "      <th></th>\n",
       "      <th></th>\n",
       "      <th></th>\n",
       "      <th></th>\n",
       "      <th></th>\n",
       "      <th></th>\n",
       "      <th></th>\n",
       "      <th></th>\n",
       "      <th></th>\n",
       "      <th></th>\n",
       "      <th></th>\n",
       "    </tr>\n",
       "  </thead>\n",
       "  <tbody>\n",
       "    <tr>\n",
       "      <th>1</th>\n",
       "      <td>2014-04-22 03:53:30</td>\n",
       "      <td>Clausen August</td>\n",
       "      <td>AugustCClausen@yahoo.com</td>\n",
       "      <td>GUEST_INVITE</td>\n",
       "      <td>1.398139e+09</td>\n",
       "      <td>1</td>\n",
       "      <td>0</td>\n",
       "      <td>11</td>\n",
       "      <td>10803.0</td>\n",
       "      <td>False</td>\n",
       "      <td>False</td>\n",
       "    </tr>\n",
       "  </tbody>\n",
       "</table>\n",
       "</div>"
      ],
      "text/plain": [
       "                 creation_time            name                     email  \\\n",
       "object_id                                                                  \n",
       "1          2014-04-22 03:53:30  Clausen August  AugustCClausen@yahoo.com   \n",
       "\n",
       "          creation_source  last_session_creation_time  \\\n",
       "object_id                                               \n",
       "1            GUEST_INVITE                1.398139e+09   \n",
       "\n",
       "           opted_in_to_mailing_list  enabled_for_marketing_drip  org_id  \\\n",
       "object_id                                                                 \n",
       "1                                 1                           0      11   \n",
       "\n",
       "           invited_by_user_id  last_session_creation_time_isnull  \\\n",
       "object_id                                                          \n",
       "1                     10803.0                              False   \n",
       "\n",
       "           invited_by_user_id_isnull  \n",
       "object_id                             \n",
       "1                              False  "
      ]
     },
     "execution_count": 14,
     "metadata": {},
     "output_type": "execute_result"
    }
   ],
   "source": [
    "df.head(1)"
   ]
  },
  {
   "cell_type": "code",
   "execution_count": 15,
   "metadata": {},
   "outputs": [
    {
     "data": {
      "text/plain": [
       "1382888470.0"
      ]
     },
     "execution_count": 15,
     "metadata": {},
     "output_type": "execute_result"
    }
   ],
   "source": [
    "last_session_creation_time_median = df['last_session_creation_time'].median()\n",
    "last_session_creation_time_median"
   ]
  },
  {
   "cell_type": "code",
   "execution_count": 16,
   "metadata": {},
   "outputs": [],
   "source": [
    "df['last_session_creation_time'] = df['last_session_creation_time'].fillna(value = last_session_creation_time_median)"
   ]
  },
  {
   "cell_type": "code",
   "execution_count": 17,
   "metadata": {},
   "outputs": [],
   "source": [
    "fill_invited_by_user_id = ['invited_by_user_id']"
   ]
  },
  {
   "cell_type": "code",
   "execution_count": 18,
   "metadata": {},
   "outputs": [],
   "source": [
    "df[fill_invited_by_user_id] = df[fill_invited_by_user_id].fillna(value=0, axis=1)"
   ]
  },
  {
   "cell_type": "markdown",
   "metadata": {},
   "source": [
    "All missing values have been filled."
   ]
  },
  {
   "cell_type": "code",
   "execution_count": 19,
   "metadata": {},
   "outputs": [
    {
     "data": {
      "text/plain": [
       "[]"
      ]
     },
     "execution_count": 19,
     "metadata": {},
     "output_type": "execute_result"
    }
   ],
   "source": [
    "null_value_columns = list(df.columns[(df.isnull().sum()>0) | (df.isna().sum()>0)])\n",
    "null_value_columns"
   ]
  },
  {
   "cell_type": "markdown",
   "metadata": {},
   "source": [
    "Frequency distributions of all features are examined for obviously erroneous values."
   ]
  },
  {
   "cell_type": "code",
   "execution_count": 20,
   "metadata": {
    "collapsed": true
   },
   "outputs": [
    {
     "data": {
      "text/plain": [
       "2012-09-01 07:22:09    2\n",
       "2014-02-11 17:57:53    2\n",
       "2012-09-14 21:35:03    2\n",
       "2013-05-25 04:35:52    2\n",
       "2014-03-12 01:46:02    1\n",
       "2014-05-18 07:58:14    1\n",
       "2014-04-29 14:02:21    1\n",
       "2013-06-18 06:16:26    1\n",
       "2012-06-21 05:56:23    1\n",
       "2013-01-30 12:45:39    1\n",
       "2013-05-27 13:59:31    1\n",
       "2013-10-26 20:11:44    1\n",
       "2014-03-18 09:57:25    1\n",
       "2012-07-20 23:56:45    1\n",
       "2014-01-20 07:46:58    1\n",
       "2012-08-16 10:31:23    1\n",
       "2012-07-18 23:31:38    1\n",
       "2013-06-09 02:38:11    1\n",
       "2013-08-21 15:08:21    1\n",
       "2012-08-06 09:11:02    1\n",
       "2014-05-26 07:06:29    1\n",
       "2013-01-12 22:39:52    1\n",
       "2013-03-31 20:03:08    1\n",
       "2014-01-11 01:42:28    1\n",
       "2013-02-07 02:31:15    1\n",
       "2013-12-05 10:08:12    1\n",
       "2013-06-14 08:41:36    1\n",
       "2014-05-27 21:45:15    1\n",
       "2012-10-31 12:37:23    1\n",
       "2014-01-07 13:29:49    1\n",
       "                      ..\n",
       "2013-05-13 19:01:53    1\n",
       "2012-10-21 22:13:00    1\n",
       "2013-01-11 11:52:35    1\n",
       "2014-02-02 13:43:10    1\n",
       "2012-07-04 11:08:10    1\n",
       "2013-12-29 22:14:29    1\n",
       "2013-04-15 19:30:51    1\n",
       "2014-05-22 12:57:12    1\n",
       "2012-09-11 22:44:04    1\n",
       "2012-08-24 17:31:47    1\n",
       "2013-12-21 22:13:48    1\n",
       "2012-09-23 22:32:51    1\n",
       "2012-08-13 20:25:13    1\n",
       "2014-04-28 17:12:11    1\n",
       "2012-06-16 09:36:47    1\n",
       "2013-04-04 09:30:56    1\n",
       "2014-04-06 15:20:41    1\n",
       "2014-04-14 02:21:39    1\n",
       "2012-11-15 04:49:40    1\n",
       "2014-05-28 06:14:03    1\n",
       "2014-05-28 22:59:48    1\n",
       "2013-10-26 22:46:25    1\n",
       "2012-08-30 06:46:12    1\n",
       "2013-05-26 20:51:51    1\n",
       "2012-11-18 10:30:57    1\n",
       "2013-10-28 19:12:09    1\n",
       "2012-09-14 07:54:02    1\n",
       "2013-10-27 13:04:37    1\n",
       "2012-12-31 16:08:40    1\n",
       "2012-06-27 13:50:32    1\n",
       "Name: creation_time, Length: 11996, dtype: int64"
      ]
     },
     "execution_count": 20,
     "metadata": {},
     "output_type": "execute_result"
    }
   ],
   "source": [
    "df['creation_time'].value_counts()"
   ]
  },
  {
   "cell_type": "code",
   "execution_count": 21,
   "metadata": {
    "collapsed": true
   },
   "outputs": [
    {
     "data": {
      "text/plain": [
       "Araujo Gabriela      5\n",
       "Cavalcanti Victor    5\n",
       "Azevedo Clara        4\n",
       "Costa Lavinia        4\n",
       "Correia Leonardo     4\n",
       "Souza Alice          4\n",
       "Azevedo Bruna        4\n",
       "Carvalho Bruna       4\n",
       "Cunha Melissa        4\n",
       "Costa Alice          4\n",
       "Souza Fernanda       4\n",
       "Pinto Isabela        3\n",
       "Correia Matilde      3\n",
       "Sousa Luan           3\n",
       "Ferreira Rodrigo     3\n",
       "Martins Isabela      3\n",
       "Correia Leonor       3\n",
       "Castro Matheus       3\n",
       "Barbosa Mateus       3\n",
       "Santos Emily         3\n",
       "Pereira Brenda       3\n",
       "Oliveira Rafael      3\n",
       "Bang Alberte         3\n",
       "Carvalho Carolina    3\n",
       "Rodrigues Sarah      3\n",
       "Melo Amanda          3\n",
       "Sousa Paulo          3\n",
       "Lima Emily           3\n",
       "Barbosa Felipe       3\n",
       "Cavalcanti Alice     3\n",
       "                    ..\n",
       "Heaney Steven        1\n",
       "Bach Andrea          1\n",
       "Jepsen Line          1\n",
       "Cawthorne Alana      1\n",
       "Oates Philip         1\n",
       "Krüger Florian       1\n",
       "Pickworth Chloe      1\n",
       "Urner Klaus          1\n",
       "Nussbaum Julia       1\n",
       "Robinson Noel        1\n",
       "Francis Bethany      1\n",
       "Cardoso Kauê         1\n",
       "Lund Michael         1\n",
       "Shakespeare Sara     1\n",
       "Shuler Ila           1\n",
       "Hatch Ann            1\n",
       "Holm Lasse           1\n",
       "Koch Trine           1\n",
       "Rasmussen Oscar      1\n",
       "Dahl Janet           1\n",
       "Mahler Thomas        1\n",
       "Mahler Christina     1\n",
       "Roper Aaron          1\n",
       "Reardon Andria       1\n",
       "Gary Brian           1\n",
       "Mulkey Maria         1\n",
       "Eisenberg Marko      1\n",
       "Tomholt Edward       1\n",
       "St Leon Caitlin      1\n",
       "Jensen Malou         1\n",
       "Name: name, Length: 11355, dtype: int64"
      ]
     },
     "execution_count": 21,
     "metadata": {},
     "output_type": "execute_result"
    }
   ],
   "source": [
    "df['name'].value_counts()"
   ]
  },
  {
   "cell_type": "code",
   "execution_count": 22,
   "metadata": {
    "collapsed": true
   },
   "outputs": [
    {
     "data": {
      "text/plain": [
       "AlfieLane@yahoo.com                   2\n",
       "PaigeWyatt@gmail.com                  2\n",
       "JaninaSankt@gmail.com                 2\n",
       "UlrikeGerste@gmail.com                2\n",
       "ThomasBrandt@gmail.com                2\n",
       "AmandaABach@gmail.com                 2\n",
       "KerstinNeudorf@gmail.com              2\n",
       "KristinKappel@yahoo.com               2\n",
       "LaerkeMBertelsen@gmail.com            2\n",
       "MaximilianWalter@gmail.com            2\n",
       "MarkoSeiler@yahoo.com                 2\n",
       "LasseLNrgaard@gmail.com               2\n",
       "MandySchroder@gustr.com               2\n",
       "TomSchiffer@gmail.com                 2\n",
       "MagnusSWinther@jourrapide.com         2\n",
       "LeonieDuerr@gmail.com                 2\n",
       "JacobTye@gmail.com                    2\n",
       "KlausMueller@gustr.com                2\n",
       "NicolaiSHolm@yahoo.com                2\n",
       "MimirMKarlsen@jourrapide.com          2\n",
       "EmilyAlmeidaFernandes@gmail.com       1\n",
       "LivaPSchmidt@gmail.com                1\n",
       "MaxCampbell@cuvox.de                  1\n",
       "AnnaStrauss@gmail.com                 1\n",
       "SofieMFrederiksen@cuvox.de            1\n",
       "WilliamMBristol@gustr.com             1\n",
       "BarbaraEgger@yahoo.com                1\n",
       "KatrinDietrich@jourrapide.com         1\n",
       "ImogenConway@jourrapide.com           1\n",
       "AmandaCavalcantiAraujo@yahoo.com      1\n",
       "                                     ..\n",
       "NansenCNygaard@gmail.com              1\n",
       "LaraSteere@jourrapide.com             1\n",
       "BeatrizAlmeidaRocha@jourrapide.com    1\n",
       "SelenaRMcNally@yahoo.com              1\n",
       "JanaSchweitzer@gmail.com              1\n",
       "LasseMJespersen@hotmail.com           1\n",
       "NicoleFriedman@cuvox.de               1\n",
       "DittePLind@gmail.com                  1\n",
       "DavidDPatterson@cuvox.de              1\n",
       "KatrinSchroder@gmail.com              1\n",
       "RasmusCBerg@gmail.com                 1\n",
       "MinnieRRodriguez@gmail.com            1\n",
       "StephenBMiles@gustr.com               1\n",
       "AndreSantosDias@gmail.com             1\n",
       "AngelikaZimmerman@cuvox.de            1\n",
       "trdmcxjz@wmupn.com                    1\n",
       "FernandaBarrosOliveira@gmail.com      1\n",
       "AdamNJakobsen@yahoo.com               1\n",
       "dbtsgbor@rkxiy.com                    1\n",
       "PhilipMJepsen@gmail.com               1\n",
       "SwenBader@jourrapide.com              1\n",
       "AnnabelleCarrodus@cuvox.de            1\n",
       "FrankFarber@cuvox.de                  1\n",
       "EduardoCunhaCardoso@gmail.com         1\n",
       "MarcoRichter@jourrapide.com           1\n",
       "MohammadGould@gustr.com               1\n",
       "AndreaFreitag@gmail.com               1\n",
       "TanishaDLehr@yahoo.com                1\n",
       "TrineNPoulsen@yahoo.com               1\n",
       "HeikeDrechsler@hotmail.com            1\n",
       "Name: email, Length: 11980, dtype: int64"
      ]
     },
     "execution_count": 22,
     "metadata": {},
     "output_type": "execute_result"
    }
   ],
   "source": [
    "df['email'].value_counts()"
   ]
  },
  {
   "cell_type": "code",
   "execution_count": 23,
   "metadata": {
    "scrolled": false
   },
   "outputs": [
    {
     "data": {
      "text/plain": [
       "ORG_INVITE            4254\n",
       "GUEST_INVITE          2163\n",
       "PERSONAL_PROJECTS     2111\n",
       "SIGNUP                2087\n",
       "SIGNUP_GOOGLE_AUTH    1385\n",
       "Name: creation_source, dtype: int64"
      ]
     },
     "execution_count": 23,
     "metadata": {},
     "output_type": "execute_result"
    }
   ],
   "source": [
    "df['creation_source'].value_counts()"
   ]
  },
  {
   "cell_type": "code",
   "execution_count": 24,
   "metadata": {
    "collapsed": true
   },
   "outputs": [
    {
     "data": {
      "text/plain": [
       "1.382888e+09    3178\n",
       "1.401917e+09       2\n",
       "1.401868e+09       2\n",
       "1.401014e+09       1\n",
       "1.369762e+09       1\n",
       "1.354298e+09       1\n",
       "1.377565e+09       1\n",
       "1.400788e+09       1\n",
       "1.387847e+09       1\n",
       "1.387843e+09       1\n",
       "1.354284e+09       1\n",
       "1.380393e+09       1\n",
       "1.387836e+09       1\n",
       "1.354275e+09       1\n",
       "1.387828e+09       1\n",
       "1.346755e+09       1\n",
       "1.400790e+09       1\n",
       "1.354262e+09       1\n",
       "1.354303e+09       1\n",
       "1.387863e+09       1\n",
       "1.387805e+09       1\n",
       "1.354310e+09       1\n",
       "1.399306e+09       1\n",
       "1.354314e+09       1\n",
       "1.387875e+09       1\n",
       "1.354326e+09       1\n",
       "1.387882e+09       1\n",
       "1.354330e+09       1\n",
       "1.384894e+09       1\n",
       "1.387897e+09       1\n",
       "                ... \n",
       "1.365626e+09       1\n",
       "1.378765e+09       1\n",
       "1.399191e+09       1\n",
       "1.349438e+09       1\n",
       "1.399195e+09       1\n",
       "1.399198e+09       1\n",
       "1.366827e+09       1\n",
       "1.365653e+09       1\n",
       "1.365657e+09       1\n",
       "1.365658e+09       1\n",
       "1.399217e+09       1\n",
       "1.365668e+09       1\n",
       "1.399224e+09       1\n",
       "1.399230e+09       1\n",
       "1.399272e+09       1\n",
       "1.399231e+09       1\n",
       "1.399233e+09       1\n",
       "1.365684e+09       1\n",
       "1.399239e+09       1\n",
       "1.399241e+09       1\n",
       "1.399247e+09       1\n",
       "1.385234e+09       1\n",
       "1.399251e+09       1\n",
       "1.365701e+09       1\n",
       "1.345820e+09       1\n",
       "1.365709e+09       1\n",
       "1.399264e+09       1\n",
       "1.399266e+09       1\n",
       "1.399271e+09       1\n",
       "1.393658e+09       1\n",
       "Name: last_session_creation_time, Length: 8821, dtype: int64"
      ]
     },
     "execution_count": 24,
     "metadata": {},
     "output_type": "execute_result"
    }
   ],
   "source": [
    "df['last_session_creation_time'].value_counts()"
   ]
  },
  {
   "cell_type": "code",
   "execution_count": 25,
   "metadata": {
    "scrolled": true
   },
   "outputs": [
    {
     "data": {
      "text/plain": [
       "0    9006\n",
       "1    2994\n",
       "Name: opted_in_to_mailing_list, dtype: int64"
      ]
     },
     "execution_count": 25,
     "metadata": {},
     "output_type": "execute_result"
    }
   ],
   "source": [
    "df['opted_in_to_mailing_list'].value_counts()"
   ]
  },
  {
   "cell_type": "code",
   "execution_count": 26,
   "metadata": {},
   "outputs": [
    {
     "data": {
      "text/plain": [
       "0    10208\n",
       "1     1792\n",
       "Name: enabled_for_marketing_drip, dtype: int64"
      ]
     },
     "execution_count": 26,
     "metadata": {},
     "output_type": "execute_result"
    }
   ],
   "source": [
    "df['enabled_for_marketing_drip'].value_counts()"
   ]
  },
  {
   "cell_type": "code",
   "execution_count": 27,
   "metadata": {
    "collapsed": true
   },
   "outputs": [
    {
     "data": {
      "text/plain": [
       "0      319\n",
       "1      233\n",
       "2      201\n",
       "3      168\n",
       "4      159\n",
       "6      138\n",
       "5      128\n",
       "9      124\n",
       "7      119\n",
       "10     104\n",
       "8       97\n",
       "14      87\n",
       "11      75\n",
       "12      75\n",
       "17      74\n",
       "18      73\n",
       "13      72\n",
       "16      72\n",
       "20      68\n",
       "15      64\n",
       "24      63\n",
       "25      62\n",
       "28      61\n",
       "23      60\n",
       "30      59\n",
       "22      58\n",
       "33      57\n",
       "40      57\n",
       "21      56\n",
       "27      55\n",
       "      ... \n",
       "399     13\n",
       "410     13\n",
       "322     12\n",
       "387     12\n",
       "346     12\n",
       "407     12\n",
       "295     12\n",
       "354     12\n",
       "344     12\n",
       "405     12\n",
       "381     12\n",
       "356     12\n",
       "301     12\n",
       "232     12\n",
       "364     11\n",
       "183     11\n",
       "365     11\n",
       "352     10\n",
       "353     10\n",
       "294     10\n",
       "378     10\n",
       "304     10\n",
       "395      9\n",
       "315      9\n",
       "355      9\n",
       "396      9\n",
       "400      8\n",
       "397      8\n",
       "386      7\n",
       "416      2\n",
       "Name: org_id, Length: 417, dtype: int64"
      ]
     },
     "execution_count": 27,
     "metadata": {},
     "output_type": "execute_result"
    }
   ],
   "source": [
    "df['org_id'].value_counts()"
   ]
  },
  {
   "cell_type": "code",
   "execution_count": 28,
   "metadata": {
    "collapsed": true
   },
   "outputs": [
    {
     "data": {
      "text/plain": [
       "0.0        5583\n",
       "10741.0      13\n",
       "2527.0       12\n",
       "1525.0       11\n",
       "2308.0       11\n",
       "11770.0      11\n",
       "4612.0       10\n",
       "7012.0       10\n",
       "10481.0      10\n",
       "4803.0       10\n",
       "6370.0       10\n",
       "4302.0       10\n",
       "8068.0       10\n",
       "1175.0       10\n",
       "2354.0       10\n",
       "10628.0      10\n",
       "2922.0        9\n",
       "8426.0        9\n",
       "6645.0        9\n",
       "9023.0        9\n",
       "6493.0        9\n",
       "3721.0        9\n",
       "9434.0        9\n",
       "3789.0        9\n",
       "6808.0        9\n",
       "3944.0        9\n",
       "7698.0        9\n",
       "4551.0        9\n",
       "7716.0        9\n",
       "8554.0        9\n",
       "           ... \n",
       "644.0         1\n",
       "8152.0        1\n",
       "294.0         1\n",
       "1944.0        1\n",
       "7879.0        1\n",
       "7587.0        1\n",
       "5938.0        1\n",
       "8139.0        1\n",
       "11857.0       1\n",
       "5885.0        1\n",
       "1875.0        1\n",
       "8890.0        1\n",
       "1784.0        1\n",
       "1509.0        1\n",
       "3928.0        1\n",
       "2831.0        1\n",
       "1158.0        1\n",
       "7348.0        1\n",
       "2578.0        1\n",
       "4747.0        1\n",
       "7658.0        1\n",
       "3455.0        1\n",
       "5454.0        1\n",
       "1586.0        1\n",
       "11293.0       1\n",
       "7941.0        1\n",
       "4134.0        1\n",
       "6101.0        1\n",
       "129.0         1\n",
       "594.0         1\n",
       "Name: invited_by_user_id, Length: 2565, dtype: int64"
      ]
     },
     "execution_count": 28,
     "metadata": {},
     "output_type": "execute_result"
    }
   ],
   "source": [
    "df['invited_by_user_id'].value_counts()"
   ]
  },
  {
   "cell_type": "markdown",
   "metadata": {},
   "source": [
    "There are no erroneous values that need to be corrected or imputed."
   ]
  },
  {
   "cell_type": "markdown",
   "metadata": {},
   "source": [
    "## Transformation of Date Features for Machine Learning Purposes"
   ]
  },
  {
   "cell_type": "markdown",
   "metadata": {},
   "source": [
    "The date features are unpacked into component integer features, as that is the only way they will be processed by the machine learning model."
   ]
  },
  {
   "cell_type": "code",
   "execution_count": 29,
   "metadata": {},
   "outputs": [
    {
     "data": {
      "text/plain": [
       "object_id\n",
       "1    2014-04-22 03:53:30\n",
       "Name: creation_time, dtype: object"
      ]
     },
     "execution_count": 29,
     "metadata": {},
     "output_type": "execute_result"
    }
   ],
   "source": [
    "df['creation_time'].head(1)"
   ]
  },
  {
   "cell_type": "code",
   "execution_count": 30,
   "metadata": {},
   "outputs": [
    {
     "data": {
      "text/plain": [
       "object_id\n",
       "1   2014-04-22 03:53:30\n",
       "Name: creation_time, dtype: datetime64[ns]"
      ]
     },
     "execution_count": 30,
     "metadata": {},
     "output_type": "execute_result"
    }
   ],
   "source": [
    "df['creation_time'] = pd.to_datetime(df['creation_time'])\n",
    "df['creation_time'].head(1)"
   ]
  },
  {
   "cell_type": "code",
   "execution_count": 31,
   "metadata": {},
   "outputs": [
    {
     "data": {
      "text/plain": [
       "object_id\n",
       "1    2014\n",
       "Name: creation_time_year, dtype: int64"
      ]
     },
     "execution_count": 31,
     "metadata": {},
     "output_type": "execute_result"
    }
   ],
   "source": [
    "df['creation_time_year'] = df['creation_time'].dt.year\n",
    "df['creation_time_year'].head(1)"
   ]
  },
  {
   "cell_type": "code",
   "execution_count": 32,
   "metadata": {},
   "outputs": [
    {
     "data": {
      "text/plain": [
       "object_id\n",
       "1    4\n",
       "Name: creation_time_month, dtype: int64"
      ]
     },
     "execution_count": 32,
     "metadata": {},
     "output_type": "execute_result"
    }
   ],
   "source": [
    "df['creation_time_month'] = df['creation_time'].dt.month\n",
    "df['creation_time_month'].head(1)"
   ]
  },
  {
   "cell_type": "code",
   "execution_count": 33,
   "metadata": {},
   "outputs": [
    {
     "data": {
      "text/plain": [
       "object_id\n",
       "1    22\n",
       "Name: creation_time_day, dtype: int64"
      ]
     },
     "execution_count": 33,
     "metadata": {},
     "output_type": "execute_result"
    }
   ],
   "source": [
    "df['creation_time_day'] = df['creation_time'].dt.day\n",
    "df['creation_time_day'].head(1)"
   ]
  },
  {
   "cell_type": "code",
   "execution_count": 34,
   "metadata": {},
   "outputs": [
    {
     "data": {
      "text/plain": [
       "object_id\n",
       "1    3\n",
       "Name: creation_time_hour, dtype: int64"
      ]
     },
     "execution_count": 34,
     "metadata": {},
     "output_type": "execute_result"
    }
   ],
   "source": [
    "df['creation_time_hour'] = df['creation_time'].dt.hour\n",
    "df['creation_time_hour'].head(1)"
   ]
  },
  {
   "cell_type": "code",
   "execution_count": 35,
   "metadata": {},
   "outputs": [
    {
     "data": {
      "text/plain": [
       "object_id\n",
       "1    53\n",
       "Name: creation_time_minute, dtype: int64"
      ]
     },
     "execution_count": 35,
     "metadata": {},
     "output_type": "execute_result"
    }
   ],
   "source": [
    "df['creation_time_minute'] = df['creation_time'].dt.minute\n",
    "df['creation_time_minute'].head(1)"
   ]
  },
  {
   "cell_type": "code",
   "execution_count": 36,
   "metadata": {},
   "outputs": [
    {
     "data": {
      "text/plain": [
       "object_id\n",
       "1    30\n",
       "Name: creation_time_seconds, dtype: int64"
      ]
     },
     "execution_count": 36,
     "metadata": {},
     "output_type": "execute_result"
    }
   ],
   "source": [
    "df['creation_time_seconds'] = df['creation_time'].dt.second\n",
    "df['creation_time_seconds'].head(1)"
   ]
  },
  {
   "cell_type": "markdown",
   "metadata": {},
   "source": [
    "Because all of the datetime components have been extracted into separate features, and because the machine learning model won't be able to work with a datetime feature, the 'creation_time' feature is dropped from the DataFrame. First, a separate .csv file is exported so that the distribution of the 'creation_source' variable can be more easily visualized below."
   ]
  },
  {
   "cell_type": "code",
   "execution_count": 37,
   "metadata": {},
   "outputs": [],
   "source": [
    "df.to_csv('relax_4_creation_source_viz.csv')"
   ]
  },
  {
   "cell_type": "code",
   "execution_count": 38,
   "metadata": {},
   "outputs": [],
   "source": [
    "df = df.drop(columns = 'creation_time')"
   ]
  },
  {
   "cell_type": "markdown",
   "metadata": {},
   "source": [
    "## Binarization of Categorical Features"
   ]
  },
  {
   "cell_type": "markdown",
   "metadata": {},
   "source": [
    "In order for the machine learning model to work, all categorical features need to be transformed into binary features. In other words, they need to be binarized. This is accomplished using pandas' '.get_dummies()' method."
   ]
  },
  {
   "cell_type": "code",
   "execution_count": 39,
   "metadata": {},
   "outputs": [
    {
     "data": {
      "text/html": [
       "<div>\n",
       "<style scoped>\n",
       "    .dataframe tbody tr th:only-of-type {\n",
       "        vertical-align: middle;\n",
       "    }\n",
       "\n",
       "    .dataframe tbody tr th {\n",
       "        vertical-align: top;\n",
       "    }\n",
       "\n",
       "    .dataframe thead th {\n",
       "        text-align: right;\n",
       "    }\n",
       "</style>\n",
       "<table border=\"1\" class=\"dataframe\">\n",
       "  <thead>\n",
       "    <tr style=\"text-align: right;\">\n",
       "      <th></th>\n",
       "      <th>name</th>\n",
       "      <th>email</th>\n",
       "      <th>last_session_creation_time</th>\n",
       "      <th>opted_in_to_mailing_list</th>\n",
       "      <th>enabled_for_marketing_drip</th>\n",
       "      <th>org_id</th>\n",
       "      <th>invited_by_user_id</th>\n",
       "      <th>last_session_creation_time_isnull</th>\n",
       "      <th>invited_by_user_id_isnull</th>\n",
       "      <th>creation_time_year</th>\n",
       "      <th>creation_time_month</th>\n",
       "      <th>creation_time_day</th>\n",
       "      <th>creation_time_hour</th>\n",
       "      <th>creation_time_minute</th>\n",
       "      <th>creation_time_seconds</th>\n",
       "      <th>creation_source_GUEST_INVITE</th>\n",
       "      <th>creation_source_ORG_INVITE</th>\n",
       "      <th>creation_source_PERSONAL_PROJECTS</th>\n",
       "      <th>creation_source_SIGNUP</th>\n",
       "      <th>creation_source_SIGNUP_GOOGLE_AUTH</th>\n",
       "    </tr>\n",
       "    <tr>\n",
       "      <th>object_id</th>\n",
       "      <th></th>\n",
       "      <th></th>\n",
       "      <th></th>\n",
       "      <th></th>\n",
       "      <th></th>\n",
       "      <th></th>\n",
       "      <th></th>\n",
       "      <th></th>\n",
       "      <th></th>\n",
       "      <th></th>\n",
       "      <th></th>\n",
       "      <th></th>\n",
       "      <th></th>\n",
       "      <th></th>\n",
       "      <th></th>\n",
       "      <th></th>\n",
       "      <th></th>\n",
       "      <th></th>\n",
       "      <th></th>\n",
       "      <th></th>\n",
       "    </tr>\n",
       "  </thead>\n",
       "  <tbody>\n",
       "    <tr>\n",
       "      <th>1</th>\n",
       "      <td>Clausen August</td>\n",
       "      <td>AugustCClausen@yahoo.com</td>\n",
       "      <td>1.398139e+09</td>\n",
       "      <td>1</td>\n",
       "      <td>0</td>\n",
       "      <td>11</td>\n",
       "      <td>10803.0</td>\n",
       "      <td>False</td>\n",
       "      <td>False</td>\n",
       "      <td>2014</td>\n",
       "      <td>4</td>\n",
       "      <td>22</td>\n",
       "      <td>3</td>\n",
       "      <td>53</td>\n",
       "      <td>30</td>\n",
       "      <td>1</td>\n",
       "      <td>0</td>\n",
       "      <td>0</td>\n",
       "      <td>0</td>\n",
       "      <td>0</td>\n",
       "    </tr>\n",
       "  </tbody>\n",
       "</table>\n",
       "</div>"
      ],
      "text/plain": [
       "                     name                     email  \\\n",
       "object_id                                             \n",
       "1          Clausen August  AugustCClausen@yahoo.com   \n",
       "\n",
       "           last_session_creation_time  opted_in_to_mailing_list  \\\n",
       "object_id                                                         \n",
       "1                        1.398139e+09                         1   \n",
       "\n",
       "           enabled_for_marketing_drip  org_id  invited_by_user_id  \\\n",
       "object_id                                                           \n",
       "1                                   0      11             10803.0   \n",
       "\n",
       "           last_session_creation_time_isnull  invited_by_user_id_isnull  \\\n",
       "object_id                                                                 \n",
       "1                                      False                      False   \n",
       "\n",
       "           creation_time_year  creation_time_month  creation_time_day  \\\n",
       "object_id                                                               \n",
       "1                        2014                    4                 22   \n",
       "\n",
       "           creation_time_hour  creation_time_minute  creation_time_seconds  \\\n",
       "object_id                                                                    \n",
       "1                           3                    53                     30   \n",
       "\n",
       "           creation_source_GUEST_INVITE  creation_source_ORG_INVITE  \\\n",
       "object_id                                                             \n",
       "1                                     1                           0   \n",
       "\n",
       "           creation_source_PERSONAL_PROJECTS  creation_source_SIGNUP  \\\n",
       "object_id                                                              \n",
       "1                                          0                       0   \n",
       "\n",
       "           creation_source_SIGNUP_GOOGLE_AUTH  \n",
       "object_id                                      \n",
       "1                                           0  "
      ]
     },
     "execution_count": 39,
     "metadata": {},
     "output_type": "execute_result"
    }
   ],
   "source": [
    "df = pd.get_dummies(df, columns = ['creation_source'])\n",
    "df.head(1)"
   ]
  },
  {
   "cell_type": "markdown",
   "metadata": {},
   "source": [
    "## Creation of Target Variable Using SQL and 'takehome_user_engagement' file"
   ]
  },
  {
   "cell_type": "markdown",
   "metadata": {},
   "source": [
    "In order to create the binary target variable 'adopted_user', user data needs to be merged in to identify those users who have ever logged into the product on three separate days in at least one seven-day period. Therefore, the 'takehome_user_engagement' file is read in and PyMySQL is used to merge it with the main DataFrame and identify adopted users through SQL window counting methods."
   ]
  },
  {
   "cell_type": "code",
   "execution_count": 40,
   "metadata": {},
   "outputs": [],
   "source": [
    "df_eng_data_path = '/Users/DanLoew/Documents/Academia/Springboard/DSCT/17.2.3 Relax Inc Take Home Challenge/relax_challenge/takehome_user_engagement.csv'\n",
    "df_eng = pd.read_csv(df_eng_data_path)"
   ]
  },
  {
   "cell_type": "code",
   "execution_count": 41,
   "metadata": {},
   "outputs": [
    {
     "data": {
      "text/html": [
       "<div>\n",
       "<style scoped>\n",
       "    .dataframe tbody tr th:only-of-type {\n",
       "        vertical-align: middle;\n",
       "    }\n",
       "\n",
       "    .dataframe tbody tr th {\n",
       "        vertical-align: top;\n",
       "    }\n",
       "\n",
       "    .dataframe thead th {\n",
       "        text-align: right;\n",
       "    }\n",
       "</style>\n",
       "<table border=\"1\" class=\"dataframe\">\n",
       "  <thead>\n",
       "    <tr style=\"text-align: right;\">\n",
       "      <th></th>\n",
       "      <th>time_stamp</th>\n",
       "      <th>user_id</th>\n",
       "      <th>visited</th>\n",
       "    </tr>\n",
       "  </thead>\n",
       "  <tbody>\n",
       "    <tr>\n",
       "      <th>0</th>\n",
       "      <td>2014-04-22 03:53:30</td>\n",
       "      <td>1</td>\n",
       "      <td>1</td>\n",
       "    </tr>\n",
       "    <tr>\n",
       "      <th>1</th>\n",
       "      <td>2013-11-15 03:45:04</td>\n",
       "      <td>2</td>\n",
       "      <td>1</td>\n",
       "    </tr>\n",
       "    <tr>\n",
       "      <th>2</th>\n",
       "      <td>2013-11-29 03:45:04</td>\n",
       "      <td>2</td>\n",
       "      <td>1</td>\n",
       "    </tr>\n",
       "    <tr>\n",
       "      <th>3</th>\n",
       "      <td>2013-12-09 03:45:04</td>\n",
       "      <td>2</td>\n",
       "      <td>1</td>\n",
       "    </tr>\n",
       "    <tr>\n",
       "      <th>4</th>\n",
       "      <td>2013-12-25 03:45:04</td>\n",
       "      <td>2</td>\n",
       "      <td>1</td>\n",
       "    </tr>\n",
       "  </tbody>\n",
       "</table>\n",
       "</div>"
      ],
      "text/plain": [
       "            time_stamp  user_id  visited\n",
       "0  2014-04-22 03:53:30        1        1\n",
       "1  2013-11-15 03:45:04        2        1\n",
       "2  2013-11-29 03:45:04        2        1\n",
       "3  2013-12-09 03:45:04        2        1\n",
       "4  2013-12-25 03:45:04        2        1"
      ]
     },
     "execution_count": 41,
     "metadata": {},
     "output_type": "execute_result"
    }
   ],
   "source": [
    "df_eng.head()"
   ]
  },
  {
   "cell_type": "code",
   "execution_count": 42,
   "metadata": {},
   "outputs": [
    {
     "data": {
      "text/html": [
       "<div>\n",
       "<style scoped>\n",
       "    .dataframe tbody tr th:only-of-type {\n",
       "        vertical-align: middle;\n",
       "    }\n",
       "\n",
       "    .dataframe tbody tr th {\n",
       "        vertical-align: top;\n",
       "    }\n",
       "\n",
       "    .dataframe thead th {\n",
       "        text-align: right;\n",
       "    }\n",
       "</style>\n",
       "<table border=\"1\" class=\"dataframe\">\n",
       "  <thead>\n",
       "    <tr style=\"text-align: right;\">\n",
       "      <th></th>\n",
       "      <th>time_stamp</th>\n",
       "      <th>user_id</th>\n",
       "      <th>visited</th>\n",
       "    </tr>\n",
       "  </thead>\n",
       "  <tbody>\n",
       "    <tr>\n",
       "      <th>207912</th>\n",
       "      <td>2013-09-06 06:14:15</td>\n",
       "      <td>11996</td>\n",
       "      <td>1</td>\n",
       "    </tr>\n",
       "    <tr>\n",
       "      <th>207913</th>\n",
       "      <td>2013-01-15 18:28:37</td>\n",
       "      <td>11997</td>\n",
       "      <td>1</td>\n",
       "    </tr>\n",
       "    <tr>\n",
       "      <th>207914</th>\n",
       "      <td>2014-04-27 12:45:16</td>\n",
       "      <td>11998</td>\n",
       "      <td>1</td>\n",
       "    </tr>\n",
       "    <tr>\n",
       "      <th>207915</th>\n",
       "      <td>2012-06-02 11:55:59</td>\n",
       "      <td>11999</td>\n",
       "      <td>1</td>\n",
       "    </tr>\n",
       "    <tr>\n",
       "      <th>207916</th>\n",
       "      <td>2014-01-26 08:57:12</td>\n",
       "      <td>12000</td>\n",
       "      <td>1</td>\n",
       "    </tr>\n",
       "  </tbody>\n",
       "</table>\n",
       "</div>"
      ],
      "text/plain": [
       "                 time_stamp  user_id  visited\n",
       "207912  2013-09-06 06:14:15    11996        1\n",
       "207913  2013-01-15 18:28:37    11997        1\n",
       "207914  2014-04-27 12:45:16    11998        1\n",
       "207915  2012-06-02 11:55:59    11999        1\n",
       "207916  2014-01-26 08:57:12    12000        1"
      ]
     },
     "execution_count": 42,
     "metadata": {},
     "output_type": "execute_result"
    }
   ],
   "source": [
    "df_eng.tail()"
   ]
  },
  {
   "cell_type": "code",
   "execution_count": 43,
   "metadata": {},
   "outputs": [
    {
     "data": {
      "text/plain": [
       "1    207917\n",
       "Name: visited, dtype: int64"
      ]
     },
     "execution_count": 43,
     "metadata": {},
     "output_type": "execute_result"
    }
   ],
   "source": [
    "df_eng['visited'].value_counts()"
   ]
  },
  {
   "cell_type": "code",
   "execution_count": 44,
   "metadata": {},
   "outputs": [
    {
     "data": {
      "text/plain": [
       "0   2014-04-22 03:53:30\n",
       "Name: time_stamp_dt, dtype: datetime64[ns]"
      ]
     },
     "execution_count": 44,
     "metadata": {},
     "output_type": "execute_result"
    }
   ],
   "source": [
    "df_eng['time_stamp_dt'] = pd.to_datetime(df_eng['time_stamp'])\n",
    "df_eng['time_stamp_dt'].head(1)"
   ]
  },
  {
   "cell_type": "code",
   "execution_count": 45,
   "metadata": {},
   "outputs": [
    {
     "data": {
      "text/plain": [
       "0    2014-04-22\n",
       "Name: time_stamp_ymd, dtype: period[D]"
      ]
     },
     "execution_count": 45,
     "metadata": {},
     "output_type": "execute_result"
    }
   ],
   "source": [
    "df_eng['time_stamp_ymd'] = df_eng['time_stamp_dt'].dt.to_period('D')\n",
    "df_eng['time_stamp_ymd'].head(1)"
   ]
  },
  {
   "cell_type": "code",
   "execution_count": 46,
   "metadata": {},
   "outputs": [
    {
     "data": {
      "text/html": [
       "<div>\n",
       "<style scoped>\n",
       "    .dataframe tbody tr th:only-of-type {\n",
       "        vertical-align: middle;\n",
       "    }\n",
       "\n",
       "    .dataframe tbody tr th {\n",
       "        vertical-align: top;\n",
       "    }\n",
       "\n",
       "    .dataframe thead th {\n",
       "        text-align: right;\n",
       "    }\n",
       "</style>\n",
       "<table border=\"1\" class=\"dataframe\">\n",
       "  <thead>\n",
       "    <tr style=\"text-align: right;\">\n",
       "      <th></th>\n",
       "      <th>time_stamp</th>\n",
       "      <th>user_id</th>\n",
       "      <th>visited</th>\n",
       "      <th>time_stamp_dt</th>\n",
       "      <th>time_stamp_ymd</th>\n",
       "    </tr>\n",
       "  </thead>\n",
       "  <tbody>\n",
       "    <tr>\n",
       "      <th>0</th>\n",
       "      <td>2014-04-22 03:53:30</td>\n",
       "      <td>1</td>\n",
       "      <td>1</td>\n",
       "      <td>2014-04-22 03:53:30</td>\n",
       "      <td>2014-04-22</td>\n",
       "    </tr>\n",
       "  </tbody>\n",
       "</table>\n",
       "</div>"
      ],
      "text/plain": [
       "            time_stamp  user_id  visited       time_stamp_dt time_stamp_ymd\n",
       "0  2014-04-22 03:53:30        1        1 2014-04-22 03:53:30     2014-04-22"
      ]
     },
     "execution_count": 46,
     "metadata": {},
     "output_type": "execute_result"
    }
   ],
   "source": [
    "df_eng.head(1)"
   ]
  },
  {
   "cell_type": "code",
   "execution_count": 47,
   "metadata": {
    "scrolled": true
   },
   "outputs": [
    {
     "data": {
      "text/plain": [
       "[Timestamp('2012-05-31 00:00:00', freq='7D'),\n",
       " Timestamp('2012-06-07 00:00:00', freq='7D'),\n",
       " Timestamp('2012-06-14 00:00:00', freq='7D'),\n",
       " Timestamp('2012-06-21 00:00:00', freq='7D'),\n",
       " Timestamp('2012-06-28 00:00:00', freq='7D')]"
      ]
     },
     "execution_count": 47,
     "metadata": {},
     "output_type": "execute_result"
    }
   ],
   "source": [
    "date1_ls = list(pd.date_range(start='2012-05-31', end='2014-06-07', freq='7D'))\n",
    "date1_ls[0:5]"
   ]
  },
  {
   "cell_type": "code",
   "execution_count": 48,
   "metadata": {},
   "outputs": [
    {
     "data": {
      "text/plain": [
       "[Timestamp('2012-06-06 00:00:00', freq='7D'),\n",
       " Timestamp('2012-06-13 00:00:00', freq='7D'),\n",
       " Timestamp('2012-06-20 00:00:00', freq='7D'),\n",
       " Timestamp('2012-06-27 00:00:00', freq='7D'),\n",
       " Timestamp('2012-07-04 00:00:00', freq='7D')]"
      ]
     },
     "execution_count": 48,
     "metadata": {},
     "output_type": "execute_result"
    }
   ],
   "source": [
    "date2_ls = list(pd.date_range(start='2012-06-06', end='2014-06-14', freq='7D'))\n",
    "date2_ls[0:5]"
   ]
  },
  {
   "cell_type": "code",
   "execution_count": 49,
   "metadata": {},
   "outputs": [],
   "source": [
    "adopted_users = []\n",
    "for date1, date2 in zip(date1_ls, date2_ls):\n",
    "    week = df_eng[(df_eng.time_stamp_ymd >= date1) & (df_eng.time_stamp_ymd < date2)]\n",
    "    week_login_counts = week.groupby(pd.Grouper(key='user_id')).count()\n",
    "    week_login_counts_gt2 = week_login_counts[week_login_counts.visited > 2]\n",
    "    adopted_users.extend(week_login_counts_gt2.index.values)"
   ]
  },
  {
   "cell_type": "code",
   "execution_count": 50,
   "metadata": {
    "collapsed": true
   },
   "outputs": [
    {
     "data": {
      "text/plain": [
       "[728,\n",
       " 1693,\n",
       " 5297,\n",
       " 69,\n",
       " 69,\n",
       " 197,\n",
       " 2078,\n",
       " 7529,\n",
       " 7590,\n",
       " 9312,\n",
       " 510,\n",
       " 1280,\n",
       " 2915,\n",
       " 6978,\n",
       " 7529,\n",
       " 69,\n",
       " 510,\n",
       " 3623,\n",
       " 4582,\n",
       " 5939,\n",
       " 6050,\n",
       " 7529,\n",
       " 8259,\n",
       " 9434,\n",
       " 69,\n",
       " 3641,\n",
       " 5939,\n",
       " 6171,\n",
       " 6978,\n",
       " 8068,\n",
       " 8708,\n",
       " 11083,\n",
       " 2042,\n",
       " 3623,\n",
       " 5297,\n",
       " 8068,\n",
       " 9083,\n",
       " 906,\n",
       " 2568,\n",
       " 3623,\n",
       " 3717,\n",
       " 4019,\n",
       " 5609,\n",
       " 6978,\n",
       " 7210,\n",
       " 8068,\n",
       " 8280,\n",
       " 11764,\n",
       " 2042,\n",
       " 2610,\n",
       " 2787,\n",
       " 4022,\n",
       " 4619,\n",
       " 5297,\n",
       " 5939,\n",
       " 6171,\n",
       " 6978,\n",
       " 7210,\n",
       " 7529,\n",
       " 8029,\n",
       " 9345,\n",
       " 9728,\n",
       " 69,\n",
       " 2474,\n",
       " 3623,\n",
       " 4022,\n",
       " 5609,\n",
       " 6370,\n",
       " 6851,\n",
       " 7023,\n",
       " 7572,\n",
       " 8029,\n",
       " 8068,\n",
       " 8280,\n",
       " 8426,\n",
       " 8679,\n",
       " 9402,\n",
       " 9510,\n",
       " 728,\n",
       " 912,\n",
       " 1280,\n",
       " 1811,\n",
       " 5240,\n",
       " 5609,\n",
       " 5705,\n",
       " 6050,\n",
       " 6978,\n",
       " 8029,\n",
       " 8034,\n",
       " 8068,\n",
       " 8259,\n",
       " 8426,\n",
       " 9402,\n",
       " 9434,\n",
       " 9571,\n",
       " 69,\n",
       " 906,\n",
       " 1811,\n",
       " 1865,\n",
       " 2568,\n",
       " 2744,\n",
       " 3623,\n",
       " 4022,\n",
       " 4269,\n",
       " 5101,\n",
       " 5378,\n",
       " 5939,\n",
       " 6050,\n",
       " 6312,\n",
       " 6405,\n",
       " 6506,\n",
       " 7210,\n",
       " 7351,\n",
       " 7572,\n",
       " 7590,\n",
       " 8034,\n",
       " 8068,\n",
       " 8259,\n",
       " 8280,\n",
       " 8426,\n",
       " 9312,\n",
       " 9402,\n",
       " 9532,\n",
       " 69,\n",
       " 510,\n",
       " 906,\n",
       " 1280,\n",
       " 1811,\n",
       " 2316,\n",
       " 2474,\n",
       " 2744,\n",
       " 2787,\n",
       " 3240,\n",
       " 3269,\n",
       " 3623,\n",
       " 3642,\n",
       " 4243,\n",
       " 4269,\n",
       " 4839,\n",
       " 4924,\n",
       " 5297,\n",
       " 6134,\n",
       " 6851,\n",
       " 6978,\n",
       " 7023,\n",
       " 7920,\n",
       " 8029,\n",
       " 8280,\n",
       " 9402,\n",
       " 9532,\n",
       " 9728,\n",
       " 11015,\n",
       " 11083,\n",
       " 69,\n",
       " 510,\n",
       " 906,\n",
       " 912,\n",
       " 2253,\n",
       " 2316,\n",
       " 2474,\n",
       " 3269,\n",
       " 3623,\n",
       " 4019,\n",
       " 5297,\n",
       " 5386,\n",
       " 5721,\n",
       " 6050,\n",
       " 6204,\n",
       " 6258,\n",
       " 6978,\n",
       " 7590,\n",
       " 8029,\n",
       " 8068,\n",
       " 8426,\n",
       " 9083,\n",
       " 9312,\n",
       " 9402,\n",
       " 9486,\n",
       " 10869,\n",
       " 11083,\n",
       " 906,\n",
       " 1811,\n",
       " 1822,\n",
       " 2771,\n",
       " 4269,\n",
       " 4924,\n",
       " 5057,\n",
       " 5115,\n",
       " 5297,\n",
       " 5600,\n",
       " 5609,\n",
       " 6134,\n",
       " 7023,\n",
       " 7120,\n",
       " 7209,\n",
       " 7590,\n",
       " 7618,\n",
       " 7641,\n",
       " 7683,\n",
       " 8029,\n",
       " 8068,\n",
       " 8280,\n",
       " 8371,\n",
       " 8553,\n",
       " 9083,\n",
       " 9345,\n",
       " 9402,\n",
       " 9532,\n",
       " 10763,\n",
       " 10869,\n",
       " 11015,\n",
       " 11300,\n",
       " 11450,\n",
       " 11688,\n",
       " 69,\n",
       " 197,\n",
       " 906,\n",
       " 912,\n",
       " 1055,\n",
       " 1693,\n",
       " 1822,\n",
       " 2474,\n",
       " 2519,\n",
       " 2658,\n",
       " 2744,\n",
       " 2787,\n",
       " 3067,\n",
       " 3139,\n",
       " 3623,\n",
       " 4019,\n",
       " 4022,\n",
       " 4243,\n",
       " 4255,\n",
       " 4742,\n",
       " 4924,\n",
       " 5297,\n",
       " 5378,\n",
       " 5600,\n",
       " 5609,\n",
       " 5721,\n",
       " 5939,\n",
       " 6050,\n",
       " 6171,\n",
       " 6258,\n",
       " 6978,\n",
       " 7173,\n",
       " 7590,\n",
       " 8029,\n",
       " 8068,\n",
       " 8280,\n",
       " 9312,\n",
       " 9345,\n",
       " 9402,\n",
       " 9532,\n",
       " 9601,\n",
       " 10053,\n",
       " 10734,\n",
       " 10869,\n",
       " 10953,\n",
       " 553,\n",
       " 603,\n",
       " 906,\n",
       " 912,\n",
       " 1055,\n",
       " 1811,\n",
       " 1822,\n",
       " 2316,\n",
       " 2474,\n",
       " 2744,\n",
       " 2771,\n",
       " 2787,\n",
       " 3066,\n",
       " 3067,\n",
       " 3411,\n",
       " 3567,\n",
       " 3623,\n",
       " 3641,\n",
       " 4835,\n",
       " 4924,\n",
       " 5057,\n",
       " 5101,\n",
       " 5240,\n",
       " 5415,\n",
       " 5609,\n",
       " 5721,\n",
       " 6312,\n",
       " 6653,\n",
       " 6759,\n",
       " 6978,\n",
       " 7023,\n",
       " 7120,\n",
       " 7210,\n",
       " 7572,\n",
       " 7590,\n",
       " 7991,\n",
       " 8068,\n",
       " 9083,\n",
       " 9402,\n",
       " 9434,\n",
       " 9601,\n",
       " 9691,\n",
       " 9728,\n",
       " 10734,\n",
       " 11015,\n",
       " 11186,\n",
       " 11450,\n",
       " 69,\n",
       " 445,\n",
       " 906,\n",
       " 912,\n",
       " 1055,\n",
       " 1811,\n",
       " 1822,\n",
       " 2316,\n",
       " 2474,\n",
       " 2519,\n",
       " 2568,\n",
       " 2658,\n",
       " 2787,\n",
       " 3071,\n",
       " 3226,\n",
       " 3269,\n",
       " 3411,\n",
       " 3623,\n",
       " 3960,\n",
       " 4019,\n",
       " 4022,\n",
       " 4354,\n",
       " 4924,\n",
       " 5225,\n",
       " 5386,\n",
       " 5415,\n",
       " 5600,\n",
       " 5609,\n",
       " 6312,\n",
       " 6405,\n",
       " 6978,\n",
       " 7023,\n",
       " 7120,\n",
       " 7153,\n",
       " 7536,\n",
       " 7572,\n",
       " 8029,\n",
       " 8068,\n",
       " 8259,\n",
       " 8280,\n",
       " 8426,\n",
       " 9281,\n",
       " 9312,\n",
       " 9402,\n",
       " 9434,\n",
       " 9691,\n",
       " 10734,\n",
       " 11015,\n",
       " 445,\n",
       " 603,\n",
       " 906,\n",
       " 912,\n",
       " 1055,\n",
       " 1525,\n",
       " 1811,\n",
       " 1822,\n",
       " 2078,\n",
       " 2316,\n",
       " 2474,\n",
       " 2519,\n",
       " 2539,\n",
       " 2658,\n",
       " 2744,\n",
       " 2771,\n",
       " 3046,\n",
       " 3066,\n",
       " 3139,\n",
       " 3226,\n",
       " 3269,\n",
       " 3411,\n",
       " 3560,\n",
       " 3623,\n",
       " 4019,\n",
       " 4234,\n",
       " 5101,\n",
       " 5240,\n",
       " 5297,\n",
       " 5415,\n",
       " 5609,\n",
       " 5682,\n",
       " 5705,\n",
       " 5721,\n",
       " 6050,\n",
       " 6134,\n",
       " 6312,\n",
       " 6506,\n",
       " 6978,\n",
       " 7023,\n",
       " 7107,\n",
       " 7120,\n",
       " 7153,\n",
       " 7205,\n",
       " 7210,\n",
       " 7375,\n",
       " 7789,\n",
       " 8029,\n",
       " 8068,\n",
       " 8259,\n",
       " 8280,\n",
       " 8310,\n",
       " 8426,\n",
       " 8553,\n",
       " 8768,\n",
       " 9060,\n",
       " 9281,\n",
       " 9312,\n",
       " 9402,\n",
       " 9532,\n",
       " 9728,\n",
       " 10258,\n",
       " 10599,\n",
       " 10734,\n",
       " 11015,\n",
       " 11300,\n",
       " 69,\n",
       " 445,\n",
       " 603,\n",
       " 906,\n",
       " 912,\n",
       " 1339,\n",
       " 1693,\n",
       " 1811,\n",
       " 1822,\n",
       " 2042,\n",
       " 2474,\n",
       " 2610,\n",
       " 2744,\n",
       " 3139,\n",
       " 3175,\n",
       " 3269,\n",
       " 3623,\n",
       " 3642,\n",
       " 3819,\n",
       " 4019,\n",
       " 4243,\n",
       " 4263,\n",
       " 4489,\n",
       " 4612,\n",
       " 4974,\n",
       " 5609,\n",
       " 6050,\n",
       " 6370,\n",
       " 6637,\n",
       " 6978,\n",
       " 7023,\n",
       " 7107,\n",
       " 7120,\n",
       " 7153,\n",
       " 7511,\n",
       " 7590,\n",
       " 7641,\n",
       " 8068,\n",
       " 8259,\n",
       " 8280,\n",
       " 8426,\n",
       " 8553,\n",
       " 8768,\n",
       " 9042,\n",
       " 9281,\n",
       " 9345,\n",
       " 9402,\n",
       " 9481,\n",
       " 9486,\n",
       " 9532,\n",
       " 9728,\n",
       " 10734,\n",
       " 11015,\n",
       " 11083,\n",
       " 11186,\n",
       " 11267,\n",
       " 11688,\n",
       " 197,\n",
       " 509,\n",
       " 603,\n",
       " 783,\n",
       " 906,\n",
       " 912,\n",
       " 1693,\n",
       " 1811,\n",
       " 2316,\n",
       " 2474,\n",
       " 2539,\n",
       " 2568,\n",
       " 2622,\n",
       " 2744,\n",
       " 3139,\n",
       " 3175,\n",
       " 3226,\n",
       " 3269,\n",
       " 3623,\n",
       " 4019,\n",
       " 4282,\n",
       " 4793,\n",
       " 4835,\n",
       " 5057,\n",
       " 5240,\n",
       " 5281,\n",
       " 5939,\n",
       " 6050,\n",
       " 6134,\n",
       " 6171,\n",
       " 6312,\n",
       " 6978,\n",
       " 7023,\n",
       " 7107,\n",
       " 7120,\n",
       " 7536,\n",
       " 7590,\n",
       " 7600,\n",
       " 7618,\n",
       " 8029,\n",
       " 8068,\n",
       " 8259,\n",
       " 8426,\n",
       " 8912,\n",
       " 9281,\n",
       " 9312,\n",
       " 9402,\n",
       " 9434,\n",
       " 9481,\n",
       " 10526,\n",
       " 10734,\n",
       " 10763,\n",
       " 10791,\n",
       " 10869,\n",
       " 10945,\n",
       " 10953,\n",
       " 11015,\n",
       " 11083,\n",
       " 11240,\n",
       " 11688,\n",
       " 445,\n",
       " 603,\n",
       " 906,\n",
       " 1027,\n",
       " 1055,\n",
       " 1479,\n",
       " 1561,\n",
       " 1693,\n",
       " 1811,\n",
       " 1822,\n",
       " 1865,\n",
       " 2042,\n",
       " 2078,\n",
       " 2333,\n",
       " 2474,\n",
       " 2519,\n",
       " 2658,\n",
       " 2744,\n",
       " 3046,\n",
       " 3067,\n",
       " 3113,\n",
       " 3226,\n",
       " 3269,\n",
       " 3623,\n",
       " 3812,\n",
       " 4019,\n",
       " 4402,\n",
       " 4489,\n",
       " 4803,\n",
       " 4924,\n",
       " 5057,\n",
       " 5101,\n",
       " 5281,\n",
       " 5369,\n",
       " 6050,\n",
       " 6134,\n",
       " 6171,\n",
       " 6282,\n",
       " 6590,\n",
       " 7023,\n",
       " 7120,\n",
       " 7205,\n",
       " 7210,\n",
       " 7375,\n",
       " 7572,\n",
       " 7590,\n",
       " 7641,\n",
       " 8029,\n",
       " 8068,\n",
       " 8280,\n",
       " 8381,\n",
       " 9083,\n",
       " 9281,\n",
       " 9286,\n",
       " 9312,\n",
       " 9400,\n",
       " 9402,\n",
       " 9434,\n",
       " 9450,\n",
       " 9728,\n",
       " 10734,\n",
       " 10763,\n",
       " 10953,\n",
       " 11083,\n",
       " 11186,\n",
       " 11688,\n",
       " 11730,\n",
       " 445,\n",
       " 603,\n",
       " 728,\n",
       " 772,\n",
       " 906,\n",
       " 1155,\n",
       " 1479,\n",
       " 1811,\n",
       " 1822,\n",
       " 2042,\n",
       " 2474,\n",
       " 2519,\n",
       " 2539,\n",
       " 2622,\n",
       " 2744,\n",
       " 3046,\n",
       " 3139,\n",
       " 3226,\n",
       " 3269,\n",
       " 3411,\n",
       " 3623,\n",
       " 3819,\n",
       " 3957,\n",
       " 4019,\n",
       " 4022,\n",
       " 4282,\n",
       " 4354,\n",
       " 4489,\n",
       " 4742,\n",
       " 4780,\n",
       " 4974,\n",
       " 5281,\n",
       " 5682,\n",
       " 6204,\n",
       " 6312,\n",
       " 6506,\n",
       " 6909,\n",
       " 7023,\n",
       " 7120,\n",
       " 7210,\n",
       " 7590,\n",
       " 8029,\n",
       " 8259,\n",
       " 8280,\n",
       " 8426,\n",
       " 8768,\n",
       " 9042,\n",
       " 9281,\n",
       " 9286,\n",
       " 9312,\n",
       " 9402,\n",
       " 9434,\n",
       " 9532,\n",
       " 9535,\n",
       " 10734,\n",
       " 10945,\n",
       " 11015,\n",
       " 11688,\n",
       " 69,\n",
       " 445,\n",
       " 510,\n",
       " 603,\n",
       " 679,\n",
       " 906,\n",
       " 934,\n",
       " 1055,\n",
       " 1202,\n",
       " 1754,\n",
       " 1811,\n",
       " 1822,\n",
       " 2042,\n",
       " 2078,\n",
       " 2316,\n",
       " 2447,\n",
       " 2474,\n",
       " 2519,\n",
       " 2771,\n",
       " 3139,\n",
       " 3226,\n",
       " 3269,\n",
       " 3623,\n",
       " 4019,\n",
       " 4022,\n",
       " 4263,\n",
       " 4282,\n",
       " 4489,\n",
       " 4612,\n",
       " 4742,\n",
       " 5101,\n",
       " 5240,\n",
       " 5378,\n",
       " 5939,\n",
       " 6126,\n",
       " 6134,\n",
       " 6204,\n",
       " 6258,\n",
       " 6282,\n",
       " 6312,\n",
       " 6370,\n",
       " 6504,\n",
       " 6914,\n",
       " 7023,\n",
       " 7120,\n",
       " 7210,\n",
       " 7375,\n",
       " 7511,\n",
       " 7590,\n",
       " 7641,\n",
       " 7789,\n",
       " 7899,\n",
       " 7926,\n",
       " 8029,\n",
       " 8068,\n",
       " 8259,\n",
       " 8280,\n",
       " 8426,\n",
       " 8768,\n",
       " 9042,\n",
       " 9083,\n",
       " 9281,\n",
       " 9286,\n",
       " 9312,\n",
       " 9402,\n",
       " 9434,\n",
       " 9532,\n",
       " 9601,\n",
       " 9728,\n",
       " 10507,\n",
       " 10734,\n",
       " 10811,\n",
       " 10945,\n",
       " 11032,\n",
       " 11160,\n",
       " 11186,\n",
       " 11267,\n",
       " 11688,\n",
       " 603,\n",
       " 679,\n",
       " 728,\n",
       " 783,\n",
       " 906,\n",
       " 912,\n",
       " 1055,\n",
       " 1202,\n",
       " 1811,\n",
       " 1822,\n",
       " 2042,\n",
       " 2316,\n",
       " 2447,\n",
       " 2474,\n",
       " 2490,\n",
       " 2519,\n",
       " 2622,\n",
       " 2658,\n",
       " 2771,\n",
       " 2915,\n",
       " 3226,\n",
       " 3269,\n",
       " 3623,\n",
       " 3642,\n",
       " 4019,\n",
       " 4022,\n",
       " 4489,\n",
       " 4803,\n",
       " 4924,\n",
       " 4934,\n",
       " 5101,\n",
       " 5281,\n",
       " 5297,\n",
       " 5600,\n",
       " 5677,\n",
       " 5705,\n",
       " 5721,\n",
       " 6050,\n",
       " 6171,\n",
       " 6204,\n",
       " 6370,\n",
       " 6590,\n",
       " 6757,\n",
       " 6978,\n",
       " 7023,\n",
       " 7107,\n",
       " 7120,\n",
       " 7205,\n",
       " 7209,\n",
       " 7431,\n",
       " 7538,\n",
       " 7590,\n",
       " 7899,\n",
       " 8029,\n",
       " 8068,\n",
       " 8259,\n",
       " 8280,\n",
       " 8310,\n",
       " 8768,\n",
       " 8809,\n",
       " 9281,\n",
       " 9286,\n",
       " 9312,\n",
       " 9400,\n",
       " 9402,\n",
       " 9434,\n",
       " 9532,\n",
       " 9535,\n",
       " 9691,\n",
       " 9825,\n",
       " 10258,\n",
       " 10320,\n",
       " 10352,\n",
       " 10371,\n",
       " 10763,\n",
       " 10953,\n",
       " 11195,\n",
       " 11300,\n",
       " 69,\n",
       " 445,\n",
       " 603,\n",
       " 728,\n",
       " 754,\n",
       " 906,\n",
       " 912,\n",
       " 934,\n",
       " 1155,\n",
       " 1709,\n",
       " 1811,\n",
       " 1822,\n",
       " 1865,\n",
       " 2042,\n",
       " 2111,\n",
       " 2300,\n",
       " 2316,\n",
       " 2474,\n",
       " 2490,\n",
       " 2519,\n",
       " 2658,\n",
       " 2771,\n",
       " 3066,\n",
       " 3113,\n",
       " 3226,\n",
       " 3269,\n",
       " 3623,\n",
       " 4019,\n",
       " 4022,\n",
       " 4234,\n",
       " 4263,\n",
       " 4489,\n",
       " 4612,\n",
       " 4785,\n",
       " 4803,\n",
       " 4835,\n",
       " 4924,\n",
       " 4934,\n",
       " 5057,\n",
       " 5101,\n",
       " 5369,\n",
       " 5609,\n",
       " 5721,\n",
       " 6134,\n",
       " 6135,\n",
       " 6204,\n",
       " 6312,\n",
       " 6637,\n",
       " 6757,\n",
       " 6978,\n",
       " 7153,\n",
       " 7205,\n",
       " 7209,\n",
       " 7210,\n",
       " 7572,\n",
       " 7590,\n",
       " 7789,\n",
       " 7839,\n",
       " 8029,\n",
       " 8068,\n",
       " 8280,\n",
       " 8426,\n",
       " 8768,\n",
       " 9083,\n",
       " 9281,\n",
       " 9312,\n",
       " 9390,\n",
       " 9402,\n",
       " 9434,\n",
       " 9450,\n",
       " 9532,\n",
       " 9535,\n",
       " 9558,\n",
       " 9724,\n",
       " 10307,\n",
       " 10599,\n",
       " 10734,\n",
       " 10763,\n",
       " 10791,\n",
       " 10953,\n",
       " 11015,\n",
       " 11083,\n",
       " 11186,\n",
       " 11688,\n",
       " 197,\n",
       " 445,\n",
       " 509,\n",
       " 553,\n",
       " 603,\n",
       " 728,\n",
       " 906,\n",
       " 912,\n",
       " 1055,\n",
       " 1202,\n",
       " 1769,\n",
       " 1811,\n",
       " 1822,\n",
       " 2078,\n",
       " 2316,\n",
       " 2425,\n",
       " 2447,\n",
       " 2474,\n",
       " 2519,\n",
       " 2622,\n",
       " 2658,\n",
       " 2771,\n",
       " 3066,\n",
       " 3067,\n",
       " 3113,\n",
       " 3139,\n",
       " 3226,\n",
       " 3269,\n",
       " 3623,\n",
       " 3642,\n",
       " 3957,\n",
       " 4019,\n",
       " 4022,\n",
       " 4263,\n",
       " 4282,\n",
       " 4402,\n",
       " 4612,\n",
       " 4780,\n",
       " 4835,\n",
       " 4837,\n",
       " 4924,\n",
       " 4934,\n",
       " 4974,\n",
       " 5101,\n",
       " 5240,\n",
       " 5297,\n",
       " 5386,\n",
       " 5600,\n",
       " 5609,\n",
       " 5705,\n",
       " 5939,\n",
       " 6050,\n",
       " 6061,\n",
       " 6064,\n",
       " 6171,\n",
       " 6282,\n",
       " 6312,\n",
       " 6405,\n",
       " 6835,\n",
       " 6909,\n",
       " 7023,\n",
       " 7104,\n",
       " 7120,\n",
       " 7131,\n",
       " 7153,\n",
       " 7210,\n",
       " 7572,\n",
       " 7590,\n",
       " 7926,\n",
       " 8221,\n",
       " 8235,\n",
       " 8259,\n",
       " 8280,\n",
       " 8297,\n",
       " 8310,\n",
       " 8426,\n",
       " 8768,\n",
       " 8912,\n",
       " 9042,\n",
       " 9083,\n",
       " 9281,\n",
       " 9286,\n",
       " 9312,\n",
       " 9325,\n",
       " 9390,\n",
       " 9400,\n",
       " 9402,\n",
       " 9434,\n",
       " 9450,\n",
       " 9540,\n",
       " 9558,\n",
       " 9601,\n",
       " 9691,\n",
       " 9958,\n",
       " 10258,\n",
       " 10320,\n",
       " 10634,\n",
       " 10734,\n",
       " ...]"
      ]
     },
     "execution_count": 50,
     "metadata": {},
     "output_type": "execute_result"
    }
   ],
   "source": [
    "adopted_users"
   ]
  },
  {
   "cell_type": "code",
   "execution_count": 51,
   "metadata": {
    "collapsed": true
   },
   "outputs": [
    {
     "data": {
      "text/plain": [
       "{8192,\n",
       " 8196,\n",
       " 10,\n",
       " 8214,\n",
       " 8217,\n",
       " 8220,\n",
       " 8221,\n",
       " 8232,\n",
       " 8233,\n",
       " 42,\n",
       " 8235,\n",
       " 43,\n",
       " 8239,\n",
       " 8243,\n",
       " 53,\n",
       " 8252,\n",
       " 63,\n",
       " 8258,\n",
       " 8259,\n",
       " 69,\n",
       " 8265,\n",
       " 74,\n",
       " 81,\n",
       " 82,\n",
       " 8278,\n",
       " 87,\n",
       " 8280,\n",
       " 8294,\n",
       " 8297,\n",
       " 8310,\n",
       " 8311,\n",
       " 133,\n",
       " 135,\n",
       " 141,\n",
       " 8334,\n",
       " 146,\n",
       " 153,\n",
       " 8348,\n",
       " 160,\n",
       " 165,\n",
       " 168,\n",
       " 8366,\n",
       " 8371,\n",
       " 185,\n",
       " 188,\n",
       " 8381,\n",
       " 8383,\n",
       " 197,\n",
       " 200,\n",
       " 8393,\n",
       " 202,\n",
       " 203,\n",
       " 8399,\n",
       " 8401,\n",
       " 209,\n",
       " 8403,\n",
       " 214,\n",
       " 8408,\n",
       " 8415,\n",
       " 230,\n",
       " 8426,\n",
       " 8435,\n",
       " 245,\n",
       " 247,\n",
       " 8440,\n",
       " 8442,\n",
       " 263,\n",
       " 265,\n",
       " 8463,\n",
       " 275,\n",
       " 280,\n",
       " 283,\n",
       " 297,\n",
       " 298,\n",
       " 8493,\n",
       " 310,\n",
       " 311,\n",
       " 8505,\n",
       " 8507,\n",
       " 8508,\n",
       " 8511,\n",
       " 322,\n",
       " 8523,\n",
       " 341,\n",
       " 8538,\n",
       " 351,\n",
       " 8553,\n",
       " 363,\n",
       " 370,\n",
       " 8569,\n",
       " 8571,\n",
       " 383,\n",
       " 8593,\n",
       " 401,\n",
       " 8601,\n",
       " 8602,\n",
       " 418,\n",
       " 430,\n",
       " 8622,\n",
       " 445,\n",
       " 8639,\n",
       " 8640,\n",
       " 450,\n",
       " 460,\n",
       " 462,\n",
       " 8654,\n",
       " 469,\n",
       " 471,\n",
       " 479,\n",
       " 8673,\n",
       " 483,\n",
       " 8679,\n",
       " 492,\n",
       " 494,\n",
       " 497,\n",
       " 8689,\n",
       " 502,\n",
       " 8695,\n",
       " 509,\n",
       " 510,\n",
       " 8701,\n",
       " 512,\n",
       " 8704,\n",
       " 8706,\n",
       " 8708,\n",
       " 518,\n",
       " 522,\n",
       " 8721,\n",
       " 529,\n",
       " 8725,\n",
       " 535,\n",
       " 540,\n",
       " 547,\n",
       " 553,\n",
       " 8749,\n",
       " 564,\n",
       " 8760,\n",
       " 572,\n",
       " 8767,\n",
       " 8768,\n",
       " 8770,\n",
       " 8779,\n",
       " 8789,\n",
       " 601,\n",
       " 603,\n",
       " 605,\n",
       " 8803,\n",
       " 8806,\n",
       " 8809,\n",
       " 618,\n",
       " 8811,\n",
       " 627,\n",
       " 628,\n",
       " 632,\n",
       " 634,\n",
       " 639,\n",
       " 8832,\n",
       " 8835,\n",
       " 8837,\n",
       " 8857,\n",
       " 8860,\n",
       " 669,\n",
       " 8862,\n",
       " 8869,\n",
       " 679,\n",
       " 680,\n",
       " 8880,\n",
       " 8884,\n",
       " 8899,\n",
       " 8912,\n",
       " 724,\n",
       " 725,\n",
       " 8918,\n",
       " 728,\n",
       " 8924,\n",
       " 8932,\n",
       " 8944,\n",
       " 8945,\n",
       " 754,\n",
       " 8952,\n",
       " 8955,\n",
       " 8957,\n",
       " 772,\n",
       " 783,\n",
       " 786,\n",
       " 8989,\n",
       " 804,\n",
       " 9011,\n",
       " 9031,\n",
       " 845,\n",
       " 9042,\n",
       " 851,\n",
       " 9046,\n",
       " 9060,\n",
       " 869,\n",
       " 874,\n",
       " 882,\n",
       " 9076,\n",
       " 885,\n",
       " 9079,\n",
       " 9083,\n",
       " 901,\n",
       " 906,\n",
       " 907,\n",
       " 912,\n",
       " 9112,\n",
       " 9113,\n",
       " 9120,\n",
       " 928,\n",
       " 932,\n",
       " 934,\n",
       " 937,\n",
       " 943,\n",
       " 9142,\n",
       " 9143,\n",
       " 953,\n",
       " 9147,\n",
       " 9157,\n",
       " 9164,\n",
       " 980,\n",
       " 9172,\n",
       " 985,\n",
       " 9195,\n",
       " 1007,\n",
       " 1009,\n",
       " 1017,\n",
       " 1018,\n",
       " 1027,\n",
       " 1055,\n",
       " 1061,\n",
       " 9257,\n",
       " 1072,\n",
       " 9281,\n",
       " 1089,\n",
       " 1093,\n",
       " 9286,\n",
       " 1094,\n",
       " 9290,\n",
       " 1099,\n",
       " 9295,\n",
       " 1107,\n",
       " 9303,\n",
       " 9306,\n",
       " 1119,\n",
       " 9312,\n",
       " 1123,\n",
       " 1124,\n",
       " 1128,\n",
       " 1129,\n",
       " 9322,\n",
       " 9325,\n",
       " 1136,\n",
       " 1145,\n",
       " 1150,\n",
       " 1151,\n",
       " 9344,\n",
       " 9345,\n",
       " 9346,\n",
       " 1155,\n",
       " 1156,\n",
       " 9343,\n",
       " 1163,\n",
       " 9358,\n",
       " 9359,\n",
       " 9374,\n",
       " 9381,\n",
       " 9383,\n",
       " 1196,\n",
       " 9390,\n",
       " 1202,\n",
       " 9400,\n",
       " 9402,\n",
       " 1214,\n",
       " 9423,\n",
       " 1235,\n",
       " 9434,\n",
       " 9435,\n",
       " 9436,\n",
       " 1245,\n",
       " 1242,\n",
       " 1250,\n",
       " 9445,\n",
       " 9450,\n",
       " 9461,\n",
       " 9464,\n",
       " 1274,\n",
       " 9470,\n",
       " 1280,\n",
       " 9479,\n",
       " 9481,\n",
       " 1290,\n",
       " 9486,\n",
       " 1303,\n",
       " 9495,\n",
       " 9504,\n",
       " 9510,\n",
       " 1318,\n",
       " 1320,\n",
       " 1319,\n",
       " 1327,\n",
       " 1339,\n",
       " 9532,\n",
       " 9535,\n",
       " 1343,\n",
       " 1345,\n",
       " 9540,\n",
       " 1350,\n",
       " 9542,\n",
       " 1357,\n",
       " 1361,\n",
       " 9558,\n",
       " 9559,\n",
       " 1368,\n",
       " 9571,\n",
       " 9582,\n",
       " 9584,\n",
       " 9591,\n",
       " 9597,\n",
       " 1407,\n",
       " 9601,\n",
       " 1410,\n",
       " 1411,\n",
       " 1421,\n",
       " 9615,\n",
       " 1434,\n",
       " 9635,\n",
       " 9641,\n",
       " 9644,\n",
       " 9645,\n",
       " 9652,\n",
       " 1464,\n",
       " 9660,\n",
       " 1472,\n",
       " 1476,\n",
       " 9670,\n",
       " 1479,\n",
       " 1480,\n",
       " 1485,\n",
       " 9679,\n",
       " 9683,\n",
       " 9691,\n",
       " 9694,\n",
       " 9695,\n",
       " 1507,\n",
       " 9699,\n",
       " 1508,\n",
       " 1525,\n",
       " 9722,\n",
       " 9724,\n",
       " 9727,\n",
       " 9728,\n",
       " 1546,\n",
       " 9742,\n",
       " 9746,\n",
       " 9747,\n",
       " 1555,\n",
       " 9751,\n",
       " 1561,\n",
       " 9754,\n",
       " 1576,\n",
       " 9771,\n",
       " 1581,\n",
       " 1598,\n",
       " 9806,\n",
       " 1617,\n",
       " 1624,\n",
       " 9823,\n",
       " 9825,\n",
       " 1641,\n",
       " 9841,\n",
       " 9843,\n",
       " 9845,\n",
       " 9850,\n",
       " 9852,\n",
       " 1663,\n",
       " 1665,\n",
       " 9870,\n",
       " 1690,\n",
       " 1693,\n",
       " 1694,\n",
       " 9889,\n",
       " 9897,\n",
       " 1709,\n",
       " 9901,\n",
       " 1714,\n",
       " 1716,\n",
       " 1717,\n",
       " 1722,\n",
       " 9914,\n",
       " 1730,\n",
       " 9925,\n",
       " 1740,\n",
       " 9941,\n",
       " 9942,\n",
       " 1754,\n",
       " 9947,\n",
       " 1759,\n",
       " 9958,\n",
       " 1769,\n",
       " 1770,\n",
       " 9963,\n",
       " 9968,\n",
       " 9972,\n",
       " 1781,\n",
       " 1783,\n",
       " 1786,\n",
       " 9985,\n",
       " 9991,\n",
       " 9992,\n",
       " 9994,\n",
       " 9999,\n",
       " 10002,\n",
       " 1811,\n",
       " 1816,\n",
       " 10011,\n",
       " 1821,\n",
       " 1822,\n",
       " 1825,\n",
       " 10020,\n",
       " 10022,\n",
       " 10023,\n",
       " 10025,\n",
       " 1836,\n",
       " 1845,\n",
       " 10053,\n",
       " 1865,\n",
       " 10059,\n",
       " 1879,\n",
       " 1885,\n",
       " 1907,\n",
       " 10100,\n",
       " 10104,\n",
       " 10115,\n",
       " 10118,\n",
       " 10121,\n",
       " 1930,\n",
       " 1941,\n",
       " 1944,\n",
       " 1954,\n",
       " 10153,\n",
       " 10159,\n",
       " 1974,\n",
       " 10167,\n",
       " 10177,\n",
       " 1993,\n",
       " 2002,\n",
       " 10199,\n",
       " 2011,\n",
       " 2013,\n",
       " 10211,\n",
       " 10212,\n",
       " 2025,\n",
       " 10222,\n",
       " 2033,\n",
       " 10225,\n",
       " 10230,\n",
       " 2038,\n",
       " 10233,\n",
       " 10234,\n",
       " 2043,\n",
       " 2042,\n",
       " 10238,\n",
       " 10244,\n",
       " 10246,\n",
       " 2056,\n",
       " 10251,\n",
       " 10258,\n",
       " 10265,\n",
       " 2074,\n",
       " 2078,\n",
       " 2080,\n",
       " 10281,\n",
       " 10283,\n",
       " 2103,\n",
       " 2111,\n",
       " 2112,\n",
       " 2113,\n",
       " 10307,\n",
       " 10311,\n",
       " 2124,\n",
       " 10316,\n",
       " 10320,\n",
       " 10322,\n",
       " 10335,\n",
       " 10349,\n",
       " 2159,\n",
       " 10352,\n",
       " 2160,\n",
       " 10355,\n",
       " 10357,\n",
       " 2171,\n",
       " 10363,\n",
       " 10371,\n",
       " 10372,\n",
       " 2193,\n",
       " 10388,\n",
       " 2199,\n",
       " 10394,\n",
       " 10397,\n",
       " 10401,\n",
       " 10406,\n",
       " 10412,\n",
       " 10430,\n",
       " 2239,\n",
       " 2241,\n",
       " 10434,\n",
       " 10437,\n",
       " 2246,\n",
       " 2253,\n",
       " 10447,\n",
       " 10448,\n",
       " 10459,\n",
       " 2270,\n",
       " 2271,\n",
       " 10465,\n",
       " 10470,\n",
       " 10473,\n",
       " 2282,\n",
       " 2286,\n",
       " 2289,\n",
       " 2290,\n",
       " 2297,\n",
       " 2300,\n",
       " 10497,\n",
       " 2312,\n",
       " 10507,\n",
       " 2316,\n",
       " 10514,\n",
       " 2322,\n",
       " 2324,\n",
       " 10519,\n",
       " 10520,\n",
       " 10524,\n",
       " 2333,\n",
       " 10526,\n",
       " 2337,\n",
       " 2339,\n",
       " 2357,\n",
       " 2361,\n",
       " 10554,\n",
       " 10574,\n",
       " 10580,\n",
       " 10582,\n",
       " 2390,\n",
       " 10585,\n",
       " 2399,\n",
       " 2400,\n",
       " 2406,\n",
       " 10599,\n",
       " 10602,\n",
       " 10611,\n",
       " 2425,\n",
       " 10617,\n",
       " 10619,\n",
       " 10621,\n",
       " 2435,\n",
       " 10630,\n",
       " 2438,\n",
       " 10634,\n",
       " 2447,\n",
       " 10644,\n",
       " 10647,\n",
       " 10656,\n",
       " 10663,\n",
       " 2474,\n",
       " 2481,\n",
       " 10678,\n",
       " 10679,\n",
       " 2490,\n",
       " 10683,\n",
       " 2502,\n",
       " 10696,\n",
       " 10708,\n",
       " 2519,\n",
       " 10725,\n",
       " 2539,\n",
       " 10734,\n",
       " 2544,\n",
       " 10737,\n",
       " 2548,\n",
       " 10745,\n",
       " 10746,\n",
       " 2557,\n",
       " 10750,\n",
       " 10753,\n",
       " 10757,\n",
       " 2566,\n",
       " 2568,\n",
       " 10763,\n",
       " 2571,\n",
       " 2587,\n",
       " 10785,\n",
       " 10787,\n",
       " 10791,\n",
       " 10792,\n",
       " 2604,\n",
       " 2610,\n",
       " 2615,\n",
       " 10811,\n",
       " 2620,\n",
       " 10812,\n",
       " 2622,\n",
       " 10827,\n",
       " 2636,\n",
       " 10832,\n",
       " 10833,\n",
       " 10834,\n",
       " 2641,\n",
       " 2647,\n",
       " 10840,\n",
       " 2658,\n",
       " 10851,\n",
       " 10858,\n",
       " 10860,\n",
       " 2672,\n",
       " 10866,\n",
       " 10869,\n",
       " 10870,\n",
       " 2681,\n",
       " 10876,\n",
       " 10892,\n",
       " 2713,\n",
       " 10911,\n",
       " 10913,\n",
       " 2723,\n",
       " 2724,\n",
       " 2727,\n",
       " 2731,\n",
       " 10928,\n",
       " 2739,\n",
       " 2744,\n",
       " 10937,\n",
       " 2750,\n",
       " 10945,\n",
       " 10953,\n",
       " 2762,\n",
       " 10958,\n",
       " 10961,\n",
       " 2771,\n",
       " 2787,\n",
       " 2809,\n",
       " 11003,\n",
       " 11004,\n",
       " 11010,\n",
       " 11015,\n",
       " 11021,\n",
       " 11024,\n",
       " 2832,\n",
       " 2836,\n",
       " 11032,\n",
       " 2841,\n",
       " 11039,\n",
       " 2851,\n",
       " 2859,\n",
       " 11056,\n",
       " 2866,\n",
       " 11061,\n",
       " 2870,\n",
       " 11065,\n",
       " 11067,\n",
       " 2881,\n",
       " 2886,\n",
       " 2887,\n",
       " 2889,\n",
       " 2891,\n",
       " 11083,\n",
       " 11086,\n",
       " 2895,\n",
       " 11100,\n",
       " 2915,\n",
       " 2918,\n",
       " 11112,\n",
       " 2921,\n",
       " 2931,\n",
       " 11130,\n",
       " 2939,\n",
       " 2946,\n",
       " 2948,\n",
       " 2952,\n",
       " 11160,\n",
       " 2969,\n",
       " 2974,\n",
       " 11170,\n",
       " 2979,\n",
       " 11176,\n",
       " 2993,\n",
       " 11186,\n",
       " 11195,\n",
       " 11198,\n",
       " 11206,\n",
       " 3017,\n",
       " 3018,\n",
       " 11212,\n",
       " 3025,\n",
       " 3028,\n",
       " 11223,\n",
       " 3032,\n",
       " 3039,\n",
       " 3046,\n",
       " 11240,\n",
       " 3053,\n",
       " 3059,\n",
       " 11254,\n",
       " 3066,\n",
       " 3067,\n",
       " 3071,\n",
       " 11263,\n",
       " 11267,\n",
       " 3076,\n",
       " 11270,\n",
       " 3080,\n",
       " 11273,\n",
       " 3087,\n",
       " 3093,\n",
       " 3100,\n",
       " 11294,\n",
       " 11300,\n",
       " 3112,\n",
       " 3113,\n",
       " 11306,\n",
       " 11310,\n",
       " 11314,\n",
       " 11320,\n",
       " 11327,\n",
       " 3137,\n",
       " 3139,\n",
       " 3145,\n",
       " 11341,\n",
       " 11344,\n",
       " 11347,\n",
       " 11349,\n",
       " 3160,\n",
       " 3163,\n",
       " 3175,\n",
       " 3180,\n",
       " 3185,\n",
       " 11379,\n",
       " 3193,\n",
       " 3194,\n",
       " 11388,\n",
       " 3204,\n",
       " 11404,\n",
       " 11406,\n",
       " 3217,\n",
       " 11415,\n",
       " 3226,\n",
       " 11423,\n",
       " 3232,\n",
       " 3235,\n",
       " 11428,\n",
       " 3238,\n",
       " 3239,\n",
       " 3240,\n",
       " 3244,\n",
       " 11450,\n",
       " 3269,\n",
       " 11465,\n",
       " 11469,\n",
       " 11479,\n",
       " 3311,\n",
       " 3324,\n",
       " 11519,\n",
       " 11527,\n",
       " 3338,\n",
       " 3339,\n",
       " 11530,\n",
       " 11533,\n",
       " 11537,\n",
       " 11541,\n",
       " 3353,\n",
       " 3360,\n",
       " 11559,\n",
       " 3370,\n",
       " 11567,\n",
       " 3378,\n",
       " 11573,\n",
       " 3381,\n",
       " 3387,\n",
       " 3389,\n",
       " 3390,\n",
       " 11588,\n",
       " 3397,\n",
       " 11591,\n",
       " 11596,\n",
       " 3405,\n",
       " 11599,\n",
       " 11600,\n",
       " 3409,\n",
       " 3411,\n",
       " 11604,\n",
       " 3426,\n",
       " 11622,\n",
       " 11627,\n",
       " 3436,\n",
       " 11637,\n",
       " 11642,\n",
       " 3451,\n",
       " 3463,\n",
       " 11660,\n",
       " 11662,\n",
       " 3481,\n",
       " 3484,\n",
       " 11682,\n",
       " 11683,\n",
       " 3493,\n",
       " 11688,\n",
       " 11702,\n",
       " 3522,\n",
       " 3525,\n",
       " 3531,\n",
       " 11728,\n",
       " 11730,\n",
       " 3541,\n",
       " 3546,\n",
       " 11738,\n",
       " 3556,\n",
       " 3560,\n",
       " 3561,\n",
       " 3562,\n",
       " 11758,\n",
       " 3567,\n",
       " 11762,\n",
       " 11764,\n",
       " 3574,\n",
       " 3577,\n",
       " 11769,\n",
       " 3578,\n",
       " 11782,\n",
       " 3592,\n",
       " 3593,\n",
       " 3598,\n",
       " 3601,\n",
       " 11796,\n",
       " 11801,\n",
       " 3609,\n",
       " 3612,\n",
       " 11805,\n",
       " 11806,\n",
       " 3617,\n",
       " 3623,\n",
       " 11823,\n",
       " 3641,\n",
       " 3642,\n",
       " 11836,\n",
       " 3644,\n",
       " 11841,\n",
       " 3652,\n",
       " 11857,\n",
       " 3671,\n",
       " 3673,\n",
       " 3675,\n",
       " 11869,\n",
       " 11873,\n",
       " 11885,\n",
       " 3695,\n",
       " 11895,\n",
       " 3705,\n",
       " 11902,\n",
       " 3717,\n",
       " 11909,\n",
       " 3718,\n",
       " 11920,\n",
       " 11924,\n",
       " 11939,\n",
       " 3752,\n",
       " 3758,\n",
       " 11957,\n",
       " 11958,\n",
       " 11959,\n",
       " 3765,\n",
       " 11961,\n",
       " 11964,\n",
       " 11965,\n",
       " 3774,\n",
       " 11967,\n",
       " 11969,\n",
       " 11975,\n",
       " 11988,\n",
       " 3802,\n",
       " 3804,\n",
       " 3812,\n",
       " 3819,\n",
       " 3824,\n",
       " 3832,\n",
       " 3843,\n",
       " 3852,\n",
       " 3863,\n",
       " 3866,\n",
       " 3867,\n",
       " 3882,\n",
       " 3906,\n",
       " 3915,\n",
       " 3946,\n",
       " 3956,\n",
       " 3957,\n",
       " 3960,\n",
       " 3970,\n",
       " 4007,\n",
       " 4017,\n",
       " 4018,\n",
       " 4019,\n",
       " 4022,\n",
       " 4029,\n",
       " 4041,\n",
       " 4043,\n",
       " 4045,\n",
       " 4052,\n",
       " 4067,\n",
       " 4074,\n",
       " 4086,\n",
       " 4090,\n",
       " 4105,\n",
       " 4140,\n",
       " 4141,\n",
       " 4143,\n",
       " 4145,\n",
       " 4156,\n",
       " 4158,\n",
       " 4181,\n",
       " 4184,\n",
       " 4186,\n",
       " 4203,\n",
       " 4206,\n",
       " 4208,\n",
       " 4209,\n",
       " 4216,\n",
       " 4217,\n",
       " 4218,\n",
       " 4223,\n",
       " 4234,\n",
       " 4243,\n",
       " 4244,\n",
       " 4248,\n",
       " 4255,\n",
       " 4258,\n",
       " 4263,\n",
       " 4266,\n",
       " 4268,\n",
       " 4269,\n",
       " 4278,\n",
       " 4282,\n",
       " 4295,\n",
       " 4296,\n",
       " 4317,\n",
       " 4330,\n",
       " 4335,\n",
       " 4350,\n",
       " 4353,\n",
       " 4354,\n",
       " 4371,\n",
       " 4384,\n",
       " 4402,\n",
       " 4403,\n",
       " 4404,\n",
       " 4421,\n",
       " 4425,\n",
       " 4428,\n",
       " 4433,\n",
       " 4444,\n",
       " 4446,\n",
       " 4472,\n",
       " 4481,\n",
       " 4485,\n",
       " 4489,\n",
       " 4494,\n",
       " 4497,\n",
       " 4511,\n",
       " 4513,\n",
       " 4519,\n",
       " 4558,\n",
       " 4560,\n",
       " 4561,\n",
       " 4562,\n",
       " 4564,\n",
       " 4565,\n",
       " 4569,\n",
       " 4571,\n",
       " 4576,\n",
       " 4582,\n",
       " 4600,\n",
       " 4609,\n",
       " 4611,\n",
       " 4612,\n",
       " 4616,\n",
       " 4618,\n",
       " 4619,\n",
       " 4625,\n",
       " 4680,\n",
       " 4713,\n",
       " 4720,\n",
       " 4742,\n",
       " 4745,\n",
       " 4753,\n",
       " 4760,\n",
       " 4780,\n",
       " 4784,\n",
       " 4785,\n",
       " 4793,\n",
       " 4803,\n",
       " 4805,\n",
       " ...}"
      ]
     },
     "execution_count": 51,
     "metadata": {},
     "output_type": "execute_result"
    }
   ],
   "source": [
    "adopted_users = set(adopted_users)\n",
    "adopted_users"
   ]
  },
  {
   "cell_type": "code",
   "execution_count": 52,
   "metadata": {},
   "outputs": [],
   "source": [
    "is_adopted = []\n",
    "for user in df.index.values:\n",
    "    is_adopted.append(user in adopted_users)"
   ]
  },
  {
   "cell_type": "code",
   "execution_count": 53,
   "metadata": {},
   "outputs": [
    {
     "data": {
      "text/plain": [
       "False    10637\n",
       "True      1363\n",
       "Name: is_adopted, dtype: int64"
      ]
     },
     "execution_count": 53,
     "metadata": {},
     "output_type": "execute_result"
    }
   ],
   "source": [
    "df['is_adopted'] = is_adopted\n",
    "df['is_adopted'].value_counts()"
   ]
  },
  {
   "cell_type": "markdown",
   "metadata": {},
   "source": [
    "Because the user's unique names and email addresses don't have any direct relevance to customer adoption of the platform, and because their unique nature provides a dangerous opportunity for model overfitting, these two variables will be dropped from the DataFrame."
   ]
  },
  {
   "cell_type": "code",
   "execution_count": 54,
   "metadata": {},
   "outputs": [
    {
     "data": {
      "text/html": [
       "<div>\n",
       "<style scoped>\n",
       "    .dataframe tbody tr th:only-of-type {\n",
       "        vertical-align: middle;\n",
       "    }\n",
       "\n",
       "    .dataframe tbody tr th {\n",
       "        vertical-align: top;\n",
       "    }\n",
       "\n",
       "    .dataframe thead th {\n",
       "        text-align: right;\n",
       "    }\n",
       "</style>\n",
       "<table border=\"1\" class=\"dataframe\">\n",
       "  <thead>\n",
       "    <tr style=\"text-align: right;\">\n",
       "      <th></th>\n",
       "      <th>last_session_creation_time</th>\n",
       "      <th>opted_in_to_mailing_list</th>\n",
       "      <th>enabled_for_marketing_drip</th>\n",
       "      <th>org_id</th>\n",
       "      <th>invited_by_user_id</th>\n",
       "      <th>last_session_creation_time_isnull</th>\n",
       "      <th>invited_by_user_id_isnull</th>\n",
       "      <th>creation_time_year</th>\n",
       "      <th>creation_time_month</th>\n",
       "      <th>creation_time_day</th>\n",
       "      <th>creation_time_hour</th>\n",
       "      <th>creation_time_minute</th>\n",
       "      <th>creation_time_seconds</th>\n",
       "      <th>creation_source_GUEST_INVITE</th>\n",
       "      <th>creation_source_ORG_INVITE</th>\n",
       "      <th>creation_source_PERSONAL_PROJECTS</th>\n",
       "      <th>creation_source_SIGNUP</th>\n",
       "      <th>creation_source_SIGNUP_GOOGLE_AUTH</th>\n",
       "      <th>is_adopted</th>\n",
       "    </tr>\n",
       "    <tr>\n",
       "      <th>object_id</th>\n",
       "      <th></th>\n",
       "      <th></th>\n",
       "      <th></th>\n",
       "      <th></th>\n",
       "      <th></th>\n",
       "      <th></th>\n",
       "      <th></th>\n",
       "      <th></th>\n",
       "      <th></th>\n",
       "      <th></th>\n",
       "      <th></th>\n",
       "      <th></th>\n",
       "      <th></th>\n",
       "      <th></th>\n",
       "      <th></th>\n",
       "      <th></th>\n",
       "      <th></th>\n",
       "      <th></th>\n",
       "      <th></th>\n",
       "    </tr>\n",
       "  </thead>\n",
       "  <tbody>\n",
       "    <tr>\n",
       "      <th>1</th>\n",
       "      <td>1.398139e+09</td>\n",
       "      <td>1</td>\n",
       "      <td>0</td>\n",
       "      <td>11</td>\n",
       "      <td>10803.0</td>\n",
       "      <td>False</td>\n",
       "      <td>False</td>\n",
       "      <td>2014</td>\n",
       "      <td>4</td>\n",
       "      <td>22</td>\n",
       "      <td>3</td>\n",
       "      <td>53</td>\n",
       "      <td>30</td>\n",
       "      <td>1</td>\n",
       "      <td>0</td>\n",
       "      <td>0</td>\n",
       "      <td>0</td>\n",
       "      <td>0</td>\n",
       "      <td>False</td>\n",
       "    </tr>\n",
       "  </tbody>\n",
       "</table>\n",
       "</div>"
      ],
      "text/plain": [
       "           last_session_creation_time  opted_in_to_mailing_list  \\\n",
       "object_id                                                         \n",
       "1                        1.398139e+09                         1   \n",
       "\n",
       "           enabled_for_marketing_drip  org_id  invited_by_user_id  \\\n",
       "object_id                                                           \n",
       "1                                   0      11             10803.0   \n",
       "\n",
       "           last_session_creation_time_isnull  invited_by_user_id_isnull  \\\n",
       "object_id                                                                 \n",
       "1                                      False                      False   \n",
       "\n",
       "           creation_time_year  creation_time_month  creation_time_day  \\\n",
       "object_id                                                               \n",
       "1                        2014                    4                 22   \n",
       "\n",
       "           creation_time_hour  creation_time_minute  creation_time_seconds  \\\n",
       "object_id                                                                    \n",
       "1                           3                    53                     30   \n",
       "\n",
       "           creation_source_GUEST_INVITE  creation_source_ORG_INVITE  \\\n",
       "object_id                                                             \n",
       "1                                     1                           0   \n",
       "\n",
       "           creation_source_PERSONAL_PROJECTS  creation_source_SIGNUP  \\\n",
       "object_id                                                              \n",
       "1                                          0                       0   \n",
       "\n",
       "           creation_source_SIGNUP_GOOGLE_AUTH  is_adopted  \n",
       "object_id                                                  \n",
       "1                                           0       False  "
      ]
     },
     "execution_count": 54,
     "metadata": {},
     "output_type": "execute_result"
    }
   ],
   "source": [
    "df = df.drop(columns = ['name', 'email'])\n",
    "df.head(1)"
   ]
  },
  {
   "cell_type": "markdown",
   "metadata": {},
   "source": [
    "## Visual Exploratory Data Analysis"
   ]
  },
  {
   "cell_type": "code",
   "execution_count": 55,
   "metadata": {},
   "outputs": [
    {
     "data": {
      "text/plain": [
       "False    88.6\n",
       "True     11.4\n",
       "Name: is_adopted, dtype: float64"
      ]
     },
     "execution_count": 55,
     "metadata": {},
     "output_type": "execute_result"
    }
   ],
   "source": [
    "adopted_counts = round(df['is_adopted'].value_counts(normalize=True), 3)*100\n",
    "adopted_counts"
   ]
  },
  {
   "cell_type": "code",
   "execution_count": 56,
   "metadata": {},
   "outputs": [],
   "source": [
    "current_palette = sns.color_palette()"
   ]
  },
  {
   "cell_type": "code",
   "execution_count": 57,
   "metadata": {},
   "outputs": [
    {
     "data": {
      "image/png": "[encoded data removed]",
      "text/plain": [
       "<Figure size 432x288 with 1 Axes>"
      ]
     },
     "metadata": {
      "needs_background": "light"
     },
     "output_type": "display_data"
    }
   ],
   "source": [
    "adopted_counts.plot(kind='barh', title='Percentage of Customers that Adopted Relax', xlim=(0, 100), \n",
    "                    xticks = [0, 10, 20, 30, 40, 50, 60, 70, 80, 90, 100], color=current_palette)\n",
    "plt.xlabel('Percentage of Customers')\n",
    "plt.ylabel('Adopted (1) or Not Adopted (0)')\n",
    "plt.show()"
   ]
  },
  {
   "cell_type": "markdown",
   "metadata": {},
   "source": [
    "In order to run correlations in conjunction with covariance matrices, a quick Pearson's R function is written."
   ]
  },
  {
   "cell_type": "code",
   "execution_count": 58,
   "metadata": {},
   "outputs": [],
   "source": [
    "def pearson_r(x, y):\n",
    "    corr_mat = np.corrcoef(x, y)\n",
    "    return corr_mat[0, 1]"
   ]
  },
  {
   "cell_type": "code",
   "execution_count": 59,
   "metadata": {
    "scrolled": true
   },
   "outputs": [
    {
     "name": "stdout",
     "output_type": "stream",
     "text": [
      "<class 'pandas.core.frame.DataFrame'>\n",
      "Int64Index: 12000 entries, 1 to 12000\n",
      "Data columns (total 19 columns):\n",
      "last_session_creation_time            12000 non-null float64\n",
      "opted_in_to_mailing_list              12000 non-null int64\n",
      "enabled_for_marketing_drip            12000 non-null int64\n",
      "org_id                                12000 non-null int64\n",
      "invited_by_user_id                    12000 non-null float64\n",
      "last_session_creation_time_isnull     12000 non-null bool\n",
      "invited_by_user_id_isnull             12000 non-null bool\n",
      "creation_time_year                    12000 non-null int64\n",
      "creation_time_month                   12000 non-null int64\n",
      "creation_time_day                     12000 non-null int64\n",
      "creation_time_hour                    12000 non-null int64\n",
      "creation_time_minute                  12000 non-null int64\n",
      "creation_time_seconds                 12000 non-null int64\n",
      "creation_source_GUEST_INVITE          12000 non-null uint8\n",
      "creation_source_ORG_INVITE            12000 non-null uint8\n",
      "creation_source_PERSONAL_PROJECTS     12000 non-null uint8\n",
      "creation_source_SIGNUP                12000 non-null uint8\n",
      "creation_source_SIGNUP_GOOGLE_AUTH    12000 non-null uint8\n",
      "is_adopted                            12000 non-null bool\n",
      "dtypes: bool(3), float64(2), int64(9), uint8(5)\n",
      "memory usage: 1.2 MB\n"
     ]
    }
   ],
   "source": [
    "df.info()"
   ]
  },
  {
   "cell_type": "markdown",
   "metadata": {},
   "source": [
    "## 'last_session_creation_time'"
   ]
  },
  {
   "cell_type": "markdown",
   "metadata": {},
   "source": [
    "First, the unix timestamp of the last login is visualized and its Pearson's correlation with the target variable is calculated.  One can see two peaks in the last session creation time. It looks like this feature shows the last session creation time for each user in the scale of the number of minutes from the origin of the first session creation, although it is unclear. Therefore, this distribution is hard to interpret. The Pearson's correlation between the 'last_session_creation_time' and the target variable 'is_adopted' is 0.37, the only notable Pearson's correlation."
   ]
  },
  {
   "cell_type": "code",
   "execution_count": 60,
   "metadata": {
    "scrolled": true
   },
   "outputs": [
    {
     "data": {
      "image/png": "[encoded data removed]",
      "text/plain": [
       "<Figure size 432x288 with 1 Axes>"
      ]
     },
     "metadata": {
      "needs_background": "light"
     },
     "output_type": "display_data"
    }
   ],
   "source": [
    "df['last_session_creation_time'].hist(bins=50, grid=True, xlabelsize=12, ylabelsize=12)\n",
    "plt.xlabel(\"Unix Timestamp of Last Login\", fontsize=12)\n",
    "plt.ylabel(\"Number of Customers\", fontsize=12)\n",
    "plt.show()"
   ]
  },
  {
   "cell_type": "code",
   "execution_count": 61,
   "metadata": {},
   "outputs": [
    {
     "data": {
      "text/plain": [
       "0.3705285161958766"
      ]
     },
     "execution_count": 61,
     "metadata": {},
     "output_type": "execute_result"
    }
   ],
   "source": [
    "r_lsct = pearson_r(df['last_session_creation_time'], df['is_adopted'])\n",
    "r_lsct"
   ]
  },
  {
   "cell_type": "code",
   "execution_count": 62,
   "metadata": {},
   "outputs": [
    {
     "data": {
      "text/plain": [
       "array([[2.83000470e+14, 1.97792388e+06],\n",
       "       [1.97792388e+06, 1.00690551e-01]])"
      ]
     },
     "execution_count": 62,
     "metadata": {},
     "output_type": "execute_result"
    }
   ],
   "source": [
    "cov_matrix_lsct = np.cov(df['last_session_creation_time'], df['is_adopted'])\n",
    "cov_matrix_lsct"
   ]
  },
  {
   "cell_type": "markdown",
   "metadata": {},
   "source": [
    "## 'opted_in_to_mailing_list'"
   ]
  },
  {
   "cell_type": "markdown",
   "metadata": {},
   "source": [
    "Second, the variable storing whether users have opted into receiving marketing emails or not is visualized and its Pearson's correlation with the target variable is calculated. As can be seen, only 25% of users opted in to the mailing list."
   ]
  },
  {
   "cell_type": "code",
   "execution_count": 63,
   "metadata": {},
   "outputs": [
    {
     "data": {
      "text/plain": [
       "0    75.0\n",
       "1    25.0\n",
       "Name: opted_in_to_mailing_list, dtype: float64"
      ]
     },
     "execution_count": 63,
     "metadata": {},
     "output_type": "execute_result"
    }
   ],
   "source": [
    "oiml_counts = round(df['opted_in_to_mailing_list'].value_counts(normalize=True), 3)*100\n",
    "oiml_counts"
   ]
  },
  {
   "cell_type": "code",
   "execution_count": 64,
   "metadata": {
    "scrolled": true
   },
   "outputs": [
    {
     "data": {
      "image/png": "[encoded data removed]",
      "text/plain": [
       "<Figure size 432x288 with 1 Axes>"
      ]
     },
     "metadata": {
      "needs_background": "light"
     },
     "output_type": "display_data"
    }
   ],
   "source": [
    "oiml_counts.plot(kind='barh', title='Opted into marketing emails', xlim=(0, 100), \n",
    "                    xticks = [0, 10, 20, 30, 40, 50, 60, 70, 80, 90, 100], color=current_palette)\n",
    "plt.xlabel('Percentage of Customers')\n",
    "plt.ylabel('Opted into marketing emails (1) or Not(0)')\n",
    "plt.show()"
   ]
  },
  {
   "cell_type": "code",
   "execution_count": 65,
   "metadata": {},
   "outputs": [
    {
     "data": {
      "text/plain": [
       "0.006027631809818411"
      ]
     },
     "execution_count": 65,
     "metadata": {},
     "output_type": "execute_result"
    }
   ],
   "source": [
    "r_oiml = pearson_r(df['opted_in_to_mailing_list'], df['is_adopted'])\n",
    "r_oiml"
   ]
  },
  {
   "cell_type": "code",
   "execution_count": 66,
   "metadata": {},
   "outputs": [
    {
     "data": {
      "text/plain": [
       "array([[0.18726536, 0.00082769],\n",
       "       [0.00082769, 0.10069055]])"
      ]
     },
     "execution_count": 66,
     "metadata": {},
     "output_type": "execute_result"
    }
   ],
   "source": [
    "cov_matrix_oiml = np.cov(df['opted_in_to_mailing_list'], df['is_adopted'])\n",
    "cov_matrix_oiml"
   ]
  },
  {
   "cell_type": "markdown",
   "metadata": {},
   "source": [
    "## 'enabled_for_marketing_drip'"
   ]
  },
  {
   "cell_type": "markdown",
   "metadata": {},
   "source": [
    "Third, the variable storing whether users are on the regular marketing email drip or not is visualized and its Pearson's correlation with the target variable is calculated. As can be seen, only 15% of users enabled their account for the marketing drip."
   ]
  },
  {
   "cell_type": "code",
   "execution_count": 67,
   "metadata": {},
   "outputs": [
    {
     "data": {
      "text/plain": [
       "0    85.1\n",
       "1    14.9\n",
       "Name: enabled_for_marketing_drip, dtype: float64"
      ]
     },
     "execution_count": 67,
     "metadata": {},
     "output_type": "execute_result"
    }
   ],
   "source": [
    "efmd_counts = round(df['enabled_for_marketing_drip'].value_counts(normalize=True), 3)*100\n",
    "efmd_counts"
   ]
  },
  {
   "cell_type": "code",
   "execution_count": 68,
   "metadata": {
    "scrolled": false
   },
   "outputs": [
    {
     "data": {
      "image/png": "[encoded data removed]",
      "text/plain": [
       "<Figure size 432x288 with 1 Axes>"
      ]
     },
     "metadata": {
      "needs_background": "light"
     },
     "output_type": "display_data"
    }
   ],
   "source": [
    "efmd_counts.plot(kind='barh', title='Enabled for marketing drip', xlim=(0, 100), \n",
    "                    xticks = [0, 10, 20, 30, 40, 50, 60, 70, 80, 90, 100], color=current_palette)\n",
    "plt.xlabel('Percentage of Customers')\n",
    "plt.ylabel('Enabled for marketing drip (1) or Not(0)')\n",
    "plt.show()"
   ]
  },
  {
   "cell_type": "code",
   "execution_count": 69,
   "metadata": {},
   "outputs": [
    {
     "data": {
      "text/plain": [
       "0.0018116907147076521"
      ]
     },
     "execution_count": 69,
     "metadata": {},
     "output_type": "execute_result"
    }
   ],
   "source": [
    "r_efmd = pearson_r(df['enabled_for_marketing_drip'], df['is_adopted'])\n",
    "r_efmd"
   ]
  },
  {
   "cell_type": "code",
   "execution_count": 70,
   "metadata": {},
   "outputs": [
    {
     "data": {
      "text/plain": [
       "array([[0.12704348, 0.00020491],\n",
       "       [0.00020491, 0.10069055]])"
      ]
     },
     "execution_count": 70,
     "metadata": {},
     "output_type": "execute_result"
    }
   ],
   "source": [
    "cov_matrix_efmd = np.cov(df['enabled_for_marketing_drip'], df['is_adopted'])\n",
    "cov_matrix_efmd"
   ]
  },
  {
   "cell_type": "markdown",
   "metadata": {},
   "source": [
    "## Creation Time of Account"
   ]
  },
  {
   "cell_type": "markdown",
   "metadata": {},
   "source": [
    "Fourth, the discrete timedate components for creation times of user acccounts that were extracted above are visualized and their Pearson's correlation with the target variable is calculated. As can be seen, the majority of users created their account in 2013."
   ]
  },
  {
   "cell_type": "code",
   "execution_count": 71,
   "metadata": {},
   "outputs": [
    {
     "data": {
      "text/plain": [
       "2012    2797\n",
       "2013    5676\n",
       "2014    3527\n",
       "Name: creation_time_year, dtype: int64"
      ]
     },
     "execution_count": 71,
     "metadata": {},
     "output_type": "execute_result"
    }
   ],
   "source": [
    "year = df['creation_time_year'].value_counts().sort_index()\n",
    "year"
   ]
  },
  {
   "cell_type": "code",
   "execution_count": 72,
   "metadata": {},
   "outputs": [
    {
     "data": {
      "text/plain": [
       "<matplotlib.axes._subplots.AxesSubplot at 0x125c05ba8>"
      ]
     },
     "execution_count": 72,
     "metadata": {},
     "output_type": "execute_result"
    },
    {
     "data": {
      "image/png": "[encoded data removed]",
      "text/plain": [
       "<Figure size 648x648 with 1 Axes>"
      ]
     },
     "metadata": {
      "needs_background": "light"
     },
     "output_type": "display_data"
    }
   ],
   "source": [
    "year.plot(xticks=[2012, 2013, 2014], figsize=(9, 9), c='blue', title='Year of Account Creations')"
   ]
  },
  {
   "cell_type": "code",
   "execution_count": 73,
   "metadata": {},
   "outputs": [
    {
     "data": {
      "text/plain": [
       "-0.10743248377799837"
      ]
     },
     "execution_count": 73,
     "metadata": {},
     "output_type": "execute_result"
    }
   ],
   "source": [
    "r_year = pearson_r(df['creation_time_year'], df['is_adopted'])\n",
    "r_year"
   ]
  },
  {
   "cell_type": "code",
   "execution_count": 74,
   "metadata": {},
   "outputs": [
    {
     "data": {
      "text/plain": [
       "array([[ 0.52334292, -0.02466171],\n",
       "       [-0.02466171,  0.10069055]])"
      ]
     },
     "execution_count": 74,
     "metadata": {},
     "output_type": "execute_result"
    }
   ],
   "source": [
    "cov_matrix_year = np.cov(df['creation_time_year'], df['is_adopted'])\n",
    "cov_matrix_year"
   ]
  },
  {
   "cell_type": "code",
   "execution_count": 75,
   "metadata": {
    "scrolled": true
   },
   "outputs": [
    {
     "data": {
      "text/plain": [
       "1     1029\n",
       "2      934\n",
       "3     1177\n",
       "4     1169\n",
       "5     1455\n",
       "6      841\n",
       "7      852\n",
       "8      852\n",
       "9      901\n",
       "10     924\n",
       "11     936\n",
       "12     930\n",
       "Name: creation_time_month, dtype: int64"
      ]
     },
     "execution_count": 75,
     "metadata": {},
     "output_type": "execute_result"
    }
   ],
   "source": [
    "month = df['creation_time_month'].value_counts().sort_index()\n",
    "month"
   ]
  },
  {
   "cell_type": "markdown",
   "metadata": {},
   "source": [
    "The majority of users created their account in May."
   ]
  },
  {
   "cell_type": "code",
   "execution_count": 76,
   "metadata": {},
   "outputs": [
    {
     "data": {
      "text/plain": [
       "<matplotlib.axes._subplots.AxesSubplot at 0x12534c518>"
      ]
     },
     "execution_count": 76,
     "metadata": {},
     "output_type": "execute_result"
    },
    {
     "data": {
      "image/png": "[encoded data removed]",
      "text/plain": [
       "<Figure size 648x648 with 1 Axes>"
      ]
     },
     "metadata": {
      "needs_background": "light"
     },
     "output_type": "display_data"
    }
   ],
   "source": [
    "month.plot(xticks=[1, 2, 3, 4, 5, 6, 7, 8, 9, 10, 11, 12], figsize=(9, 9), c='blue', title='Month of Account Creations')"
   ]
  },
  {
   "cell_type": "code",
   "execution_count": 77,
   "metadata": {},
   "outputs": [
    {
     "data": {
      "text/plain": [
       "0.05270596189640272"
      ]
     },
     "execution_count": 77,
     "metadata": {},
     "output_type": "execute_result"
    }
   ],
   "source": [
    "r_month = pearson_r(df['creation_time_month'], df['is_adopted'])\n",
    "r_month"
   ]
  },
  {
   "cell_type": "code",
   "execution_count": 78,
   "metadata": {},
   "outputs": [
    {
     "data": {
      "text/plain": [
       "array([[11.7235596 ,  0.05726429],\n",
       "       [ 0.05726429,  0.10069055]])"
      ]
     },
     "execution_count": 78,
     "metadata": {},
     "output_type": "execute_result"
    }
   ],
   "source": [
    "cov_matrix_year = np.cov(df['creation_time_month'], df['is_adopted'])\n",
    "cov_matrix_year"
   ]
  },
  {
   "cell_type": "code",
   "execution_count": 79,
   "metadata": {},
   "outputs": [
    {
     "data": {
      "text/plain": [
       "1     390\n",
       "2     396\n",
       "3     402\n",
       "4     354\n",
       "5     368\n",
       "6     377\n",
       "7     363\n",
       "8     375\n",
       "9     368\n",
       "10    364\n",
       "11    417\n",
       "12    365\n",
       "13    396\n",
       "14    440\n",
       "15    385\n",
       "16    391\n",
       "17    392\n",
       "18    423\n",
       "19    368\n",
       "20    409\n",
       "21    406\n",
       "22    394\n",
       "23    417\n",
       "24    398\n",
       "25    405\n",
       "26    386\n",
       "27    422\n",
       "28    449\n",
       "29    384\n",
       "30    392\n",
       "31    204\n",
       "Name: creation_time_day, dtype: int64"
      ]
     },
     "execution_count": 79,
     "metadata": {},
     "output_type": "execute_result"
    }
   ],
   "source": [
    "day = df['creation_time_day'].value_counts().sort_index()\n",
    "day"
   ]
  },
  {
   "cell_type": "markdown",
   "metadata": {},
   "source": [
    "As can be seen, there is no discernable pattern in the day of the month that users created their account."
   ]
  },
  {
   "cell_type": "code",
   "execution_count": 80,
   "metadata": {},
   "outputs": [
    {
     "data": {
      "text/plain": [
       "<matplotlib.axes._subplots.AxesSubplot at 0x1244cf8d0>"
      ]
     },
     "execution_count": 80,
     "metadata": {},
     "output_type": "execute_result"
    },
    {
     "data": {
      "image/png": "[encoded data removed]",
      "text/plain": [
       "<Figure size 648x648 with 1 Axes>"
      ]
     },
     "metadata": {
      "needs_background": "light"
     },
     "output_type": "display_data"
    }
   ],
   "source": [
    "day.plot(xticks=[1, 2, 3, 4, 5, 6, 7, 8, 9, 10, 11, 12, 13, 14, 15, 16, 17, 18, 19, 20, 21, 22, 23, 24, \n",
    "                25, 26, 27, 28, 29, 30, 31], figsize=(9, 9), c='blue', title='Day of Account Creations')"
   ]
  },
  {
   "cell_type": "code",
   "execution_count": 81,
   "metadata": {},
   "outputs": [
    {
     "data": {
      "text/plain": [
       "-0.013416496123574328"
      ]
     },
     "execution_count": 81,
     "metadata": {},
     "output_type": "execute_result"
    }
   ],
   "source": [
    "r_day = pearson_r(df['creation_time_day'], df['is_adopted'])\n",
    "r_day"
   ]
  },
  {
   "cell_type": "code",
   "execution_count": 82,
   "metadata": {},
   "outputs": [
    {
     "data": {
      "text/plain": [
       "array([[ 7.75021952e+01, -3.74792135e-02],\n",
       "       [-3.74792135e-02,  1.00690551e-01]])"
      ]
     },
     "execution_count": 82,
     "metadata": {},
     "output_type": "execute_result"
    }
   ],
   "source": [
    "cov_matrix_day = np.cov(df['creation_time_day'], df['is_adopted'])\n",
    "cov_matrix_day"
   ]
  },
  {
   "cell_type": "code",
   "execution_count": 83,
   "metadata": {
    "scrolled": true
   },
   "outputs": [
    {
     "data": {
      "text/plain": [
       "0     479\n",
       "1     490\n",
       "2     504\n",
       "3     487\n",
       "4     498\n",
       "5     522\n",
       "6     455\n",
       "7     495\n",
       "8     503\n",
       "9     521\n",
       "10    496\n",
       "11    529\n",
       "12    522\n",
       "13    518\n",
       "14    488\n",
       "15    455\n",
       "16    471\n",
       "17    504\n",
       "18    498\n",
       "19    536\n",
       "20    510\n",
       "21    519\n",
       "22    482\n",
       "23    518\n",
       "Name: creation_time_hour, dtype: int64"
      ]
     },
     "execution_count": 83,
     "metadata": {},
     "output_type": "execute_result"
    }
   ],
   "source": [
    "hour = df['creation_time_hour'].value_counts().sort_index()\n",
    "hour"
   ]
  },
  {
   "cell_type": "markdown",
   "metadata": {},
   "source": [
    "As can be seen, there are three peaks in the distribution of the hour that users created their account: at 5 am, 9 am, 11 am, and 7 pm."
   ]
  },
  {
   "cell_type": "code",
   "execution_count": 84,
   "metadata": {},
   "outputs": [
    {
     "data": {
      "text/plain": [
       "<matplotlib.axes._subplots.AxesSubplot at 0x125b8d780>"
      ]
     },
     "execution_count": 84,
     "metadata": {},
     "output_type": "execute_result"
    },
    {
     "data": {
      "image/png": "[encoded data removed]",
      "text/plain": [
       "<Figure size 648x648 with 1 Axes>"
      ]
     },
     "metadata": {
      "needs_background": "light"
     },
     "output_type": "display_data"
    }
   ],
   "source": [
    "hour.plot(xticks=[1, 2, 3, 4, 5, 6, 7, 8, 9, 10, 11, 12, 13, 14, 15, 16, 17, 18, 19, 20, 21, 22, 23, 24], \n",
    "          figsize=(9, 9), c='blue', title='Hour of Account Creations')"
   ]
  },
  {
   "cell_type": "code",
   "execution_count": 85,
   "metadata": {},
   "outputs": [
    {
     "data": {
      "text/plain": [
       "0.004550737484934087"
      ]
     },
     "execution_count": 85,
     "metadata": {},
     "output_type": "execute_result"
    }
   ],
   "source": [
    "r_hour = pearson_r(df['creation_time_hour'], df['is_adopted'])\n",
    "r_hour"
   ]
  },
  {
   "cell_type": "code",
   "execution_count": 86,
   "metadata": {},
   "outputs": [
    {
     "data": {
      "text/plain": [
       "array([[4.78156792e+01, 9.98530433e-03],\n",
       "       [9.98530433e-03, 1.00690551e-01]])"
      ]
     },
     "execution_count": 86,
     "metadata": {},
     "output_type": "execute_result"
    }
   ],
   "source": [
    "cov_matrix_hour = np.cov(df['creation_time_hour'], df['is_adopted'])\n",
    "cov_matrix_hour"
   ]
  },
  {
   "cell_type": "code",
   "execution_count": 87,
   "metadata": {},
   "outputs": [
    {
     "data": {
      "text/plain": [
       "0     210\n",
       "1     215\n",
       "2     200\n",
       "3     197\n",
       "4     209\n",
       "5     196\n",
       "6     192\n",
       "7     195\n",
       "8     201\n",
       "9     207\n",
       "10    195\n",
       "11    204\n",
       "12    219\n",
       "13    207\n",
       "14    212\n",
       "15    192\n",
       "16    192\n",
       "17    210\n",
       "18    196\n",
       "19    197\n",
       "20    212\n",
       "21    183\n",
       "22    205\n",
       "23    231\n",
       "24    206\n",
       "25    193\n",
       "26    183\n",
       "27    190\n",
       "28    226\n",
       "29    172\n",
       "30    212\n",
       "31    183\n",
       "32    206\n",
       "33    210\n",
       "34    211\n",
       "35    159\n",
       "36    204\n",
       "37    201\n",
       "38    193\n",
       "39    199\n",
       "40    180\n",
       "41    185\n",
       "42    189\n",
       "43    198\n",
       "44    220\n",
       "45    184\n",
       "46    192\n",
       "47    224\n",
       "48    202\n",
       "49    207\n",
       "50    217\n",
       "51    196\n",
       "52    188\n",
       "53    201\n",
       "54    205\n",
       "55    213\n",
       "56    192\n",
       "57    201\n",
       "58    186\n",
       "59    195\n",
       "Name: creation_time_minute, dtype: int64"
      ]
     },
     "execution_count": 87,
     "metadata": {},
     "output_type": "execute_result"
    }
   ],
   "source": [
    "minutes = df['creation_time_minute'].value_counts().sort_index()\n",
    "minutes"
   ]
  },
  {
   "cell_type": "markdown",
   "metadata": {},
   "source": [
    "There is no discernable pattern in the minute that users created their account."
   ]
  },
  {
   "cell_type": "code",
   "execution_count": 88,
   "metadata": {},
   "outputs": [
    {
     "data": {
      "text/plain": [
       "<matplotlib.axes._subplots.AxesSubplot at 0x126191240>"
      ]
     },
     "execution_count": 88,
     "metadata": {},
     "output_type": "execute_result"
    },
    {
     "data": {
      "image/png": "[encoded data removed]",
      "text/plain": [
       "<Figure size 648x648 with 1 Axes>"
      ]
     },
     "metadata": {
      "needs_background": "light"
     },
     "output_type": "display_data"
    }
   ],
   "source": [
    "minutes.plot(xticks=[1, 3, 5, 7, 9, 11, 13, 15, 17, 19, 21, 23, 25, 27, 28, 30, 32, 34, 36, 38, 40, 42, 44, 46, \n",
    "                    48, 50, 52, 54, 56, 58, 60], \n",
    "          figsize=(9, 9), c='blue', title='Minute of Account Creations')"
   ]
  },
  {
   "cell_type": "code",
   "execution_count": 89,
   "metadata": {},
   "outputs": [
    {
     "data": {
      "text/plain": [
       "0.004954972108420768"
      ]
     },
     "execution_count": 89,
     "metadata": {},
     "output_type": "execute_result"
    }
   ],
   "source": [
    "r_minutes = pearson_r(df['creation_time_minute'], df['is_adopted'])\n",
    "r_minutes"
   ]
  },
  {
   "cell_type": "code",
   "execution_count": 90,
   "metadata": {},
   "outputs": [
    {
     "data": {
      "text/plain": [
       "array([[3.01552847e+02, 2.73034350e-02],\n",
       "       [2.73034350e-02, 1.00690551e-01]])"
      ]
     },
     "execution_count": 90,
     "metadata": {},
     "output_type": "execute_result"
    }
   ],
   "source": [
    "cov_matrix_minutes = np.cov(df['creation_time_minute'], df['is_adopted'])\n",
    "cov_matrix_minutes"
   ]
  },
  {
   "cell_type": "code",
   "execution_count": 91,
   "metadata": {},
   "outputs": [
    {
     "data": {
      "text/plain": [
       "0     203\n",
       "1     195\n",
       "2     206\n",
       "3     180\n",
       "4     230\n",
       "5     204\n",
       "6     177\n",
       "7     198\n",
       "8     218\n",
       "9     205\n",
       "10    197\n",
       "11    203\n",
       "12    190\n",
       "13    175\n",
       "14    176\n",
       "15    200\n",
       "16    200\n",
       "17    202\n",
       "18    172\n",
       "19    194\n",
       "20    203\n",
       "21    234\n",
       "22    191\n",
       "23    206\n",
       "24    209\n",
       "25    172\n",
       "26    239\n",
       "27    213\n",
       "28    197\n",
       "29    200\n",
       "30    224\n",
       "31    199\n",
       "32    181\n",
       "33    208\n",
       "34    229\n",
       "35    219\n",
       "36    192\n",
       "37    209\n",
       "38    165\n",
       "39    170\n",
       "40    203\n",
       "41    205\n",
       "42    219\n",
       "43    201\n",
       "44    213\n",
       "45    219\n",
       "46    179\n",
       "47    195\n",
       "48    187\n",
       "49    218\n",
       "50    191\n",
       "51    221\n",
       "52    187\n",
       "53    188\n",
       "54    199\n",
       "55    202\n",
       "56    187\n",
       "57    227\n",
       "58    192\n",
       "59    182\n",
       "Name: creation_time_seconds, dtype: int64"
      ]
     },
     "execution_count": 91,
     "metadata": {},
     "output_type": "execute_result"
    }
   ],
   "source": [
    "seconds = df['creation_time_seconds'].value_counts().sort_index()\n",
    "seconds"
   ]
  },
  {
   "cell_type": "markdown",
   "metadata": {},
   "source": [
    "There is no discernable pattern in the second that users created their account."
   ]
  },
  {
   "cell_type": "code",
   "execution_count": 92,
   "metadata": {},
   "outputs": [
    {
     "data": {
      "text/plain": [
       "<matplotlib.axes._subplots.AxesSubplot at 0x126366908>"
      ]
     },
     "execution_count": 92,
     "metadata": {},
     "output_type": "execute_result"
    },
    {
     "data": {
      "image/png": "[encoded data removed]",
      "text/plain": [
       "<Figure size 648x648 with 1 Axes>"
      ]
     },
     "metadata": {
      "needs_background": "light"
     },
     "output_type": "display_data"
    }
   ],
   "source": [
    "seconds.plot(xticks=[1, 3, 5, 7, 9, 11, 13, 15, 17, 19, 21, 23, 25, 27, 28, 30, 32, 34, 36, 38, 40, 42, 44, 46, \n",
    "                    48, 50, 52, 54, 56, 58, 60], \n",
    "          figsize=(9, 9), c='blue', title='Second of Account Creations')"
   ]
  },
  {
   "cell_type": "code",
   "execution_count": 93,
   "metadata": {},
   "outputs": [
    {
     "data": {
      "text/plain": [
       "-0.002989208064071932"
      ]
     },
     "execution_count": 93,
     "metadata": {},
     "output_type": "execute_result"
    }
   ],
   "source": [
    "r_seconds = pearson_r(df['creation_time_seconds'], df['is_adopted'])\n",
    "r_seconds"
   ]
  },
  {
   "cell_type": "code",
   "execution_count": 94,
   "metadata": {},
   "outputs": [
    {
     "data": {
      "text/plain": [
       "array([[ 2.97924570e+02, -1.63720727e-02],\n",
       "       [-1.63720727e-02,  1.00690551e-01]])"
      ]
     },
     "execution_count": 94,
     "metadata": {},
     "output_type": "execute_result"
    }
   ],
   "source": [
    "cov_matrix_seconds = np.cov(df['creation_time_seconds'], df['is_adopted'])\n",
    "cov_matrix_seconds"
   ]
  },
  {
   "cell_type": "markdown",
   "metadata": {},
   "source": [
    "## 'creation_source'"
   ]
  },
  {
   "cell_type": "markdown",
   "metadata": {},
   "source": [
    "Finally, the variable storing how users created their Relax account is visualized and its Pearson's correlation with the target variable is calculated."
   ]
  },
  {
   "cell_type": "code",
   "execution_count": 95,
   "metadata": {},
   "outputs": [
    {
     "data": {
      "text/html": [
       "<div>\n",
       "<style scoped>\n",
       "    .dataframe tbody tr th:only-of-type {\n",
       "        vertical-align: middle;\n",
       "    }\n",
       "\n",
       "    .dataframe tbody tr th {\n",
       "        vertical-align: top;\n",
       "    }\n",
       "\n",
       "    .dataframe thead th {\n",
       "        text-align: right;\n",
       "    }\n",
       "</style>\n",
       "<table border=\"1\" class=\"dataframe\">\n",
       "  <thead>\n",
       "    <tr style=\"text-align: right;\">\n",
       "      <th></th>\n",
       "      <th>object_id</th>\n",
       "      <th>creation_time</th>\n",
       "      <th>name</th>\n",
       "      <th>email</th>\n",
       "      <th>creation_source</th>\n",
       "      <th>last_session_creation_time</th>\n",
       "      <th>opted_in_to_mailing_list</th>\n",
       "      <th>enabled_for_marketing_drip</th>\n",
       "      <th>org_id</th>\n",
       "      <th>invited_by_user_id</th>\n",
       "      <th>last_session_creation_time_isnull</th>\n",
       "      <th>invited_by_user_id_isnull</th>\n",
       "      <th>creation_time_year</th>\n",
       "      <th>creation_time_month</th>\n",
       "      <th>creation_time_day</th>\n",
       "      <th>creation_time_hour</th>\n",
       "      <th>creation_time_minute</th>\n",
       "      <th>creation_time_seconds</th>\n",
       "    </tr>\n",
       "  </thead>\n",
       "  <tbody>\n",
       "    <tr>\n",
       "      <th>0</th>\n",
       "      <td>1</td>\n",
       "      <td>2014-04-22 03:53:30</td>\n",
       "      <td>Clausen August</td>\n",
       "      <td>AugustCClausen@yahoo.com</td>\n",
       "      <td>GUEST_INVITE</td>\n",
       "      <td>1.398139e+09</td>\n",
       "      <td>1</td>\n",
       "      <td>0</td>\n",
       "      <td>11</td>\n",
       "      <td>10803.0</td>\n",
       "      <td>False</td>\n",
       "      <td>False</td>\n",
       "      <td>2014</td>\n",
       "      <td>4</td>\n",
       "      <td>22</td>\n",
       "      <td>3</td>\n",
       "      <td>53</td>\n",
       "      <td>30</td>\n",
       "    </tr>\n",
       "  </tbody>\n",
       "</table>\n",
       "</div>"
      ],
      "text/plain": [
       "   object_id        creation_time            name                     email  \\\n",
       "0          1  2014-04-22 03:53:30  Clausen August  AugustCClausen@yahoo.com   \n",
       "\n",
       "  creation_source  last_session_creation_time  opted_in_to_mailing_list  \\\n",
       "0    GUEST_INVITE                1.398139e+09                         1   \n",
       "\n",
       "   enabled_for_marketing_drip  org_id  invited_by_user_id  \\\n",
       "0                           0      11             10803.0   \n",
       "\n",
       "   last_session_creation_time_isnull  invited_by_user_id_isnull  \\\n",
       "0                              False                      False   \n",
       "\n",
       "   creation_time_year  creation_time_month  creation_time_day  \\\n",
       "0                2014                    4                 22   \n",
       "\n",
       "   creation_time_hour  creation_time_minute  creation_time_seconds  \n",
       "0                   3                    53                     30  "
      ]
     },
     "execution_count": 95,
     "metadata": {},
     "output_type": "execute_result"
    }
   ],
   "source": [
    "df_cs = pd.read_csv('relax_4_creation_source_viz.csv')\n",
    "df_cs.head(1)"
   ]
  },
  {
   "cell_type": "code",
   "execution_count": 96,
   "metadata": {},
   "outputs": [
    {
     "data": {
      "text/plain": [
       "ORG_INVITE            35.4\n",
       "GUEST_INVITE          18.0\n",
       "PERSONAL_PROJECTS     17.6\n",
       "SIGNUP                17.4\n",
       "SIGNUP_GOOGLE_AUTH    11.5\n",
       "Name: creation_source, dtype: float64"
      ]
     },
     "execution_count": 96,
     "metadata": {},
     "output_type": "execute_result"
    }
   ],
   "source": [
    "source_counts = round(df_cs['creation_source'].value_counts(normalize=True), 3)*100\n",
    "source_counts"
   ]
  },
  {
   "cell_type": "markdown",
   "metadata": {},
   "source": [
    "As can be seen, the creation source that the most users created their account from is an invitation from an organization."
   ]
  },
  {
   "cell_type": "code",
   "execution_count": 97,
   "metadata": {
    "scrolled": true
   },
   "outputs": [
    {
     "data": {
      "image/png": "[encoded data removed]",
      "text/plain": [
       "<Figure size 432x288 with 1 Axes>"
      ]
     },
     "metadata": {
      "needs_background": "light"
     },
     "output_type": "display_data"
    }
   ],
   "source": [
    "source_counts.plot(kind='barh', title='How users created Relax account', xlim=(0, 100), \n",
    "                    xticks = [0, 10, 20, 30, 40, 50, 60, 70, 80, 90, 100], color=current_palette)\n",
    "plt.xlabel('Percentage of Customers')\n",
    "plt.ylabel('Source of account creation')\n",
    "plt.show()"
   ]
  },
  {
   "cell_type": "code",
   "execution_count": 98,
   "metadata": {},
   "outputs": [
    {
     "data": {
      "text/plain": [
       "0.04394455942649682"
      ]
     },
     "execution_count": 98,
     "metadata": {},
     "output_type": "execute_result"
    }
   ],
   "source": [
    "r_guest_invite = pearson_r(df['creation_source_GUEST_INVITE'], df['is_adopted'])\n",
    "r_guest_invite"
   ]
  },
  {
   "cell_type": "code",
   "execution_count": 99,
   "metadata": {},
   "outputs": [
    {
     "data": {
      "text/plain": [
       "array([[0.14777225, 0.00536038],\n",
       "       [0.00536038, 0.10069055]])"
      ]
     },
     "execution_count": 99,
     "metadata": {},
     "output_type": "execute_result"
    }
   ],
   "source": [
    "cov_matrix_guest_invite = np.cov(df['creation_source_GUEST_INVITE'], df['is_adopted'])\n",
    "cov_matrix_guest_invite"
   ]
  },
  {
   "cell_type": "code",
   "execution_count": 100,
   "metadata": {},
   "outputs": [
    {
     "data": {
      "text/plain": [
       "-0.014375201748258244"
      ]
     },
     "execution_count": 100,
     "metadata": {},
     "output_type": "execute_result"
    }
   ],
   "source": [
    "r_org_invite = pearson_r(df['creation_source_ORG_INVITE'], df['is_adopted'])\n",
    "r_org_invite"
   ]
  },
  {
   "cell_type": "code",
   "execution_count": 101,
   "metadata": {},
   "outputs": [
    {
     "data": {
      "text/plain": [
       "array([[ 0.22884882, -0.00218214],\n",
       "       [-0.00218214,  0.10069055]])"
      ]
     },
     "execution_count": 101,
     "metadata": {},
     "output_type": "execute_result"
    }
   ],
   "source": [
    "cov_matrix_org_invite = np.cov(df['creation_source_ORG_INVITE'], df['is_adopted'])\n",
    "cov_matrix_org_invite"
   ]
  },
  {
   "cell_type": "code",
   "execution_count": 102,
   "metadata": {},
   "outputs": [
    {
     "data": {
      "text/plain": [
       "-0.06951103039749316"
      ]
     },
     "execution_count": 102,
     "metadata": {},
     "output_type": "execute_result"
    }
   ],
   "source": [
    "r_personal_projects = pearson_r(df['creation_source_PERSONAL_PROJECTS'], df['is_adopted'])\n",
    "r_personal_projects"
   ]
  },
  {
   "cell_type": "code",
   "execution_count": 103,
   "metadata": {},
   "outputs": [
    {
     "data": {
      "text/plain": [
       "array([[ 0.14498207, -0.00839857],\n",
       "       [-0.00839857,  0.10069055]])"
      ]
     },
     "execution_count": 103,
     "metadata": {},
     "output_type": "execute_result"
    }
   ],
   "source": [
    "cov_matrix_personal_projects = np.cov(df['creation_source_PERSONAL_PROJECTS'], df['is_adopted'])\n",
    "cov_matrix_personal_projects"
   ]
  },
  {
   "cell_type": "code",
   "execution_count": 104,
   "metadata": {},
   "outputs": [
    {
     "data": {
      "text/plain": [
       "0.017981413188279873"
      ]
     },
     "execution_count": 104,
     "metadata": {},
     "output_type": "execute_result"
    }
   ],
   "source": [
    "r_signup = pearson_r(df['creation_source_SIGNUP'], df['is_adopted'])\n",
    "r_signup"
   ]
  },
  {
   "cell_type": "code",
   "execution_count": 105,
   "metadata": {},
   "outputs": [
    {
     "data": {
      "text/plain": [
       "array([[0.14368163, 0.00216281],\n",
       "       [0.00216281, 0.10069055]])"
      ]
     },
     "execution_count": 105,
     "metadata": {},
     "output_type": "execute_result"
    }
   ],
   "source": [
    "cov_matrix_signup = np.cov(df['creation_source_SIGNUP'], df['is_adopted'])\n",
    "cov_matrix_signup"
   ]
  },
  {
   "cell_type": "code",
   "execution_count": 106,
   "metadata": {},
   "outputs": [
    {
     "data": {
      "text/plain": [
       "0.030154493546089487"
      ]
     },
     "execution_count": 106,
     "metadata": {},
     "output_type": "execute_result"
    }
   ],
   "source": [
    "r_signup_google_auth = pearson_r(df['creation_source_SIGNUP_GOOGLE_AUTH'], df['is_adopted'])\n",
    "r_signup_google_auth"
   ]
  },
  {
   "cell_type": "code",
   "execution_count": 107,
   "metadata": {},
   "outputs": [
    {
     "data": {
      "text/plain": [
       "array([[0.10210417, 0.00305751],\n",
       "       [0.00305751, 0.10069055]])"
      ]
     },
     "execution_count": 107,
     "metadata": {},
     "output_type": "execute_result"
    }
   ],
   "source": [
    "cov_matrix_signup_google_auth = np.cov(df['creation_source_SIGNUP_GOOGLE_AUTH'], df['is_adopted'])\n",
    "cov_matrix_signup_google_auth"
   ]
  },
  {
   "cell_type": "markdown",
   "metadata": {},
   "source": [
    "## Summary of EDA"
   ]
  },
  {
   "cell_type": "markdown",
   "metadata": {},
   "source": [
    "The only notable Pearson's correlation was between the 'last_session_creation_time' feature and the 'is_adopted' target variable, which was 0.37. So it can be seen that as the last session creation time moves forward in time, users become more likely to be adopted."
   ]
  },
  {
   "cell_type": "markdown",
   "metadata": {},
   "source": [
    "## Machine Learning: Optimizing the Classification Algorithm"
   ]
  },
  {
   "cell_type": "markdown",
   "metadata": {},
   "source": [
    "First, the 'adopted' target variable is examined to determine if the two classes 'adopted' and 'not adopted' are balanced or imbalanced."
   ]
  },
  {
   "cell_type": "code",
   "execution_count": 108,
   "metadata": {},
   "outputs": [
    {
     "data": {
      "text/plain": [
       "False    10637\n",
       "True      1363\n",
       "Name: is_adopted, dtype: int64"
      ]
     },
     "execution_count": 108,
     "metadata": {},
     "output_type": "execute_result"
    }
   ],
   "source": [
    "df['is_adopted'].value_counts()"
   ]
  },
  {
   "cell_type": "code",
   "execution_count": 109,
   "metadata": {},
   "outputs": [
    {
     "data": {
      "text/plain": [
       "False    0.886417\n",
       "True     0.113583\n",
       "Name: is_adopted, dtype: float64"
      ]
     },
     "execution_count": 109,
     "metadata": {},
     "output_type": "execute_result"
    }
   ],
   "source": [
    "df['is_adopted'].value_counts(normalize=True)"
   ]
  },
  {
   "cell_type": "markdown",
   "metadata": {},
   "source": [
    "Only 11% of users were adopted users, so the classes are imbalanced. Therefore, a train/test split is first created and then a class balancing procedure is first carried out."
   ]
  },
  {
   "cell_type": "code",
   "execution_count": 110,
   "metadata": {},
   "outputs": [],
   "source": [
    "y = df['is_adopted']"
   ]
  },
  {
   "cell_type": "code",
   "execution_count": 111,
   "metadata": {},
   "outputs": [],
   "source": [
    "target_names = ['is_adopted']\n",
    "X = df[[cn for cn in df.columns if cn not in target_names]]"
   ]
  },
  {
   "cell_type": "code",
   "execution_count": 112,
   "metadata": {},
   "outputs": [],
   "source": [
    "X_train, X_test, y_train, y_test = train_test_split(X, y, test_size=0.2, stratify=y, random_state=42)"
   ]
  },
  {
   "cell_type": "markdown",
   "metadata": {},
   "source": [
    "First, the training data is concatenated back together."
   ]
  },
  {
   "cell_type": "code",
   "execution_count": 113,
   "metadata": {},
   "outputs": [],
   "source": [
    "X = pd.concat([X_train, y_train], axis=1)"
   ]
  },
  {
   "cell_type": "markdown",
   "metadata": {},
   "source": [
    "Then, the minority and majority classes are separated."
   ]
  },
  {
   "cell_type": "code",
   "execution_count": 114,
   "metadata": {},
   "outputs": [],
   "source": [
    "not_adopted = X[X.is_adopted == 0]\n",
    "adopted = X[X.is_adopted == 1]"
   ]
  },
  {
   "cell_type": "markdown",
   "metadata": {},
   "source": [
    "Then, the minority class (i.e., adopted) is upsampled."
   ]
  },
  {
   "cell_type": "code",
   "execution_count": 115,
   "metadata": {},
   "outputs": [],
   "source": [
    "from sklearn.utils import resample"
   ]
  },
  {
   "cell_type": "code",
   "execution_count": 116,
   "metadata": {},
   "outputs": [],
   "source": [
    "adopted_upsampled = resample(adopted,\n",
    "                          replace=True, # sample with replacement\n",
    "                          n_samples=len(not_adopted), # match number in majority class\n",
    "                          random_state=27) # reproducible results"
   ]
  },
  {
   "cell_type": "markdown",
   "metadata": {},
   "source": [
    "Then, the majority and upsampled minority classes are combined."
   ]
  },
  {
   "cell_type": "code",
   "execution_count": 117,
   "metadata": {},
   "outputs": [],
   "source": [
    "upsampled = pd.concat([not_adopted, adopted_upsampled])"
   ]
  },
  {
   "cell_type": "markdown",
   "metadata": {},
   "source": [
    "The new class counts are checked."
   ]
  },
  {
   "cell_type": "code",
   "execution_count": 118,
   "metadata": {},
   "outputs": [
    {
     "data": {
      "text/plain": [
       "True     8510\n",
       "False    8510\n",
       "Name: is_adopted, dtype: int64"
      ]
     },
     "execution_count": 118,
     "metadata": {},
     "output_type": "execute_result"
    }
   ],
   "source": [
    "upsampled.is_adopted.value_counts()"
   ]
  },
  {
   "cell_type": "markdown",
   "metadata": {},
   "source": [
    "The 'y_train' target and 'X_train' feature set is then re-defined."
   ]
  },
  {
   "cell_type": "code",
   "execution_count": 119,
   "metadata": {},
   "outputs": [],
   "source": [
    "y_train = upsampled.is_adopted"
   ]
  },
  {
   "cell_type": "code",
   "execution_count": 120,
   "metadata": {},
   "outputs": [],
   "source": [
    "X_train = upsampled.drop('is_adopted', axis=1)"
   ]
  },
  {
   "cell_type": "code",
   "execution_count": 121,
   "metadata": {},
   "outputs": [],
   "source": [
    "lr_1 = linear_model.LogisticRegression(penalty='l2', C=0.001, solver='lbfgs', max_iter=6000, tol=0.001).fit(X_train, y_train)"
   ]
  },
  {
   "cell_type": "code",
   "execution_count": 122,
   "metadata": {},
   "outputs": [
    {
     "data": {
      "text/plain": [
       "array([ True,  True,  True,  True,  True,  True,  True,  True,  True,\n",
       "        True,  True,  True,  True,  True,  True,  True,  True,  True,\n",
       "        True,  True,  True,  True,  True,  True,  True,  True,  True,\n",
       "        True,  True,  True,  True,  True,  True,  True,  True])"
      ]
     },
     "execution_count": 122,
     "metadata": {},
     "output_type": "execute_result"
    }
   ],
   "source": [
    "lr_pred_1 = lr_1.predict(X_test)\n",
    "lr_pred_1[0:35]"
   ]
  },
  {
   "cell_type": "code",
   "execution_count": 123,
   "metadata": {},
   "outputs": [
    {
     "data": {
      "text/plain": [
       "0.11375"
      ]
     },
     "execution_count": 123,
     "metadata": {},
     "output_type": "execute_result"
    }
   ],
   "source": [
    "accuracy_score(y_test, lr_pred_1)"
   ]
  },
  {
   "cell_type": "code",
   "execution_count": 124,
   "metadata": {
    "scrolled": true
   },
   "outputs": [
    {
     "name": "stdout",
     "output_type": "stream",
     "text": [
      "[[   0 2127]\n",
      " [   0  273]]\n"
     ]
    }
   ],
   "source": [
    "print(confusion_matrix(y_test, lr_pred_1))"
   ]
  },
  {
   "cell_type": "code",
   "execution_count": 125,
   "metadata": {},
   "outputs": [
    {
     "name": "stdout",
     "output_type": "stream",
     "text": [
      "              precision    recall  f1-score   support\n",
      "\n",
      "       False       0.00      0.00      0.00      2127\n",
      "        True       0.11      1.00      0.20       273\n",
      "\n",
      "   micro avg       0.11      0.11      0.11      2400\n",
      "   macro avg       0.06      0.50      0.10      2400\n",
      "weighted avg       0.01      0.11      0.02      2400\n",
      "\n"
     ]
    },
    {
     "name": "stderr",
     "output_type": "stream",
     "text": [
      "/Users/DanLoew/anaconda3/lib/python3.7/site-packages/sklearn/metrics/classification.py:1143: UndefinedMetricWarning: Precision and F-score are ill-defined and being set to 0.0 in labels with no predicted samples.\n",
      "  'precision', 'predicted', average, warn_for)\n",
      "/Users/DanLoew/anaconda3/lib/python3.7/site-packages/sklearn/metrics/classification.py:1143: UndefinedMetricWarning: Precision and F-score are ill-defined and being set to 0.0 in labels with no predicted samples.\n",
      "  'precision', 'predicted', average, warn_for)\n",
      "/Users/DanLoew/anaconda3/lib/python3.7/site-packages/sklearn/metrics/classification.py:1143: UndefinedMetricWarning: Precision and F-score are ill-defined and being set to 0.0 in labels with no predicted samples.\n",
      "  'precision', 'predicted', average, warn_for)\n"
     ]
    }
   ],
   "source": [
    "print(classification_report(y_test, lr_pred_1))"
   ]
  },
  {
   "cell_type": "code",
   "execution_count": 126,
   "metadata": {},
   "outputs": [],
   "source": [
    "lr_2 = linear_model.LogisticRegression(penalty='l2', C=0.01, solver='lbfgs', max_iter=6000, tol=0.001).fit(X_train, y_train)"
   ]
  },
  {
   "cell_type": "code",
   "execution_count": 128,
   "metadata": {},
   "outputs": [
    {
     "data": {
      "text/plain": [
       "array([ True,  True,  True,  True,  True,  True,  True,  True,  True,\n",
       "        True,  True,  True,  True,  True,  True,  True,  True,  True,\n",
       "        True,  True,  True,  True,  True,  True,  True,  True,  True,\n",
       "        True,  True,  True,  True,  True,  True,  True,  True])"
      ]
     },
     "execution_count": 128,
     "metadata": {},
     "output_type": "execute_result"
    }
   ],
   "source": [
    "lr_pred_2 = lr_2.predict(X_test)\n",
    "lr_pred_2[0:35]"
   ]
  },
  {
   "cell_type": "code",
   "execution_count": 129,
   "metadata": {},
   "outputs": [
    {
     "data": {
      "text/plain": [
       "0.11375"
      ]
     },
     "execution_count": 129,
     "metadata": {},
     "output_type": "execute_result"
    }
   ],
   "source": [
    "accuracy_score(y_test, lr_pred_2)"
   ]
  },
  {
   "cell_type": "code",
   "execution_count": 130,
   "metadata": {},
   "outputs": [
    {
     "name": "stdout",
     "output_type": "stream",
     "text": [
      "[[   0 2127]\n",
      " [   0  273]]\n"
     ]
    }
   ],
   "source": [
    "print(confusion_matrix(y_test, lr_pred_2))"
   ]
  },
  {
   "cell_type": "code",
   "execution_count": 131,
   "metadata": {},
   "outputs": [
    {
     "name": "stdout",
     "output_type": "stream",
     "text": [
      "              precision    recall  f1-score   support\n",
      "\n",
      "       False       0.00      0.00      0.00      2127\n",
      "        True       0.11      1.00      0.20       273\n",
      "\n",
      "   micro avg       0.11      0.11      0.11      2400\n",
      "   macro avg       0.06      0.50      0.10      2400\n",
      "weighted avg       0.01      0.11      0.02      2400\n",
      "\n"
     ]
    },
    {
     "name": "stderr",
     "output_type": "stream",
     "text": [
      "/Users/DanLoew/anaconda3/lib/python3.7/site-packages/sklearn/metrics/classification.py:1143: UndefinedMetricWarning: Precision and F-score are ill-defined and being set to 0.0 in labels with no predicted samples.\n",
      "  'precision', 'predicted', average, warn_for)\n",
      "/Users/DanLoew/anaconda3/lib/python3.7/site-packages/sklearn/metrics/classification.py:1143: UndefinedMetricWarning: Precision and F-score are ill-defined and being set to 0.0 in labels with no predicted samples.\n",
      "  'precision', 'predicted', average, warn_for)\n",
      "/Users/DanLoew/anaconda3/lib/python3.7/site-packages/sklearn/metrics/classification.py:1143: UndefinedMetricWarning: Precision and F-score are ill-defined and being set to 0.0 in labels with no predicted samples.\n",
      "  'precision', 'predicted', average, warn_for)\n"
     ]
    }
   ],
   "source": [
    "print(classification_report(y_test, lr_pred_2))"
   ]
  },
  {
   "cell_type": "code",
   "execution_count": 132,
   "metadata": {},
   "outputs": [],
   "source": [
    "lr_3 = linear_model.LogisticRegression(penalty='l2', C=0.1, solver='lbfgs', max_iter=6000, tol=0.001).fit(X_train, y_train)"
   ]
  },
  {
   "cell_type": "code",
   "execution_count": 133,
   "metadata": {},
   "outputs": [
    {
     "data": {
      "text/plain": [
       "array([ True,  True,  True,  True,  True,  True,  True,  True,  True,\n",
       "        True,  True,  True,  True,  True,  True,  True,  True,  True,\n",
       "        True,  True,  True,  True,  True,  True,  True,  True,  True,\n",
       "        True,  True,  True,  True,  True,  True,  True,  True])"
      ]
     },
     "execution_count": 133,
     "metadata": {},
     "output_type": "execute_result"
    }
   ],
   "source": [
    "lr_pred_3 = lr_3.predict(X_test)\n",
    "lr_pred_3[0:35]"
   ]
  },
  {
   "cell_type": "code",
   "execution_count": 134,
   "metadata": {},
   "outputs": [
    {
     "data": {
      "text/plain": [
       "0.11375"
      ]
     },
     "execution_count": 134,
     "metadata": {},
     "output_type": "execute_result"
    }
   ],
   "source": [
    "accuracy_score(y_test, lr_pred_3)"
   ]
  },
  {
   "cell_type": "code",
   "execution_count": 135,
   "metadata": {},
   "outputs": [
    {
     "name": "stdout",
     "output_type": "stream",
     "text": [
      "[[   0 2127]\n",
      " [   0  273]]\n"
     ]
    }
   ],
   "source": [
    "print(confusion_matrix(y_test, lr_pred_3))"
   ]
  },
  {
   "cell_type": "code",
   "execution_count": 136,
   "metadata": {
    "scrolled": true
   },
   "outputs": [
    {
     "name": "stdout",
     "output_type": "stream",
     "text": [
      "              precision    recall  f1-score   support\n",
      "\n",
      "       False       0.00      0.00      0.00      2127\n",
      "        True       0.11      1.00      0.20       273\n",
      "\n",
      "   micro avg       0.11      0.11      0.11      2400\n",
      "   macro avg       0.06      0.50      0.10      2400\n",
      "weighted avg       0.01      0.11      0.02      2400\n",
      "\n"
     ]
    },
    {
     "name": "stderr",
     "output_type": "stream",
     "text": [
      "/Users/DanLoew/anaconda3/lib/python3.7/site-packages/sklearn/metrics/classification.py:1143: UndefinedMetricWarning: Precision and F-score are ill-defined and being set to 0.0 in labels with no predicted samples.\n",
      "  'precision', 'predicted', average, warn_for)\n",
      "/Users/DanLoew/anaconda3/lib/python3.7/site-packages/sklearn/metrics/classification.py:1143: UndefinedMetricWarning: Precision and F-score are ill-defined and being set to 0.0 in labels with no predicted samples.\n",
      "  'precision', 'predicted', average, warn_for)\n",
      "/Users/DanLoew/anaconda3/lib/python3.7/site-packages/sklearn/metrics/classification.py:1143: UndefinedMetricWarning: Precision and F-score are ill-defined and being set to 0.0 in labels with no predicted samples.\n",
      "  'precision', 'predicted', average, warn_for)\n"
     ]
    }
   ],
   "source": [
    "print(classification_report(y_test, lr_pred_3))"
   ]
  },
  {
   "cell_type": "code",
   "execution_count": 138,
   "metadata": {},
   "outputs": [],
   "source": [
    "lr_4 = linear_model.LogisticRegression(penalty='l2', C=1.0, solver='lbfgs', max_iter=6000, tol=0.001).fit(X_train, y_train)"
   ]
  },
  {
   "cell_type": "code",
   "execution_count": 139,
   "metadata": {},
   "outputs": [
    {
     "data": {
      "text/plain": [
       "array([ True,  True,  True,  True,  True,  True,  True,  True,  True,\n",
       "        True,  True,  True,  True,  True,  True,  True,  True,  True,\n",
       "        True,  True,  True,  True,  True,  True,  True,  True,  True,\n",
       "        True,  True,  True,  True,  True,  True,  True,  True])"
      ]
     },
     "execution_count": 139,
     "metadata": {},
     "output_type": "execute_result"
    }
   ],
   "source": [
    "lr_pred_4 = lr_4.predict(X_test)\n",
    "lr_pred_4[0:35]"
   ]
  },
  {
   "cell_type": "code",
   "execution_count": 140,
   "metadata": {},
   "outputs": [
    {
     "data": {
      "text/plain": [
       "0.11375"
      ]
     },
     "execution_count": 140,
     "metadata": {},
     "output_type": "execute_result"
    }
   ],
   "source": [
    "accuracy_score(y_test, lr_pred_4)"
   ]
  },
  {
   "cell_type": "code",
   "execution_count": 141,
   "metadata": {},
   "outputs": [
    {
     "name": "stdout",
     "output_type": "stream",
     "text": [
      "[[   0 2127]\n",
      " [   0  273]]\n"
     ]
    }
   ],
   "source": [
    "print(confusion_matrix(y_test, lr_pred_4))"
   ]
  },
  {
   "cell_type": "code",
   "execution_count": 142,
   "metadata": {},
   "outputs": [
    {
     "name": "stdout",
     "output_type": "stream",
     "text": [
      "              precision    recall  f1-score   support\n",
      "\n",
      "       False       0.00      0.00      0.00      2127\n",
      "        True       0.11      1.00      0.20       273\n",
      "\n",
      "   micro avg       0.11      0.11      0.11      2400\n",
      "   macro avg       0.06      0.50      0.10      2400\n",
      "weighted avg       0.01      0.11      0.02      2400\n",
      "\n"
     ]
    },
    {
     "name": "stderr",
     "output_type": "stream",
     "text": [
      "/Users/DanLoew/anaconda3/lib/python3.7/site-packages/sklearn/metrics/classification.py:1143: UndefinedMetricWarning: Precision and F-score are ill-defined and being set to 0.0 in labels with no predicted samples.\n",
      "  'precision', 'predicted', average, warn_for)\n",
      "/Users/DanLoew/anaconda3/lib/python3.7/site-packages/sklearn/metrics/classification.py:1143: UndefinedMetricWarning: Precision and F-score are ill-defined and being set to 0.0 in labels with no predicted samples.\n",
      "  'precision', 'predicted', average, warn_for)\n",
      "/Users/DanLoew/anaconda3/lib/python3.7/site-packages/sklearn/metrics/classification.py:1143: UndefinedMetricWarning: Precision and F-score are ill-defined and being set to 0.0 in labels with no predicted samples.\n",
      "  'precision', 'predicted', average, warn_for)\n"
     ]
    }
   ],
   "source": [
    "print(classification_report(y_test, lr_pred_4))"
   ]
  },
  {
   "cell_type": "code",
   "execution_count": 143,
   "metadata": {},
   "outputs": [],
   "source": [
    "lr_5 = linear_model.LogisticRegression(penalty='l2', C=10.0, solver='lbfgs', max_iter=6000, tol=0.001).fit(X_train, y_train)"
   ]
  },
  {
   "cell_type": "code",
   "execution_count": 144,
   "metadata": {},
   "outputs": [
    {
     "data": {
      "text/plain": [
       "array([ True,  True,  True,  True,  True,  True,  True,  True,  True,\n",
       "        True,  True,  True,  True,  True,  True,  True,  True,  True,\n",
       "        True,  True,  True,  True,  True,  True,  True,  True,  True,\n",
       "        True,  True,  True,  True,  True,  True,  True,  True])"
      ]
     },
     "execution_count": 144,
     "metadata": {},
     "output_type": "execute_result"
    }
   ],
   "source": [
    "lr_pred_5 = lr_5.predict(X_test)\n",
    "lr_pred_5[0:35]"
   ]
  },
  {
   "cell_type": "code",
   "execution_count": 145,
   "metadata": {},
   "outputs": [
    {
     "data": {
      "text/plain": [
       "0.11375"
      ]
     },
     "execution_count": 145,
     "metadata": {},
     "output_type": "execute_result"
    }
   ],
   "source": [
    "accuracy_score(y_test, lr_pred_5)"
   ]
  },
  {
   "cell_type": "code",
   "execution_count": 146,
   "metadata": {},
   "outputs": [
    {
     "name": "stdout",
     "output_type": "stream",
     "text": [
      "[[   0 2127]\n",
      " [   0  273]]\n"
     ]
    }
   ],
   "source": [
    "print(confusion_matrix(y_test, lr_pred_5))"
   ]
  },
  {
   "cell_type": "code",
   "execution_count": 147,
   "metadata": {},
   "outputs": [
    {
     "name": "stdout",
     "output_type": "stream",
     "text": [
      "              precision    recall  f1-score   support\n",
      "\n",
      "       False       0.00      0.00      0.00      2127\n",
      "        True       0.11      1.00      0.20       273\n",
      "\n",
      "   micro avg       0.11      0.11      0.11      2400\n",
      "   macro avg       0.06      0.50      0.10      2400\n",
      "weighted avg       0.01      0.11      0.02      2400\n",
      "\n"
     ]
    },
    {
     "name": "stderr",
     "output_type": "stream",
     "text": [
      "/Users/DanLoew/anaconda3/lib/python3.7/site-packages/sklearn/metrics/classification.py:1143: UndefinedMetricWarning: Precision and F-score are ill-defined and being set to 0.0 in labels with no predicted samples.\n",
      "  'precision', 'predicted', average, warn_for)\n",
      "/Users/DanLoew/anaconda3/lib/python3.7/site-packages/sklearn/metrics/classification.py:1143: UndefinedMetricWarning: Precision and F-score are ill-defined and being set to 0.0 in labels with no predicted samples.\n",
      "  'precision', 'predicted', average, warn_for)\n",
      "/Users/DanLoew/anaconda3/lib/python3.7/site-packages/sklearn/metrics/classification.py:1143: UndefinedMetricWarning: Precision and F-score are ill-defined and being set to 0.0 in labels with no predicted samples.\n",
      "  'precision', 'predicted', average, warn_for)\n"
     ]
    }
   ],
   "source": [
    "print(classification_report(y_test, lr_pred_5))"
   ]
  },
  {
   "cell_type": "code",
   "execution_count": 148,
   "metadata": {},
   "outputs": [],
   "source": [
    "lr_6 = linear_model.LogisticRegression(penalty='l2', C=100.0, solver='lbfgs', max_iter=12000, tol=0.001).fit(X_train, y_train)"
   ]
  },
  {
   "cell_type": "code",
   "execution_count": 149,
   "metadata": {},
   "outputs": [
    {
     "data": {
      "text/plain": [
       "array([ True,  True,  True,  True,  True,  True,  True,  True,  True,\n",
       "        True,  True,  True,  True,  True,  True,  True,  True,  True,\n",
       "        True,  True,  True,  True,  True,  True,  True,  True,  True,\n",
       "        True,  True,  True,  True,  True,  True,  True,  True])"
      ]
     },
     "execution_count": 149,
     "metadata": {},
     "output_type": "execute_result"
    }
   ],
   "source": [
    "lr_pred_6 = lr_6.predict(X_test)\n",
    "lr_pred_6[0:35]"
   ]
  },
  {
   "cell_type": "code",
   "execution_count": 150,
   "metadata": {},
   "outputs": [
    {
     "data": {
      "text/plain": [
       "0.11375"
      ]
     },
     "execution_count": 150,
     "metadata": {},
     "output_type": "execute_result"
    }
   ],
   "source": [
    "accuracy_score(y_test, lr_pred_6)"
   ]
  },
  {
   "cell_type": "code",
   "execution_count": 151,
   "metadata": {},
   "outputs": [
    {
     "data": {
      "text/plain": [
       "array([[   0, 2127],\n",
       "       [   0,  273]])"
      ]
     },
     "execution_count": 151,
     "metadata": {},
     "output_type": "execute_result"
    }
   ],
   "source": [
    "confusion_matrix(y_test, lr_pred_6)"
   ]
  },
  {
   "cell_type": "code",
   "execution_count": 152,
   "metadata": {},
   "outputs": [
    {
     "name": "stdout",
     "output_type": "stream",
     "text": [
      "              precision    recall  f1-score   support\n",
      "\n",
      "       False       0.00      0.00      0.00      2127\n",
      "        True       0.11      1.00      0.20       273\n",
      "\n",
      "   micro avg       0.11      0.11      0.11      2400\n",
      "   macro avg       0.06      0.50      0.10      2400\n",
      "weighted avg       0.01      0.11      0.02      2400\n",
      "\n"
     ]
    },
    {
     "name": "stderr",
     "output_type": "stream",
     "text": [
      "/Users/DanLoew/anaconda3/lib/python3.7/site-packages/sklearn/metrics/classification.py:1143: UndefinedMetricWarning: Precision and F-score are ill-defined and being set to 0.0 in labels with no predicted samples.\n",
      "  'precision', 'predicted', average, warn_for)\n",
      "/Users/DanLoew/anaconda3/lib/python3.7/site-packages/sklearn/metrics/classification.py:1143: UndefinedMetricWarning: Precision and F-score are ill-defined and being set to 0.0 in labels with no predicted samples.\n",
      "  'precision', 'predicted', average, warn_for)\n",
      "/Users/DanLoew/anaconda3/lib/python3.7/site-packages/sklearn/metrics/classification.py:1143: UndefinedMetricWarning: Precision and F-score are ill-defined and being set to 0.0 in labels with no predicted samples.\n",
      "  'precision', 'predicted', average, warn_for)\n"
     ]
    }
   ],
   "source": [
    "print(classification_report(y_test, lr_pred_6))"
   ]
  },
  {
   "cell_type": "code",
   "execution_count": 153,
   "metadata": {},
   "outputs": [],
   "source": [
    "lr_7 = linear_model.LogisticRegression(penalty='l1', C=0.001, solver='saga', max_iter=12000, tol=0.001).fit(X_train, y_train)"
   ]
  },
  {
   "cell_type": "code",
   "execution_count": 154,
   "metadata": {},
   "outputs": [
    {
     "data": {
      "text/plain": [
       "array([ True,  True,  True,  True,  True,  True,  True,  True,  True,\n",
       "        True,  True,  True,  True,  True,  True,  True,  True,  True,\n",
       "        True,  True,  True,  True,  True,  True,  True,  True,  True,\n",
       "        True,  True,  True,  True,  True,  True,  True,  True])"
      ]
     },
     "execution_count": 154,
     "metadata": {},
     "output_type": "execute_result"
    }
   ],
   "source": [
    "lr_pred_7 = lr_7.predict(X_test)\n",
    "lr_pred_7[0:35]"
   ]
  },
  {
   "cell_type": "code",
   "execution_count": 155,
   "metadata": {},
   "outputs": [
    {
     "data": {
      "text/plain": [
       "0.11375"
      ]
     },
     "execution_count": 155,
     "metadata": {},
     "output_type": "execute_result"
    }
   ],
   "source": [
    "accuracy_score(y_test, lr_pred_7)"
   ]
  },
  {
   "cell_type": "code",
   "execution_count": 156,
   "metadata": {},
   "outputs": [
    {
     "data": {
      "text/plain": [
       "array([[   0, 2127],\n",
       "       [   0,  273]])"
      ]
     },
     "execution_count": 156,
     "metadata": {},
     "output_type": "execute_result"
    }
   ],
   "source": [
    "confusion_matrix(y_test, lr_pred_7)"
   ]
  },
  {
   "cell_type": "code",
   "execution_count": 157,
   "metadata": {},
   "outputs": [
    {
     "name": "stdout",
     "output_type": "stream",
     "text": [
      "              precision    recall  f1-score   support\n",
      "\n",
      "       False       0.00      0.00      0.00      2127\n",
      "        True       0.11      1.00      0.20       273\n",
      "\n",
      "   micro avg       0.11      0.11      0.11      2400\n",
      "   macro avg       0.06      0.50      0.10      2400\n",
      "weighted avg       0.01      0.11      0.02      2400\n",
      "\n"
     ]
    },
    {
     "name": "stderr",
     "output_type": "stream",
     "text": [
      "/Users/DanLoew/anaconda3/lib/python3.7/site-packages/sklearn/metrics/classification.py:1143: UndefinedMetricWarning: Precision and F-score are ill-defined and being set to 0.0 in labels with no predicted samples.\n",
      "  'precision', 'predicted', average, warn_for)\n",
      "/Users/DanLoew/anaconda3/lib/python3.7/site-packages/sklearn/metrics/classification.py:1143: UndefinedMetricWarning: Precision and F-score are ill-defined and being set to 0.0 in labels with no predicted samples.\n",
      "  'precision', 'predicted', average, warn_for)\n",
      "/Users/DanLoew/anaconda3/lib/python3.7/site-packages/sklearn/metrics/classification.py:1143: UndefinedMetricWarning: Precision and F-score are ill-defined and being set to 0.0 in labels with no predicted samples.\n",
      "  'precision', 'predicted', average, warn_for)\n"
     ]
    }
   ],
   "source": [
    "print(classification_report(y_test, lr_pred_7))"
   ]
  },
  {
   "cell_type": "code",
   "execution_count": 158,
   "metadata": {},
   "outputs": [],
   "source": [
    "lr_8 = linear_model.LogisticRegression(penalty='l1', C=0.01, solver='saga', max_iter=12000, tol=0.001).fit(X_train, y_train)"
   ]
  },
  {
   "cell_type": "code",
   "execution_count": 159,
   "metadata": {},
   "outputs": [
    {
     "data": {
      "text/plain": [
       "array([ True,  True,  True,  True,  True,  True,  True,  True,  True,\n",
       "        True,  True,  True,  True,  True,  True,  True,  True,  True,\n",
       "        True,  True,  True,  True,  True,  True,  True,  True,  True,\n",
       "        True,  True,  True,  True,  True,  True,  True,  True])"
      ]
     },
     "execution_count": 159,
     "metadata": {},
     "output_type": "execute_result"
    }
   ],
   "source": [
    "lr_pred_8 = lr_8.predict(X_test)\n",
    "lr_pred_8[0:35]"
   ]
  },
  {
   "cell_type": "code",
   "execution_count": 160,
   "metadata": {},
   "outputs": [
    {
     "data": {
      "text/plain": [
       "0.11375"
      ]
     },
     "execution_count": 160,
     "metadata": {},
     "output_type": "execute_result"
    }
   ],
   "source": [
    "accuracy_score(y_test, lr_pred_8)"
   ]
  },
  {
   "cell_type": "code",
   "execution_count": 161,
   "metadata": {},
   "outputs": [
    {
     "data": {
      "text/plain": [
       "array([[   0, 2127],\n",
       "       [   0,  273]])"
      ]
     },
     "execution_count": 161,
     "metadata": {},
     "output_type": "execute_result"
    }
   ],
   "source": [
    "confusion_matrix(y_test, lr_pred_8)"
   ]
  },
  {
   "cell_type": "code",
   "execution_count": 162,
   "metadata": {},
   "outputs": [
    {
     "name": "stdout",
     "output_type": "stream",
     "text": [
      "              precision    recall  f1-score   support\n",
      "\n",
      "       False       0.00      0.00      0.00      2127\n",
      "        True       0.11      1.00      0.20       273\n",
      "\n",
      "   micro avg       0.11      0.11      0.11      2400\n",
      "   macro avg       0.06      0.50      0.10      2400\n",
      "weighted avg       0.01      0.11      0.02      2400\n",
      "\n"
     ]
    },
    {
     "name": "stderr",
     "output_type": "stream",
     "text": [
      "/Users/DanLoew/anaconda3/lib/python3.7/site-packages/sklearn/metrics/classification.py:1143: UndefinedMetricWarning: Precision and F-score are ill-defined and being set to 0.0 in labels with no predicted samples.\n",
      "  'precision', 'predicted', average, warn_for)\n",
      "/Users/DanLoew/anaconda3/lib/python3.7/site-packages/sklearn/metrics/classification.py:1143: UndefinedMetricWarning: Precision and F-score are ill-defined and being set to 0.0 in labels with no predicted samples.\n",
      "  'precision', 'predicted', average, warn_for)\n",
      "/Users/DanLoew/anaconda3/lib/python3.7/site-packages/sklearn/metrics/classification.py:1143: UndefinedMetricWarning: Precision and F-score are ill-defined and being set to 0.0 in labels with no predicted samples.\n",
      "  'precision', 'predicted', average, warn_for)\n"
     ]
    }
   ],
   "source": [
    "print(classification_report(y_test, lr_pred_8))"
   ]
  },
  {
   "cell_type": "code",
   "execution_count": 163,
   "metadata": {},
   "outputs": [],
   "source": [
    "lr_9 = linear_model.LogisticRegression(penalty='l1', C=0.1, solver='saga', max_iter=12000, tol=0.001).fit(X_train, y_train)"
   ]
  },
  {
   "cell_type": "code",
   "execution_count": 164,
   "metadata": {},
   "outputs": [
    {
     "data": {
      "text/plain": [
       "array([ True,  True,  True,  True,  True,  True,  True,  True,  True,\n",
       "        True,  True,  True,  True,  True,  True,  True,  True,  True,\n",
       "        True,  True,  True,  True,  True,  True,  True,  True,  True,\n",
       "        True,  True,  True,  True,  True,  True,  True,  True])"
      ]
     },
     "execution_count": 164,
     "metadata": {},
     "output_type": "execute_result"
    }
   ],
   "source": [
    "lr_pred_9 = lr_9.predict(X_test)\n",
    "lr_pred_9[0:35]"
   ]
  },
  {
   "cell_type": "code",
   "execution_count": 165,
   "metadata": {},
   "outputs": [
    {
     "data": {
      "text/plain": [
       "0.11375"
      ]
     },
     "execution_count": 165,
     "metadata": {},
     "output_type": "execute_result"
    }
   ],
   "source": [
    "accuracy_score(y_test, lr_pred_9)"
   ]
  },
  {
   "cell_type": "code",
   "execution_count": 166,
   "metadata": {},
   "outputs": [
    {
     "data": {
      "text/plain": [
       "array([[   0, 2127],\n",
       "       [   0,  273]])"
      ]
     },
     "execution_count": 166,
     "metadata": {},
     "output_type": "execute_result"
    }
   ],
   "source": [
    "confusion_matrix(y_test, lr_pred_9)"
   ]
  },
  {
   "cell_type": "code",
   "execution_count": 167,
   "metadata": {},
   "outputs": [
    {
     "name": "stdout",
     "output_type": "stream",
     "text": [
      "              precision    recall  f1-score   support\n",
      "\n",
      "       False       0.00      0.00      0.00      2127\n",
      "        True       0.11      1.00      0.20       273\n",
      "\n",
      "   micro avg       0.11      0.11      0.11      2400\n",
      "   macro avg       0.06      0.50      0.10      2400\n",
      "weighted avg       0.01      0.11      0.02      2400\n",
      "\n"
     ]
    },
    {
     "name": "stderr",
     "output_type": "stream",
     "text": [
      "/Users/DanLoew/anaconda3/lib/python3.7/site-packages/sklearn/metrics/classification.py:1143: UndefinedMetricWarning: Precision and F-score are ill-defined and being set to 0.0 in labels with no predicted samples.\n",
      "  'precision', 'predicted', average, warn_for)\n",
      "/Users/DanLoew/anaconda3/lib/python3.7/site-packages/sklearn/metrics/classification.py:1143: UndefinedMetricWarning: Precision and F-score are ill-defined and being set to 0.0 in labels with no predicted samples.\n",
      "  'precision', 'predicted', average, warn_for)\n",
      "/Users/DanLoew/anaconda3/lib/python3.7/site-packages/sklearn/metrics/classification.py:1143: UndefinedMetricWarning: Precision and F-score are ill-defined and being set to 0.0 in labels with no predicted samples.\n",
      "  'precision', 'predicted', average, warn_for)\n"
     ]
    }
   ],
   "source": [
    "print(classification_report(y_test, lr_pred_9))"
   ]
  },
  {
   "cell_type": "code",
   "execution_count": 168,
   "metadata": {},
   "outputs": [],
   "source": [
    "lr_10 = linear_model.LogisticRegression(penalty='l1', C=1.0, solver='saga', max_iter=12000, tol=0.001).fit(X_train, y_train)"
   ]
  },
  {
   "cell_type": "code",
   "execution_count": 169,
   "metadata": {},
   "outputs": [
    {
     "data": {
      "text/plain": [
       "array([ True,  True,  True,  True,  True,  True,  True,  True,  True,\n",
       "        True,  True,  True,  True,  True,  True,  True,  True,  True,\n",
       "        True,  True,  True,  True,  True,  True,  True,  True,  True,\n",
       "        True,  True,  True,  True,  True,  True,  True,  True])"
      ]
     },
     "execution_count": 169,
     "metadata": {},
     "output_type": "execute_result"
    }
   ],
   "source": [
    "lr_pred_10 = lr_10.predict(X_test)\n",
    "lr_pred_10[0:35]"
   ]
  },
  {
   "cell_type": "code",
   "execution_count": 170,
   "metadata": {},
   "outputs": [
    {
     "data": {
      "text/plain": [
       "0.11375"
      ]
     },
     "execution_count": 170,
     "metadata": {},
     "output_type": "execute_result"
    }
   ],
   "source": [
    "accuracy_score(y_test, lr_pred_10)"
   ]
  },
  {
   "cell_type": "code",
   "execution_count": 171,
   "metadata": {},
   "outputs": [
    {
     "data": {
      "text/plain": [
       "array([[   0, 2127],\n",
       "       [   0,  273]])"
      ]
     },
     "execution_count": 171,
     "metadata": {},
     "output_type": "execute_result"
    }
   ],
   "source": [
    "confusion_matrix(y_test, lr_pred_10)"
   ]
  },
  {
   "cell_type": "code",
   "execution_count": 172,
   "metadata": {},
   "outputs": [
    {
     "name": "stdout",
     "output_type": "stream",
     "text": [
      "              precision    recall  f1-score   support\n",
      "\n",
      "       False       0.00      0.00      0.00      2127\n",
      "        True       0.11      1.00      0.20       273\n",
      "\n",
      "   micro avg       0.11      0.11      0.11      2400\n",
      "   macro avg       0.06      0.50      0.10      2400\n",
      "weighted avg       0.01      0.11      0.02      2400\n",
      "\n"
     ]
    },
    {
     "name": "stderr",
     "output_type": "stream",
     "text": [
      "/Users/DanLoew/anaconda3/lib/python3.7/site-packages/sklearn/metrics/classification.py:1143: UndefinedMetricWarning: Precision and F-score are ill-defined and being set to 0.0 in labels with no predicted samples.\n",
      "  'precision', 'predicted', average, warn_for)\n",
      "/Users/DanLoew/anaconda3/lib/python3.7/site-packages/sklearn/metrics/classification.py:1143: UndefinedMetricWarning: Precision and F-score are ill-defined and being set to 0.0 in labels with no predicted samples.\n",
      "  'precision', 'predicted', average, warn_for)\n",
      "/Users/DanLoew/anaconda3/lib/python3.7/site-packages/sklearn/metrics/classification.py:1143: UndefinedMetricWarning: Precision and F-score are ill-defined and being set to 0.0 in labels with no predicted samples.\n",
      "  'precision', 'predicted', average, warn_for)\n"
     ]
    }
   ],
   "source": [
    "print(classification_report(y_test, lr_pred_10))"
   ]
  },
  {
   "cell_type": "code",
   "execution_count": 173,
   "metadata": {},
   "outputs": [],
   "source": [
    "lr_11 = linear_model.LogisticRegression(penalty='l1', C=10, solver='saga', max_iter=12000, tol=0.001).fit(X_train, y_train)"
   ]
  },
  {
   "cell_type": "code",
   "execution_count": 174,
   "metadata": {},
   "outputs": [
    {
     "data": {
      "text/plain": [
       "array([ True,  True,  True,  True,  True,  True,  True,  True,  True,\n",
       "        True,  True,  True,  True,  True,  True,  True,  True,  True,\n",
       "        True,  True,  True,  True,  True,  True,  True,  True,  True,\n",
       "        True,  True,  True,  True,  True,  True,  True,  True])"
      ]
     },
     "execution_count": 174,
     "metadata": {},
     "output_type": "execute_result"
    }
   ],
   "source": [
    "lr_pred_11 = lr_11.predict(X_test)\n",
    "lr_pred_11[0:35]"
   ]
  },
  {
   "cell_type": "code",
   "execution_count": 175,
   "metadata": {},
   "outputs": [
    {
     "data": {
      "text/plain": [
       "0.11375"
      ]
     },
     "execution_count": 175,
     "metadata": {},
     "output_type": "execute_result"
    }
   ],
   "source": [
    "accuracy_score(y_test, lr_pred_11)"
   ]
  },
  {
   "cell_type": "code",
   "execution_count": 176,
   "metadata": {},
   "outputs": [
    {
     "data": {
      "text/plain": [
       "array([[   0, 2127],\n",
       "       [   0,  273]])"
      ]
     },
     "execution_count": 176,
     "metadata": {},
     "output_type": "execute_result"
    }
   ],
   "source": [
    "confusion_matrix(y_test, lr_pred_11)"
   ]
  },
  {
   "cell_type": "code",
   "execution_count": 177,
   "metadata": {},
   "outputs": [
    {
     "name": "stdout",
     "output_type": "stream",
     "text": [
      "              precision    recall  f1-score   support\n",
      "\n",
      "       False       0.00      0.00      0.00      2127\n",
      "        True       0.11      1.00      0.20       273\n",
      "\n",
      "   micro avg       0.11      0.11      0.11      2400\n",
      "   macro avg       0.06      0.50      0.10      2400\n",
      "weighted avg       0.01      0.11      0.02      2400\n",
      "\n"
     ]
    },
    {
     "name": "stderr",
     "output_type": "stream",
     "text": [
      "/Users/DanLoew/anaconda3/lib/python3.7/site-packages/sklearn/metrics/classification.py:1143: UndefinedMetricWarning: Precision and F-score are ill-defined and being set to 0.0 in labels with no predicted samples.\n",
      "  'precision', 'predicted', average, warn_for)\n",
      "/Users/DanLoew/anaconda3/lib/python3.7/site-packages/sklearn/metrics/classification.py:1143: UndefinedMetricWarning: Precision and F-score are ill-defined and being set to 0.0 in labels with no predicted samples.\n",
      "  'precision', 'predicted', average, warn_for)\n",
      "/Users/DanLoew/anaconda3/lib/python3.7/site-packages/sklearn/metrics/classification.py:1143: UndefinedMetricWarning: Precision and F-score are ill-defined and being set to 0.0 in labels with no predicted samples.\n",
      "  'precision', 'predicted', average, warn_for)\n"
     ]
    }
   ],
   "source": [
    "print(classification_report(y_test, lr_pred_11))"
   ]
  },
  {
   "cell_type": "code",
   "execution_count": 178,
   "metadata": {},
   "outputs": [],
   "source": [
    "lr_12 = linear_model.LogisticRegression(penalty='l1', C=100, solver='saga', max_iter=12000, tol=0.001).fit(X_train, y_train)"
   ]
  },
  {
   "cell_type": "code",
   "execution_count": 179,
   "metadata": {},
   "outputs": [
    {
     "data": {
      "text/plain": [
       "array([ True,  True,  True,  True,  True,  True,  True,  True,  True,\n",
       "        True,  True,  True,  True,  True,  True,  True,  True,  True,\n",
       "        True,  True,  True,  True,  True,  True,  True,  True,  True,\n",
       "        True,  True,  True,  True,  True,  True,  True,  True])"
      ]
     },
     "execution_count": 179,
     "metadata": {},
     "output_type": "execute_result"
    }
   ],
   "source": [
    "lr_pred_12 = lr_12.predict(X_test)\n",
    "lr_pred_12[0:35]"
   ]
  },
  {
   "cell_type": "code",
   "execution_count": 180,
   "metadata": {},
   "outputs": [
    {
     "data": {
      "text/plain": [
       "0.11375"
      ]
     },
     "execution_count": 180,
     "metadata": {},
     "output_type": "execute_result"
    }
   ],
   "source": [
    "accuracy_score(y_test, lr_pred_12)"
   ]
  },
  {
   "cell_type": "code",
   "execution_count": 181,
   "metadata": {},
   "outputs": [
    {
     "data": {
      "text/plain": [
       "array([[   0, 2127],\n",
       "       [   0,  273]])"
      ]
     },
     "execution_count": 181,
     "metadata": {},
     "output_type": "execute_result"
    }
   ],
   "source": [
    "confusion_matrix(y_test, lr_pred_12)"
   ]
  },
  {
   "cell_type": "code",
   "execution_count": 182,
   "metadata": {},
   "outputs": [
    {
     "name": "stdout",
     "output_type": "stream",
     "text": [
      "              precision    recall  f1-score   support\n",
      "\n",
      "       False       0.00      0.00      0.00      2127\n",
      "        True       0.11      1.00      0.20       273\n",
      "\n",
      "   micro avg       0.11      0.11      0.11      2400\n",
      "   macro avg       0.06      0.50      0.10      2400\n",
      "weighted avg       0.01      0.11      0.02      2400\n",
      "\n"
     ]
    },
    {
     "name": "stderr",
     "output_type": "stream",
     "text": [
      "/Users/DanLoew/anaconda3/lib/python3.7/site-packages/sklearn/metrics/classification.py:1143: UndefinedMetricWarning: Precision and F-score are ill-defined and being set to 0.0 in labels with no predicted samples.\n",
      "  'precision', 'predicted', average, warn_for)\n",
      "/Users/DanLoew/anaconda3/lib/python3.7/site-packages/sklearn/metrics/classification.py:1143: UndefinedMetricWarning: Precision and F-score are ill-defined and being set to 0.0 in labels with no predicted samples.\n",
      "  'precision', 'predicted', average, warn_for)\n",
      "/Users/DanLoew/anaconda3/lib/python3.7/site-packages/sklearn/metrics/classification.py:1143: UndefinedMetricWarning: Precision and F-score are ill-defined and being set to 0.0 in labels with no predicted samples.\n",
      "  'precision', 'predicted', average, warn_for)\n"
     ]
    }
   ],
   "source": [
    "print(classification_report(y_test, lr_pred_12))"
   ]
  },
  {
   "cell_type": "code",
   "execution_count": 183,
   "metadata": {},
   "outputs": [
    {
     "name": "stderr",
     "output_type": "stream",
     "text": [
      "/Users/DanLoew/anaconda3/lib/python3.7/site-packages/sklearn/ensemble/forest.py:246: FutureWarning: The default value of n_estimators will change from 10 in version 0.20 to 100 in 0.22.\n",
      "  \"10 in version 0.20 to 100 in 0.22.\", FutureWarning)\n"
     ]
    }
   ],
   "source": [
    "rfc_1 = RandomForestClassifier().fit(X_train, y_train)"
   ]
  },
  {
   "cell_type": "code",
   "execution_count": 184,
   "metadata": {},
   "outputs": [],
   "source": [
    "rfc_pred_1 = rfc_1.predict(X_test)"
   ]
  },
  {
   "cell_type": "code",
   "execution_count": 185,
   "metadata": {},
   "outputs": [
    {
     "data": {
      "text/plain": [
       "0.97125"
      ]
     },
     "execution_count": 185,
     "metadata": {},
     "output_type": "execute_result"
    }
   ],
   "source": [
    "accuracy_score(y_test, rfc_pred_1)"
   ]
  },
  {
   "cell_type": "code",
   "execution_count": 186,
   "metadata": {},
   "outputs": [
    {
     "data": {
      "text/plain": [
       "array([[2113,   14],\n",
       "       [  55,  218]])"
      ]
     },
     "execution_count": 186,
     "metadata": {},
     "output_type": "execute_result"
    }
   ],
   "source": [
    "confusion_matrix(y_test, rfc_pred_1)"
   ]
  },
  {
   "cell_type": "code",
   "execution_count": 187,
   "metadata": {},
   "outputs": [
    {
     "name": "stdout",
     "output_type": "stream",
     "text": [
      "              precision    recall  f1-score   support\n",
      "\n",
      "       False       0.97      0.99      0.98      2127\n",
      "        True       0.94      0.80      0.86       273\n",
      "\n",
      "   micro avg       0.97      0.97      0.97      2400\n",
      "   macro avg       0.96      0.90      0.92      2400\n",
      "weighted avg       0.97      0.97      0.97      2400\n",
      "\n"
     ]
    }
   ],
   "source": [
    "print(classification_report(y_test, rfc_pred_1))"
   ]
  },
  {
   "cell_type": "code",
   "execution_count": 188,
   "metadata": {},
   "outputs": [],
   "source": [
    "rfc_2 = RandomForestClassifier(n_estimators=100).fit(X_train, y_train)"
   ]
  },
  {
   "cell_type": "code",
   "execution_count": 189,
   "metadata": {},
   "outputs": [],
   "source": [
    "rfc_pred_2 = rfc_2.predict(X_test)"
   ]
  },
  {
   "cell_type": "code",
   "execution_count": 190,
   "metadata": {},
   "outputs": [
    {
     "data": {
      "text/plain": [
       "0.9708333333333333"
      ]
     },
     "execution_count": 190,
     "metadata": {},
     "output_type": "execute_result"
    }
   ],
   "source": [
    "accuracy_score(y_test, rfc_pred_2)"
   ]
  },
  {
   "cell_type": "code",
   "execution_count": 191,
   "metadata": {},
   "outputs": [
    {
     "data": {
      "text/plain": [
       "array([[2105,   22],\n",
       "       [  48,  225]])"
      ]
     },
     "execution_count": 191,
     "metadata": {},
     "output_type": "execute_result"
    }
   ],
   "source": [
    "confusion_matrix(y_test, rfc_pred_2)"
   ]
  },
  {
   "cell_type": "code",
   "execution_count": 192,
   "metadata": {},
   "outputs": [
    {
     "name": "stdout",
     "output_type": "stream",
     "text": [
      "              precision    recall  f1-score   support\n",
      "\n",
      "       False       0.98      0.99      0.98      2127\n",
      "        True       0.91      0.82      0.87       273\n",
      "\n",
      "   micro avg       0.97      0.97      0.97      2400\n",
      "   macro avg       0.94      0.91      0.92      2400\n",
      "weighted avg       0.97      0.97      0.97      2400\n",
      "\n"
     ]
    }
   ],
   "source": [
    "print(classification_report(y_test, rfc_pred_2))"
   ]
  },
  {
   "cell_type": "markdown",
   "metadata": {},
   "source": [
    "## Scaled Data"
   ]
  },
  {
   "cell_type": "markdown",
   "metadata": {},
   "source": [
    "Scaled data is experimented with next to see if the models perform differently. The classes are balanced again, as before."
   ]
  },
  {
   "cell_type": "code",
   "execution_count": 193,
   "metadata": {},
   "outputs": [],
   "source": [
    "scaler = MinMaxScaler()"
   ]
  },
  {
   "cell_type": "code",
   "execution_count": 194,
   "metadata": {},
   "outputs": [
    {
     "name": "stderr",
     "output_type": "stream",
     "text": [
      "/Users/DanLoew/anaconda3/lib/python3.7/site-packages/sklearn/preprocessing/data.py:334: DataConversionWarning: Data with input dtype bool, uint8, int64, float64 were all converted to float64 by MinMaxScaler.\n",
      "  return self.partial_fit(X, y)\n"
     ]
    },
    {
     "data": {
      "text/plain": [
       "MinMaxScaler(copy=True, feature_range=(0, 1))"
      ]
     },
     "execution_count": 194,
     "metadata": {},
     "output_type": "execute_result"
    }
   ],
   "source": [
    "scaler.fit(df)"
   ]
  },
  {
   "cell_type": "code",
   "execution_count": 195,
   "metadata": {},
   "outputs": [],
   "source": [
    "df_scaled = pd.DataFrame(scaler.transform(df), columns=df.columns, index=df.index)"
   ]
  },
  {
   "cell_type": "code",
   "execution_count": 196,
   "metadata": {},
   "outputs": [
    {
     "data": {
      "text/html": [
       "<div>\n",
       "<style scoped>\n",
       "    .dataframe tbody tr th:only-of-type {\n",
       "        vertical-align: middle;\n",
       "    }\n",
       "\n",
       "    .dataframe tbody tr th {\n",
       "        vertical-align: top;\n",
       "    }\n",
       "\n",
       "    .dataframe thead th {\n",
       "        text-align: right;\n",
       "    }\n",
       "</style>\n",
       "<table border=\"1\" class=\"dataframe\">\n",
       "  <thead>\n",
       "    <tr style=\"text-align: right;\">\n",
       "      <th></th>\n",
       "      <th>last_session_creation_time</th>\n",
       "      <th>opted_in_to_mailing_list</th>\n",
       "      <th>enabled_for_marketing_drip</th>\n",
       "      <th>org_id</th>\n",
       "      <th>invited_by_user_id</th>\n",
       "      <th>last_session_creation_time_isnull</th>\n",
       "      <th>invited_by_user_id_isnull</th>\n",
       "      <th>creation_time_year</th>\n",
       "      <th>creation_time_month</th>\n",
       "      <th>creation_time_day</th>\n",
       "      <th>creation_time_hour</th>\n",
       "      <th>creation_time_minute</th>\n",
       "      <th>creation_time_seconds</th>\n",
       "      <th>creation_source_GUEST_INVITE</th>\n",
       "      <th>creation_source_ORG_INVITE</th>\n",
       "      <th>creation_source_PERSONAL_PROJECTS</th>\n",
       "      <th>creation_source_SIGNUP</th>\n",
       "      <th>creation_source_SIGNUP_GOOGLE_AUTH</th>\n",
       "      <th>is_adopted</th>\n",
       "    </tr>\n",
       "    <tr>\n",
       "      <th>object_id</th>\n",
       "      <th></th>\n",
       "      <th></th>\n",
       "      <th></th>\n",
       "      <th></th>\n",
       "      <th></th>\n",
       "      <th></th>\n",
       "      <th></th>\n",
       "      <th></th>\n",
       "      <th></th>\n",
       "      <th></th>\n",
       "      <th></th>\n",
       "      <th></th>\n",
       "      <th></th>\n",
       "      <th></th>\n",
       "      <th></th>\n",
       "      <th></th>\n",
       "      <th></th>\n",
       "      <th></th>\n",
       "      <th></th>\n",
       "    </tr>\n",
       "  </thead>\n",
       "  <tbody>\n",
       "    <tr>\n",
       "      <th>1</th>\n",
       "      <td>0.938254</td>\n",
       "      <td>1.0</td>\n",
       "      <td>0.0</td>\n",
       "      <td>0.026442</td>\n",
       "      <td>0.900325</td>\n",
       "      <td>0.0</td>\n",
       "      <td>0.0</td>\n",
       "      <td>1.0</td>\n",
       "      <td>0.272727</td>\n",
       "      <td>0.700000</td>\n",
       "      <td>0.130435</td>\n",
       "      <td>0.898305</td>\n",
       "      <td>0.508475</td>\n",
       "      <td>1.0</td>\n",
       "      <td>0.0</td>\n",
       "      <td>0.0</td>\n",
       "      <td>0.0</td>\n",
       "      <td>0.0</td>\n",
       "      <td>0.0</td>\n",
       "    </tr>\n",
       "    <tr>\n",
       "      <th>2</th>\n",
       "      <td>0.908366</td>\n",
       "      <td>0.0</td>\n",
       "      <td>0.0</td>\n",
       "      <td>0.002404</td>\n",
       "      <td>0.026336</td>\n",
       "      <td>0.0</td>\n",
       "      <td>0.0</td>\n",
       "      <td>0.5</td>\n",
       "      <td>0.909091</td>\n",
       "      <td>0.466667</td>\n",
       "      <td>0.130435</td>\n",
       "      <td>0.762712</td>\n",
       "      <td>0.067797</td>\n",
       "      <td>0.0</td>\n",
       "      <td>1.0</td>\n",
       "      <td>0.0</td>\n",
       "      <td>0.0</td>\n",
       "      <td>0.0</td>\n",
       "      <td>0.0</td>\n",
       "    </tr>\n",
       "    <tr>\n",
       "      <th>3</th>\n",
       "      <td>0.397434</td>\n",
       "      <td>0.0</td>\n",
       "      <td>0.0</td>\n",
       "      <td>0.225962</td>\n",
       "      <td>0.127094</td>\n",
       "      <td>0.0</td>\n",
       "      <td>0.0</td>\n",
       "      <td>0.5</td>\n",
       "      <td>0.181818</td>\n",
       "      <td>0.600000</td>\n",
       "      <td>1.000000</td>\n",
       "      <td>0.237288</td>\n",
       "      <td>0.881356</td>\n",
       "      <td>0.0</td>\n",
       "      <td>1.0</td>\n",
       "      <td>0.0</td>\n",
       "      <td>0.0</td>\n",
       "      <td>0.0</td>\n",
       "      <td>0.0</td>\n",
       "    </tr>\n",
       "    <tr>\n",
       "      <th>4</th>\n",
       "      <td>0.483504</td>\n",
       "      <td>0.0</td>\n",
       "      <td>0.0</td>\n",
       "      <td>0.002404</td>\n",
       "      <td>0.429286</td>\n",
       "      <td>0.0</td>\n",
       "      <td>0.0</td>\n",
       "      <td>0.5</td>\n",
       "      <td>0.363636</td>\n",
       "      <td>0.666667</td>\n",
       "      <td>0.347826</td>\n",
       "      <td>0.152542</td>\n",
       "      <td>0.474576</td>\n",
       "      <td>1.0</td>\n",
       "      <td>0.0</td>\n",
       "      <td>0.0</td>\n",
       "      <td>0.0</td>\n",
       "      <td>0.0</td>\n",
       "      <td>0.0</td>\n",
       "    </tr>\n",
       "    <tr>\n",
       "      <th>5</th>\n",
       "      <td>0.320639</td>\n",
       "      <td>0.0</td>\n",
       "      <td>0.0</td>\n",
       "      <td>0.463942</td>\n",
       "      <td>0.436703</td>\n",
       "      <td>0.0</td>\n",
       "      <td>0.0</td>\n",
       "      <td>0.5</td>\n",
       "      <td>0.000000</td>\n",
       "      <td>0.533333</td>\n",
       "      <td>0.434783</td>\n",
       "      <td>0.237288</td>\n",
       "      <td>0.338983</td>\n",
       "      <td>1.0</td>\n",
       "      <td>0.0</td>\n",
       "      <td>0.0</td>\n",
       "      <td>0.0</td>\n",
       "      <td>0.0</td>\n",
       "      <td>0.0</td>\n",
       "    </tr>\n",
       "  </tbody>\n",
       "</table>\n",
       "</div>"
      ],
      "text/plain": [
       "           last_session_creation_time  opted_in_to_mailing_list  \\\n",
       "object_id                                                         \n",
       "1                            0.938254                       1.0   \n",
       "2                            0.908366                       0.0   \n",
       "3                            0.397434                       0.0   \n",
       "4                            0.483504                       0.0   \n",
       "5                            0.320639                       0.0   \n",
       "\n",
       "           enabled_for_marketing_drip    org_id  invited_by_user_id  \\\n",
       "object_id                                                             \n",
       "1                                 0.0  0.026442            0.900325   \n",
       "2                                 0.0  0.002404            0.026336   \n",
       "3                                 0.0  0.225962            0.127094   \n",
       "4                                 0.0  0.002404            0.429286   \n",
       "5                                 0.0  0.463942            0.436703   \n",
       "\n",
       "           last_session_creation_time_isnull  invited_by_user_id_isnull  \\\n",
       "object_id                                                                 \n",
       "1                                        0.0                        0.0   \n",
       "2                                        0.0                        0.0   \n",
       "3                                        0.0                        0.0   \n",
       "4                                        0.0                        0.0   \n",
       "5                                        0.0                        0.0   \n",
       "\n",
       "           creation_time_year  creation_time_month  creation_time_day  \\\n",
       "object_id                                                               \n",
       "1                         1.0             0.272727           0.700000   \n",
       "2                         0.5             0.909091           0.466667   \n",
       "3                         0.5             0.181818           0.600000   \n",
       "4                         0.5             0.363636           0.666667   \n",
       "5                         0.5             0.000000           0.533333   \n",
       "\n",
       "           creation_time_hour  creation_time_minute  creation_time_seconds  \\\n",
       "object_id                                                                    \n",
       "1                    0.130435              0.898305               0.508475   \n",
       "2                    0.130435              0.762712               0.067797   \n",
       "3                    1.000000              0.237288               0.881356   \n",
       "4                    0.347826              0.152542               0.474576   \n",
       "5                    0.434783              0.237288               0.338983   \n",
       "\n",
       "           creation_source_GUEST_INVITE  creation_source_ORG_INVITE  \\\n",
       "object_id                                                             \n",
       "1                                   1.0                         0.0   \n",
       "2                                   0.0                         1.0   \n",
       "3                                   0.0                         1.0   \n",
       "4                                   1.0                         0.0   \n",
       "5                                   1.0                         0.0   \n",
       "\n",
       "           creation_source_PERSONAL_PROJECTS  creation_source_SIGNUP  \\\n",
       "object_id                                                              \n",
       "1                                        0.0                     0.0   \n",
       "2                                        0.0                     0.0   \n",
       "3                                        0.0                     0.0   \n",
       "4                                        0.0                     0.0   \n",
       "5                                        0.0                     0.0   \n",
       "\n",
       "           creation_source_SIGNUP_GOOGLE_AUTH  is_adopted  \n",
       "object_id                                                  \n",
       "1                                         0.0         0.0  \n",
       "2                                         0.0         0.0  \n",
       "3                                         0.0         0.0  \n",
       "4                                         0.0         0.0  \n",
       "5                                         0.0         0.0  "
      ]
     },
     "execution_count": 196,
     "metadata": {},
     "output_type": "execute_result"
    }
   ],
   "source": [
    "df_scaled.head()"
   ]
  },
  {
   "cell_type": "code",
   "execution_count": 198,
   "metadata": {},
   "outputs": [],
   "source": [
    "y = df_scaled['is_adopted']"
   ]
  },
  {
   "cell_type": "code",
   "execution_count": 199,
   "metadata": {},
   "outputs": [],
   "source": [
    "target_names = ['is_adopted']\n",
    "X = df_scaled[[cn for cn in df_scaled.columns if cn not in target_names]]"
   ]
  },
  {
   "cell_type": "code",
   "execution_count": 200,
   "metadata": {},
   "outputs": [],
   "source": [
    "X_train, X_test, y_train, y_test = train_test_split(X, y, test_size=0.2, stratify=y, random_state=42)"
   ]
  },
  {
   "cell_type": "markdown",
   "metadata": {},
   "source": [
    "First, the training data is concatenated back together."
   ]
  },
  {
   "cell_type": "code",
   "execution_count": 201,
   "metadata": {},
   "outputs": [],
   "source": [
    "X = pd.concat([X_train, y_train], axis=1)"
   ]
  },
  {
   "cell_type": "markdown",
   "metadata": {},
   "source": [
    "Then, the minority and majority classes are separated."
   ]
  },
  {
   "cell_type": "code",
   "execution_count": 202,
   "metadata": {},
   "outputs": [],
   "source": [
    "not_adopted = X[X.is_adopted == 0]\n",
    "adopted = X[X.is_adopted == 1]"
   ]
  },
  {
   "cell_type": "markdown",
   "metadata": {},
   "source": [
    "Then, the minority class (i.e., adopted) is upsampled."
   ]
  },
  {
   "cell_type": "code",
   "execution_count": 203,
   "metadata": {},
   "outputs": [],
   "source": [
    "adopted_upsampled = resample(adopted,\n",
    "                          replace=True, # sample with replacement\n",
    "                          n_samples=len(not_adopted), # match number in majority class\n",
    "                          random_state=27) # reproducible results"
   ]
  },
  {
   "cell_type": "markdown",
   "metadata": {},
   "source": [
    "Then, the majority and upsampled minority classes are combined."
   ]
  },
  {
   "cell_type": "code",
   "execution_count": 204,
   "metadata": {},
   "outputs": [],
   "source": [
    "upsampled = pd.concat([not_adopted, adopted_upsampled])"
   ]
  },
  {
   "cell_type": "markdown",
   "metadata": {},
   "source": [
    "The new class counts are checked."
   ]
  },
  {
   "cell_type": "code",
   "execution_count": 206,
   "metadata": {},
   "outputs": [
    {
     "data": {
      "text/plain": [
       "1.0    8510\n",
       "0.0    8510\n",
       "Name: is_adopted, dtype: int64"
      ]
     },
     "execution_count": 206,
     "metadata": {},
     "output_type": "execute_result"
    }
   ],
   "source": [
    "upsampled.is_adopted.value_counts()"
   ]
  },
  {
   "cell_type": "markdown",
   "metadata": {},
   "source": [
    "The 'y_train' target and 'X_train' feature set is then re-defined."
   ]
  },
  {
   "cell_type": "code",
   "execution_count": 207,
   "metadata": {},
   "outputs": [],
   "source": [
    "y_train = upsampled.is_adopted"
   ]
  },
  {
   "cell_type": "code",
   "execution_count": 208,
   "metadata": {},
   "outputs": [],
   "source": [
    "X_train = upsampled.drop('is_adopted', axis=1)"
   ]
  },
  {
   "cell_type": "code",
   "execution_count": 209,
   "metadata": {},
   "outputs": [],
   "source": [
    "lr_13 = linear_model.LogisticRegression(penalty='l2', C=0.001, solver='lbfgs', max_iter=12000, tol=0.001).fit(X_train, y_train)"
   ]
  },
  {
   "cell_type": "code",
   "execution_count": 210,
   "metadata": {},
   "outputs": [
    {
     "data": {
      "text/plain": [
       "array([0., 0., 1., 1., 1., 1., 1., 0., 0., 0., 1., 1., 0., 1., 0., 0., 0.,\n",
       "       1., 1., 0., 1., 0., 1., 0., 0., 1., 0., 0., 0., 0., 1., 0., 0., 1.,\n",
       "       0.])"
      ]
     },
     "execution_count": 210,
     "metadata": {},
     "output_type": "execute_result"
    }
   ],
   "source": [
    "lr_pred_13 = lr_13.predict(X_test)\n",
    "lr_pred_13[0:35]"
   ]
  },
  {
   "cell_type": "code",
   "execution_count": 211,
   "metadata": {},
   "outputs": [
    {
     "data": {
      "text/plain": [
       "0.7795833333333333"
      ]
     },
     "execution_count": 211,
     "metadata": {},
     "output_type": "execute_result"
    }
   ],
   "source": [
    "accuracy_score(y_test, lr_pred_13)"
   ]
  },
  {
   "cell_type": "code",
   "execution_count": 212,
   "metadata": {},
   "outputs": [
    {
     "data": {
      "text/plain": [
       "array([[1625,  502],\n",
       "       [  27,  246]])"
      ]
     },
     "execution_count": 212,
     "metadata": {},
     "output_type": "execute_result"
    }
   ],
   "source": [
    "confusion_matrix(y_test, lr_pred_13)"
   ]
  },
  {
   "cell_type": "code",
   "execution_count": 213,
   "metadata": {},
   "outputs": [
    {
     "name": "stdout",
     "output_type": "stream",
     "text": [
      "              precision    recall  f1-score   support\n",
      "\n",
      "         0.0       0.98      0.76      0.86      2127\n",
      "         1.0       0.33      0.90      0.48       273\n",
      "\n",
      "   micro avg       0.78      0.78      0.78      2400\n",
      "   macro avg       0.66      0.83      0.67      2400\n",
      "weighted avg       0.91      0.78      0.82      2400\n",
      "\n"
     ]
    }
   ],
   "source": [
    "print(classification_report(y_test, lr_pred_13))"
   ]
  },
  {
   "cell_type": "code",
   "execution_count": 214,
   "metadata": {},
   "outputs": [],
   "source": [
    "lr_14 = linear_model.LogisticRegression(penalty='l2', C=0.01, solver='lbfgs', max_iter=6000, tol=0.001).fit(X_train, y_train)"
   ]
  },
  {
   "cell_type": "code",
   "execution_count": 215,
   "metadata": {},
   "outputs": [
    {
     "data": {
      "text/plain": [
       "array([0., 0., 1., 1., 0., 0., 1., 0., 0., 0., 1., 1., 0., 1., 0., 0., 0.,\n",
       "       0., 0., 0., 0., 0., 1., 0., 0., 0., 0., 0., 0., 0., 0., 0., 0., 1.,\n",
       "       0.])"
      ]
     },
     "execution_count": 215,
     "metadata": {},
     "output_type": "execute_result"
    }
   ],
   "source": [
    "lr_pred_14 = lr_14.predict(X_test)\n",
    "lr_pred_14[0:35]"
   ]
  },
  {
   "cell_type": "code",
   "execution_count": 216,
   "metadata": {},
   "outputs": [
    {
     "data": {
      "text/plain": [
       "0.90375"
      ]
     },
     "execution_count": 216,
     "metadata": {},
     "output_type": "execute_result"
    }
   ],
   "source": [
    "accuracy_score(y_test, lr_pred_14)"
   ]
  },
  {
   "cell_type": "code",
   "execution_count": 217,
   "metadata": {},
   "outputs": [
    {
     "name": "stdout",
     "output_type": "stream",
     "text": [
      "[[1923  204]\n",
      " [  27  246]]\n"
     ]
    }
   ],
   "source": [
    "print(confusion_matrix(y_test, lr_pred_14))"
   ]
  },
  {
   "cell_type": "code",
   "execution_count": 218,
   "metadata": {},
   "outputs": [
    {
     "name": "stdout",
     "output_type": "stream",
     "text": [
      "              precision    recall  f1-score   support\n",
      "\n",
      "         0.0       0.99      0.90      0.94      2127\n",
      "         1.0       0.55      0.90      0.68       273\n",
      "\n",
      "   micro avg       0.90      0.90      0.90      2400\n",
      "   macro avg       0.77      0.90      0.81      2400\n",
      "weighted avg       0.94      0.90      0.91      2400\n",
      "\n"
     ]
    }
   ],
   "source": [
    "print(classification_report(y_test, lr_pred_14))"
   ]
  },
  {
   "cell_type": "code",
   "execution_count": 219,
   "metadata": {},
   "outputs": [],
   "source": [
    "lr_15 = linear_model.LogisticRegression(penalty='l2', C=0.1, solver='lbfgs', max_iter=6000, tol=0.001).fit(X_train, y_train)"
   ]
  },
  {
   "cell_type": "code",
   "execution_count": 220,
   "metadata": {},
   "outputs": [
    {
     "data": {
      "text/plain": [
       "array([0., 0., 0., 0., 0., 0., 0., 0., 0., 0., 0., 1., 0., 1., 0., 0., 0.,\n",
       "       0., 0., 0., 0., 0., 1., 0., 0., 0., 0., 0., 0., 0., 0., 0., 0., 0.,\n",
       "       0.])"
      ]
     },
     "execution_count": 220,
     "metadata": {},
     "output_type": "execute_result"
    }
   ],
   "source": [
    "lr_pred_15 = lr_15.predict(X_test)\n",
    "lr_pred_15[0:35]"
   ]
  },
  {
   "cell_type": "code",
   "execution_count": 221,
   "metadata": {},
   "outputs": [
    {
     "data": {
      "text/plain": [
       "0.9725"
      ]
     },
     "execution_count": 221,
     "metadata": {},
     "output_type": "execute_result"
    }
   ],
   "source": [
    "accuracy_score(y_test, lr_pred_15)"
   ]
  },
  {
   "cell_type": "code",
   "execution_count": 222,
   "metadata": {},
   "outputs": [
    {
     "name": "stdout",
     "output_type": "stream",
     "text": [
      "[[2087   40]\n",
      " [  26  247]]\n"
     ]
    }
   ],
   "source": [
    "print(confusion_matrix(y_test, lr_pred_15))"
   ]
  },
  {
   "cell_type": "code",
   "execution_count": 223,
   "metadata": {},
   "outputs": [
    {
     "name": "stdout",
     "output_type": "stream",
     "text": [
      "              precision    recall  f1-score   support\n",
      "\n",
      "         0.0       0.99      0.98      0.98      2127\n",
      "         1.0       0.86      0.90      0.88       273\n",
      "\n",
      "   micro avg       0.97      0.97      0.97      2400\n",
      "   macro avg       0.92      0.94      0.93      2400\n",
      "weighted avg       0.97      0.97      0.97      2400\n",
      "\n"
     ]
    }
   ],
   "source": [
    "print(classification_report(y_test, lr_pred_15))"
   ]
  },
  {
   "cell_type": "code",
   "execution_count": 224,
   "metadata": {},
   "outputs": [],
   "source": [
    "lr_16 = linear_model.LogisticRegression(penalty='l2', C=1.0, solver='lbfgs', max_iter=6000, tol=0.001).fit(X_train, y_train)"
   ]
  },
  {
   "cell_type": "code",
   "execution_count": 225,
   "metadata": {},
   "outputs": [
    {
     "data": {
      "text/plain": [
       "array([0., 0., 0., 0., 0., 0., 0., 0., 0., 0., 0., 1., 0., 1., 0., 0., 0.,\n",
       "       0., 0., 0., 0., 0., 1., 0., 0., 0., 0., 0., 0., 0., 0., 0., 0., 0.,\n",
       "       0.])"
      ]
     },
     "execution_count": 225,
     "metadata": {},
     "output_type": "execute_result"
    }
   ],
   "source": [
    "lr_pred_16 = lr_16.predict(X_test)\n",
    "lr_pred_16[0:35]"
   ]
  },
  {
   "cell_type": "code",
   "execution_count": 226,
   "metadata": {},
   "outputs": [
    {
     "data": {
      "text/plain": [
       "0.9720833333333333"
      ]
     },
     "execution_count": 226,
     "metadata": {},
     "output_type": "execute_result"
    }
   ],
   "source": [
    "accuracy_score(y_test, lr_pred_16)"
   ]
  },
  {
   "cell_type": "code",
   "execution_count": 227,
   "metadata": {},
   "outputs": [
    {
     "name": "stdout",
     "output_type": "stream",
     "text": [
      "[[2077   50]\n",
      " [  17  256]]\n"
     ]
    }
   ],
   "source": [
    "print(confusion_matrix(y_test, lr_pred_16))"
   ]
  },
  {
   "cell_type": "code",
   "execution_count": 228,
   "metadata": {},
   "outputs": [
    {
     "name": "stdout",
     "output_type": "stream",
     "text": [
      "              precision    recall  f1-score   support\n",
      "\n",
      "         0.0       0.99      0.98      0.98      2127\n",
      "         1.0       0.84      0.94      0.88       273\n",
      "\n",
      "   micro avg       0.97      0.97      0.97      2400\n",
      "   macro avg       0.91      0.96      0.93      2400\n",
      "weighted avg       0.97      0.97      0.97      2400\n",
      "\n"
     ]
    }
   ],
   "source": [
    "print(classification_report(y_test, lr_pred_16))"
   ]
  },
  {
   "cell_type": "code",
   "execution_count": 229,
   "metadata": {},
   "outputs": [],
   "source": [
    "lr_17 = linear_model.LogisticRegression(penalty='l2', C=10.0, solver='lbfgs', max_iter=6000, tol=0.001).fit(X_train, y_train)"
   ]
  },
  {
   "cell_type": "code",
   "execution_count": 230,
   "metadata": {},
   "outputs": [
    {
     "data": {
      "text/plain": [
       "array([0., 0., 0., 0., 0., 0., 0., 0., 0., 0., 0., 1., 0., 1., 0., 0., 0.,\n",
       "       0., 0., 0., 0., 0., 1., 0., 0., 0., 0., 0., 0., 0., 0., 0., 0., 0.,\n",
       "       0.])"
      ]
     },
     "execution_count": 230,
     "metadata": {},
     "output_type": "execute_result"
    }
   ],
   "source": [
    "lr_pred_17 = lr_17.predict(X_test)\n",
    "lr_pred_17[0:35]"
   ]
  },
  {
   "cell_type": "code",
   "execution_count": 231,
   "metadata": {},
   "outputs": [
    {
     "data": {
      "text/plain": [
       "0.9691666666666666"
      ]
     },
     "execution_count": 231,
     "metadata": {},
     "output_type": "execute_result"
    }
   ],
   "source": [
    "accuracy_score(y_test, lr_pred_17)"
   ]
  },
  {
   "cell_type": "code",
   "execution_count": 232,
   "metadata": {},
   "outputs": [
    {
     "name": "stdout",
     "output_type": "stream",
     "text": [
      "[[2062   65]\n",
      " [   9  264]]\n"
     ]
    }
   ],
   "source": [
    "print(confusion_matrix(y_test, lr_pred_17))"
   ]
  },
  {
   "cell_type": "code",
   "execution_count": 233,
   "metadata": {},
   "outputs": [
    {
     "name": "stdout",
     "output_type": "stream",
     "text": [
      "              precision    recall  f1-score   support\n",
      "\n",
      "         0.0       1.00      0.97      0.98      2127\n",
      "         1.0       0.80      0.97      0.88       273\n",
      "\n",
      "   micro avg       0.97      0.97      0.97      2400\n",
      "   macro avg       0.90      0.97      0.93      2400\n",
      "weighted avg       0.97      0.97      0.97      2400\n",
      "\n"
     ]
    }
   ],
   "source": [
    "print(classification_report(y_test, lr_pred_17))"
   ]
  },
  {
   "cell_type": "code",
   "execution_count": 234,
   "metadata": {},
   "outputs": [],
   "source": [
    "lr_18 = linear_model.LogisticRegression(penalty='l2', C=100.0, solver='lbfgs', max_iter=12000, tol=0.001).fit(X_train, y_train)"
   ]
  },
  {
   "cell_type": "code",
   "execution_count": 235,
   "metadata": {},
   "outputs": [
    {
     "data": {
      "text/plain": [
       "array([0., 0., 0., 0., 0., 0., 0., 0., 0., 0., 0., 1., 0., 1., 0., 0., 0.,\n",
       "       0., 0., 0., 0., 0., 1., 0., 0., 0., 0., 0., 0., 0., 0., 0., 0., 0.,\n",
       "       0.])"
      ]
     },
     "execution_count": 235,
     "metadata": {},
     "output_type": "execute_result"
    }
   ],
   "source": [
    "lr_pred_18 = lr_18.predict(X_test)\n",
    "lr_pred_18[0:35]"
   ]
  },
  {
   "cell_type": "code",
   "execution_count": 236,
   "metadata": {},
   "outputs": [
    {
     "data": {
      "text/plain": [
       "0.9679166666666666"
      ]
     },
     "execution_count": 236,
     "metadata": {},
     "output_type": "execute_result"
    }
   ],
   "source": [
    "accuracy_score(y_test, lr_pred_18)"
   ]
  },
  {
   "cell_type": "code",
   "execution_count": 237,
   "metadata": {},
   "outputs": [
    {
     "data": {
      "text/plain": [
       "array([[2058,   69],\n",
       "       [   8,  265]])"
      ]
     },
     "execution_count": 237,
     "metadata": {},
     "output_type": "execute_result"
    }
   ],
   "source": [
    "confusion_matrix(y_test, lr_pred_18)"
   ]
  },
  {
   "cell_type": "code",
   "execution_count": 238,
   "metadata": {},
   "outputs": [
    {
     "name": "stdout",
     "output_type": "stream",
     "text": [
      "              precision    recall  f1-score   support\n",
      "\n",
      "         0.0       1.00      0.97      0.98      2127\n",
      "         1.0       0.79      0.97      0.87       273\n",
      "\n",
      "   micro avg       0.97      0.97      0.97      2400\n",
      "   macro avg       0.89      0.97      0.93      2400\n",
      "weighted avg       0.97      0.97      0.97      2400\n",
      "\n"
     ]
    }
   ],
   "source": [
    "print(classification_report(y_test, lr_pred_18))"
   ]
  },
  {
   "cell_type": "code",
   "execution_count": 239,
   "metadata": {},
   "outputs": [],
   "source": [
    "lr_19 = linear_model.LogisticRegression(penalty='l1', C=0.001, solver='saga', max_iter=12000, tol=0.001).fit(X_train, y_train)"
   ]
  },
  {
   "cell_type": "code",
   "execution_count": 240,
   "metadata": {},
   "outputs": [
    {
     "data": {
      "text/plain": [
       "array([0., 0., 1., 1., 1., 1., 1., 0., 0., 0., 1., 1., 0., 1., 0., 0., 1.,\n",
       "       1., 0., 1., 1., 0., 1., 0., 0., 1., 1., 0., 1., 0., 1., 0., 0., 1.,\n",
       "       0.])"
      ]
     },
     "execution_count": 240,
     "metadata": {},
     "output_type": "execute_result"
    }
   ],
   "source": [
    "lr_pred_19 = lr_19.predict(X_test)\n",
    "lr_pred_19[0:35]"
   ]
  },
  {
   "cell_type": "code",
   "execution_count": 241,
   "metadata": {},
   "outputs": [
    {
     "data": {
      "text/plain": [
       "0.7429166666666667"
      ]
     },
     "execution_count": 241,
     "metadata": {},
     "output_type": "execute_result"
    }
   ],
   "source": [
    "accuracy_score(y_test, lr_pred_19)"
   ]
  },
  {
   "cell_type": "code",
   "execution_count": 242,
   "metadata": {},
   "outputs": [
    {
     "data": {
      "text/plain": [
       "array([[1537,  590],\n",
       "       [  27,  246]])"
      ]
     },
     "execution_count": 242,
     "metadata": {},
     "output_type": "execute_result"
    }
   ],
   "source": [
    "confusion_matrix(y_test, lr_pred_19)"
   ]
  },
  {
   "cell_type": "code",
   "execution_count": 243,
   "metadata": {},
   "outputs": [
    {
     "name": "stdout",
     "output_type": "stream",
     "text": [
      "              precision    recall  f1-score   support\n",
      "\n",
      "         0.0       0.98      0.72      0.83      2127\n",
      "         1.0       0.29      0.90      0.44       273\n",
      "\n",
      "   micro avg       0.74      0.74      0.74      2400\n",
      "   macro avg       0.64      0.81      0.64      2400\n",
      "weighted avg       0.90      0.74      0.79      2400\n",
      "\n"
     ]
    }
   ],
   "source": [
    "print(classification_report(y_test, lr_pred_19))"
   ]
  },
  {
   "cell_type": "code",
   "execution_count": 244,
   "metadata": {},
   "outputs": [],
   "source": [
    "lr_20 = linear_model.LogisticRegression(penalty='l1', C=0.01, solver='saga', max_iter=12000, tol=0.001).fit(X_train, y_train)"
   ]
  },
  {
   "cell_type": "code",
   "execution_count": 245,
   "metadata": {},
   "outputs": [
    {
     "data": {
      "text/plain": [
       "array([0., 0., 0., 0., 0., 0., 0., 0., 0., 0., 0., 1., 0., 1., 0., 0., 0.,\n",
       "       0., 0., 0., 0., 0., 1., 0., 0., 0., 0., 0., 0., 0., 0., 0., 0., 0.,\n",
       "       0.])"
      ]
     },
     "execution_count": 245,
     "metadata": {},
     "output_type": "execute_result"
    }
   ],
   "source": [
    "lr_pred_20 = lr_20.predict(X_test)\n",
    "lr_pred_20[0:35]"
   ]
  },
  {
   "cell_type": "code",
   "execution_count": 246,
   "metadata": {},
   "outputs": [
    {
     "data": {
      "text/plain": [
       "0.9716666666666667"
      ]
     },
     "execution_count": 246,
     "metadata": {},
     "output_type": "execute_result"
    }
   ],
   "source": [
    "accuracy_score(y_test, lr_pred_20)"
   ]
  },
  {
   "cell_type": "code",
   "execution_count": 247,
   "metadata": {},
   "outputs": [
    {
     "data": {
      "text/plain": [
       "array([[2087,   40],\n",
       "       [  28,  245]])"
      ]
     },
     "execution_count": 247,
     "metadata": {},
     "output_type": "execute_result"
    }
   ],
   "source": [
    "confusion_matrix(y_test, lr_pred_20)"
   ]
  },
  {
   "cell_type": "code",
   "execution_count": 248,
   "metadata": {},
   "outputs": [
    {
     "name": "stdout",
     "output_type": "stream",
     "text": [
      "              precision    recall  f1-score   support\n",
      "\n",
      "         0.0       0.99      0.98      0.98      2127\n",
      "         1.0       0.86      0.90      0.88       273\n",
      "\n",
      "   micro avg       0.97      0.97      0.97      2400\n",
      "   macro avg       0.92      0.94      0.93      2400\n",
      "weighted avg       0.97      0.97      0.97      2400\n",
      "\n"
     ]
    }
   ],
   "source": [
    "print(classification_report(y_test, lr_pred_20))"
   ]
  },
  {
   "cell_type": "code",
   "execution_count": 249,
   "metadata": {},
   "outputs": [],
   "source": [
    "lr_21 = linear_model.LogisticRegression(penalty='l1', C=0.1, solver='saga', max_iter=12000, tol=0.001).fit(X_train, y_train)"
   ]
  },
  {
   "cell_type": "code",
   "execution_count": 250,
   "metadata": {},
   "outputs": [
    {
     "data": {
      "text/plain": [
       "array([0., 0., 0., 0., 0., 0., 0., 0., 0., 0., 0., 1., 0., 1., 0., 0., 0.,\n",
       "       0., 0., 0., 0., 0., 1., 0., 0., 0., 0., 0., 0., 0., 0., 0., 0., 0.,\n",
       "       0.])"
      ]
     },
     "execution_count": 250,
     "metadata": {},
     "output_type": "execute_result"
    }
   ],
   "source": [
    "lr_pred_21 = lr_21.predict(X_test)\n",
    "lr_pred_21[0:35]"
   ]
  },
  {
   "cell_type": "code",
   "execution_count": 251,
   "metadata": {},
   "outputs": [
    {
     "data": {
      "text/plain": [
       "0.9708333333333333"
      ]
     },
     "execution_count": 251,
     "metadata": {},
     "output_type": "execute_result"
    }
   ],
   "source": [
    "accuracy_score(y_test, lr_pred_21)"
   ]
  },
  {
   "cell_type": "code",
   "execution_count": 252,
   "metadata": {},
   "outputs": [
    {
     "data": {
      "text/plain": [
       "array([[2071,   56],\n",
       "       [  14,  259]])"
      ]
     },
     "execution_count": 252,
     "metadata": {},
     "output_type": "execute_result"
    }
   ],
   "source": [
    "confusion_matrix(y_test, lr_pred_21)"
   ]
  },
  {
   "cell_type": "code",
   "execution_count": 253,
   "metadata": {},
   "outputs": [
    {
     "name": "stdout",
     "output_type": "stream",
     "text": [
      "              precision    recall  f1-score   support\n",
      "\n",
      "         0.0       0.99      0.97      0.98      2127\n",
      "         1.0       0.82      0.95      0.88       273\n",
      "\n",
      "   micro avg       0.97      0.97      0.97      2400\n",
      "   macro avg       0.91      0.96      0.93      2400\n",
      "weighted avg       0.97      0.97      0.97      2400\n",
      "\n"
     ]
    }
   ],
   "source": [
    "print(classification_report(y_test, lr_pred_21))"
   ]
  },
  {
   "cell_type": "code",
   "execution_count": 254,
   "metadata": {},
   "outputs": [],
   "source": [
    "lr_22 = linear_model.LogisticRegression(penalty='l1', C=1.0, solver='saga', max_iter=12000, tol=0.001).fit(X_train, y_train)"
   ]
  },
  {
   "cell_type": "code",
   "execution_count": 255,
   "metadata": {},
   "outputs": [
    {
     "data": {
      "text/plain": [
       "array([0., 0., 0., 0., 0., 0., 0., 0., 0., 0., 0., 1., 0., 1., 0., 0., 0.,\n",
       "       0., 0., 0., 0., 0., 1., 0., 0., 0., 0., 0., 0., 0., 0., 0., 0., 0.,\n",
       "       0.])"
      ]
     },
     "execution_count": 255,
     "metadata": {},
     "output_type": "execute_result"
    }
   ],
   "source": [
    "lr_pred_22 = lr_22.predict(X_test)\n",
    "lr_pred_22[0:35]"
   ]
  },
  {
   "cell_type": "code",
   "execution_count": 256,
   "metadata": {},
   "outputs": [
    {
     "data": {
      "text/plain": [
       "0.9679166666666666"
      ]
     },
     "execution_count": 256,
     "metadata": {},
     "output_type": "execute_result"
    }
   ],
   "source": [
    "accuracy_score(y_test, lr_pred_22)"
   ]
  },
  {
   "cell_type": "code",
   "execution_count": 257,
   "metadata": {},
   "outputs": [
    {
     "data": {
      "text/plain": [
       "array([[2059,   68],\n",
       "       [   9,  264]])"
      ]
     },
     "execution_count": 257,
     "metadata": {},
     "output_type": "execute_result"
    }
   ],
   "source": [
    "confusion_matrix(y_test, lr_pred_22)"
   ]
  },
  {
   "cell_type": "code",
   "execution_count": 258,
   "metadata": {},
   "outputs": [
    {
     "name": "stdout",
     "output_type": "stream",
     "text": [
      "              precision    recall  f1-score   support\n",
      "\n",
      "         0.0       1.00      0.97      0.98      2127\n",
      "         1.0       0.80      0.97      0.87       273\n",
      "\n",
      "   micro avg       0.97      0.97      0.97      2400\n",
      "   macro avg       0.90      0.97      0.93      2400\n",
      "weighted avg       0.97      0.97      0.97      2400\n",
      "\n"
     ]
    }
   ],
   "source": [
    "print(classification_report(y_test, lr_pred_22))"
   ]
  },
  {
   "cell_type": "code",
   "execution_count": 259,
   "metadata": {},
   "outputs": [],
   "source": [
    "lr_23 = linear_model.LogisticRegression(penalty='l1', C=10, solver='saga', max_iter=12000, tol=0.001).fit(X_train, y_train)"
   ]
  },
  {
   "cell_type": "code",
   "execution_count": 260,
   "metadata": {},
   "outputs": [
    {
     "data": {
      "text/plain": [
       "array([0., 0., 0., 0., 0., 0., 0., 0., 0., 0., 0., 1., 0., 1., 0., 0., 0.,\n",
       "       0., 0., 0., 0., 0., 1., 0., 0., 0., 0., 0., 0., 0., 0., 0., 0., 0.,\n",
       "       0.])"
      ]
     },
     "execution_count": 260,
     "metadata": {},
     "output_type": "execute_result"
    }
   ],
   "source": [
    "lr_pred_23 = lr_23.predict(X_test)\n",
    "lr_pred_23[0:35]"
   ]
  },
  {
   "cell_type": "code",
   "execution_count": 261,
   "metadata": {},
   "outputs": [
    {
     "data": {
      "text/plain": [
       "0.9679166666666666"
      ]
     },
     "execution_count": 261,
     "metadata": {},
     "output_type": "execute_result"
    }
   ],
   "source": [
    "accuracy_score(y_test, lr_pred_23)"
   ]
  },
  {
   "cell_type": "code",
   "execution_count": 262,
   "metadata": {},
   "outputs": [
    {
     "data": {
      "text/plain": [
       "array([[2058,   69],\n",
       "       [   8,  265]])"
      ]
     },
     "execution_count": 262,
     "metadata": {},
     "output_type": "execute_result"
    }
   ],
   "source": [
    "confusion_matrix(y_test, lr_pred_23)"
   ]
  },
  {
   "cell_type": "code",
   "execution_count": 263,
   "metadata": {},
   "outputs": [
    {
     "name": "stdout",
     "output_type": "stream",
     "text": [
      "              precision    recall  f1-score   support\n",
      "\n",
      "         0.0       1.00      0.97      0.98      2127\n",
      "         1.0       0.79      0.97      0.87       273\n",
      "\n",
      "   micro avg       0.97      0.97      0.97      2400\n",
      "   macro avg       0.89      0.97      0.93      2400\n",
      "weighted avg       0.97      0.97      0.97      2400\n",
      "\n"
     ]
    }
   ],
   "source": [
    "print(classification_report(y_test, lr_pred_23))"
   ]
  },
  {
   "cell_type": "code",
   "execution_count": 264,
   "metadata": {},
   "outputs": [],
   "source": [
    "lr_24 = linear_model.LogisticRegression(penalty='l1', C=100, solver='saga', max_iter=12000, tol=0.001).fit(X_train, y_train)"
   ]
  },
  {
   "cell_type": "code",
   "execution_count": 265,
   "metadata": {},
   "outputs": [
    {
     "data": {
      "text/plain": [
       "array([0., 0., 0., 0., 0., 0., 0., 0., 0., 0., 0., 1., 0., 1., 0., 0., 0.,\n",
       "       0., 0., 0., 0., 0., 1., 0., 0., 0., 0., 0., 0., 0., 0., 0., 0., 0.,\n",
       "       0.])"
      ]
     },
     "execution_count": 265,
     "metadata": {},
     "output_type": "execute_result"
    }
   ],
   "source": [
    "lr_pred_24 = lr_24.predict(X_test)\n",
    "lr_pred_24[0:35]"
   ]
  },
  {
   "cell_type": "code",
   "execution_count": 266,
   "metadata": {},
   "outputs": [
    {
     "data": {
      "text/plain": [
       "0.9679166666666666"
      ]
     },
     "execution_count": 266,
     "metadata": {},
     "output_type": "execute_result"
    }
   ],
   "source": [
    "accuracy_score(y_test, lr_pred_24)"
   ]
  },
  {
   "cell_type": "code",
   "execution_count": 267,
   "metadata": {},
   "outputs": [
    {
     "data": {
      "text/plain": [
       "array([[2058,   69],\n",
       "       [   8,  265]])"
      ]
     },
     "execution_count": 267,
     "metadata": {},
     "output_type": "execute_result"
    }
   ],
   "source": [
    "confusion_matrix(y_test, lr_pred_24)"
   ]
  },
  {
   "cell_type": "code",
   "execution_count": 268,
   "metadata": {
    "scrolled": true
   },
   "outputs": [
    {
     "name": "stdout",
     "output_type": "stream",
     "text": [
      "              precision    recall  f1-score   support\n",
      "\n",
      "         0.0       1.00      0.97      0.98      2127\n",
      "         1.0       0.79      0.97      0.87       273\n",
      "\n",
      "   micro avg       0.97      0.97      0.97      2400\n",
      "   macro avg       0.89      0.97      0.93      2400\n",
      "weighted avg       0.97      0.97      0.97      2400\n",
      "\n"
     ]
    }
   ],
   "source": [
    "print(classification_report(y_test, lr_pred_24))"
   ]
  },
  {
   "cell_type": "code",
   "execution_count": 269,
   "metadata": {},
   "outputs": [
    {
     "name": "stderr",
     "output_type": "stream",
     "text": [
      "/Users/DanLoew/anaconda3/lib/python3.7/site-packages/sklearn/ensemble/forest.py:246: FutureWarning: The default value of n_estimators will change from 10 in version 0.20 to 100 in 0.22.\n",
      "  \"10 in version 0.20 to 100 in 0.22.\", FutureWarning)\n"
     ]
    }
   ],
   "source": [
    "rfc_1s = RandomForestClassifier().fit(X_train, y_train)"
   ]
  },
  {
   "cell_type": "code",
   "execution_count": 270,
   "metadata": {},
   "outputs": [],
   "source": [
    "rfc_pred_1s = rfc_1s.predict(X_test)"
   ]
  },
  {
   "cell_type": "code",
   "execution_count": 271,
   "metadata": {},
   "outputs": [
    {
     "data": {
      "text/plain": [
       "0.97"
      ]
     },
     "execution_count": 271,
     "metadata": {},
     "output_type": "execute_result"
    }
   ],
   "source": [
    "accuracy_score(y_test, rfc_pred_1s)"
   ]
  },
  {
   "cell_type": "code",
   "execution_count": 272,
   "metadata": {},
   "outputs": [
    {
     "data": {
      "text/plain": [
       "array([[2108,   19],\n",
       "       [  53,  220]])"
      ]
     },
     "execution_count": 272,
     "metadata": {},
     "output_type": "execute_result"
    }
   ],
   "source": [
    "confusion_matrix(y_test, rfc_pred_1s)"
   ]
  },
  {
   "cell_type": "code",
   "execution_count": 273,
   "metadata": {
    "scrolled": true
   },
   "outputs": [
    {
     "name": "stdout",
     "output_type": "stream",
     "text": [
      "              precision    recall  f1-score   support\n",
      "\n",
      "         0.0       0.98      0.99      0.98      2127\n",
      "         1.0       0.92      0.81      0.86       273\n",
      "\n",
      "   micro avg       0.97      0.97      0.97      2400\n",
      "   macro avg       0.95      0.90      0.92      2400\n",
      "weighted avg       0.97      0.97      0.97      2400\n",
      "\n"
     ]
    }
   ],
   "source": [
    "print(classification_report(y_test, rfc_pred_1s))"
   ]
  },
  {
   "cell_type": "code",
   "execution_count": 274,
   "metadata": {},
   "outputs": [],
   "source": [
    "rfc_2s = RandomForestClassifier(n_estimators=100).fit(X_train, y_train)"
   ]
  },
  {
   "cell_type": "code",
   "execution_count": 275,
   "metadata": {},
   "outputs": [],
   "source": [
    "rfc_pred_2s = rfc_2s.predict(X_test)"
   ]
  },
  {
   "cell_type": "code",
   "execution_count": 276,
   "metadata": {},
   "outputs": [
    {
     "data": {
      "text/plain": [
       "0.97"
      ]
     },
     "execution_count": 276,
     "metadata": {},
     "output_type": "execute_result"
    }
   ],
   "source": [
    "accuracy_score(y_test, rfc_pred_2s)"
   ]
  },
  {
   "cell_type": "code",
   "execution_count": 277,
   "metadata": {},
   "outputs": [
    {
     "data": {
      "text/plain": [
       "array([[2102,   25],\n",
       "       [  47,  226]])"
      ]
     },
     "execution_count": 277,
     "metadata": {},
     "output_type": "execute_result"
    }
   ],
   "source": [
    "confusion_matrix(y_test, rfc_pred_2s)"
   ]
  },
  {
   "cell_type": "code",
   "execution_count": 278,
   "metadata": {},
   "outputs": [
    {
     "name": "stdout",
     "output_type": "stream",
     "text": [
      "              precision    recall  f1-score   support\n",
      "\n",
      "         0.0       0.98      0.99      0.98      2127\n",
      "         1.0       0.90      0.83      0.86       273\n",
      "\n",
      "   micro avg       0.97      0.97      0.97      2400\n",
      "   macro avg       0.94      0.91      0.92      2400\n",
      "weighted avg       0.97      0.97      0.97      2400\n",
      "\n"
     ]
    }
   ],
   "source": [
    "print(classification_report(y_test, rfc_pred_2s))"
   ]
  },
  {
   "cell_type": "markdown",
   "metadata": {},
   "source": [
    "As can be seen, the top performing classification algorithm is the Logistic Regression algorithm using scaled data, the 'lbfgs' solver, the L2 penalty, and a regularization 'C' parameter of 0.1. "
   ]
  },
  {
   "cell_type": "code",
   "execution_count": 279,
   "metadata": {},
   "outputs": [
    {
     "data": {
      "text/html": [
       "<div>\n",
       "<style scoped>\n",
       "    .dataframe tbody tr th:only-of-type {\n",
       "        vertical-align: middle;\n",
       "    }\n",
       "\n",
       "    .dataframe tbody tr th {\n",
       "        vertical-align: top;\n",
       "    }\n",
       "\n",
       "    .dataframe thead th {\n",
       "        text-align: right;\n",
       "    }\n",
       "</style>\n",
       "<table border=\"1\" class=\"dataframe\">\n",
       "  <thead>\n",
       "    <tr style=\"text-align: right;\">\n",
       "      <th></th>\n",
       "      <th>Unnamed: 0</th>\n",
       "      <th>LR_#</th>\n",
       "      <th>Accuracy_Score</th>\n",
       "      <th>Precision_Not_Retained</th>\n",
       "      <th>Precision_Retained</th>\n",
       "      <th>Precision_Average</th>\n",
       "      <th>Recall_Not_Retained</th>\n",
       "      <th>Recall_Retained</th>\n",
       "      <th>Recall_Average</th>\n",
       "      <th>F1_Score_Not_Retained</th>\n",
       "      <th>F1_Score_Retained</th>\n",
       "      <th>F1_Score_Average</th>\n",
       "      <th>Support_Not_Retained</th>\n",
       "      <th>Support_Retained</th>\n",
       "      <th>Support_Total</th>\n",
       "    </tr>\n",
       "  </thead>\n",
       "  <tbody>\n",
       "    <tr>\n",
       "      <th>0</th>\n",
       "      <td>LR, scaled, lbfgs solver, L2 penalty, C=0.1</td>\n",
       "      <td>15</td>\n",
       "      <td>0.972500</td>\n",
       "      <td>0.99</td>\n",
       "      <td>0.86</td>\n",
       "      <td>0.97</td>\n",
       "      <td>0.98</td>\n",
       "      <td>0.90</td>\n",
       "      <td>0.97</td>\n",
       "      <td>0.98</td>\n",
       "      <td>0.88</td>\n",
       "      <td>0.97</td>\n",
       "      <td>2127</td>\n",
       "      <td>273</td>\n",
       "      <td>2400</td>\n",
       "    </tr>\n",
       "    <tr>\n",
       "      <th>1</th>\n",
       "      <td>LR, scaled, lbfgs solver, L2 penalty, C=1.0</td>\n",
       "      <td>16</td>\n",
       "      <td>0.972083</td>\n",
       "      <td>0.99</td>\n",
       "      <td>0.84</td>\n",
       "      <td>0.97</td>\n",
       "      <td>0.98</td>\n",
       "      <td>0.94</td>\n",
       "      <td>0.97</td>\n",
       "      <td>0.98</td>\n",
       "      <td>0.88</td>\n",
       "      <td>0.97</td>\n",
       "      <td>2127</td>\n",
       "      <td>273</td>\n",
       "      <td>2400</td>\n",
       "    </tr>\n",
       "    <tr>\n",
       "      <th>2</th>\n",
       "      <td>LR, scaled, saga solver, L1 penalty, C=0.01</td>\n",
       "      <td>20</td>\n",
       "      <td>0.971667</td>\n",
       "      <td>0.99</td>\n",
       "      <td>0.86</td>\n",
       "      <td>0.97</td>\n",
       "      <td>0.98</td>\n",
       "      <td>0.90</td>\n",
       "      <td>0.97</td>\n",
       "      <td>0.98</td>\n",
       "      <td>0.88</td>\n",
       "      <td>0.97</td>\n",
       "      <td>2127</td>\n",
       "      <td>273</td>\n",
       "      <td>2400</td>\n",
       "    </tr>\n",
       "    <tr>\n",
       "      <th>3</th>\n",
       "      <td>RF, unscaled, 10 n_estimators</td>\n",
       "      <td>rfc_1, 10 estimators</td>\n",
       "      <td>0.971250</td>\n",
       "      <td>0.97</td>\n",
       "      <td>0.94</td>\n",
       "      <td>0.97</td>\n",
       "      <td>0.99</td>\n",
       "      <td>0.80</td>\n",
       "      <td>0.97</td>\n",
       "      <td>0.98</td>\n",
       "      <td>0.86</td>\n",
       "      <td>0.97</td>\n",
       "      <td>2127</td>\n",
       "      <td>273</td>\n",
       "      <td>2400</td>\n",
       "    </tr>\n",
       "    <tr>\n",
       "      <th>4</th>\n",
       "      <td>LR, scaled, saga solver, L1 penalty, C=0.1</td>\n",
       "      <td>21</td>\n",
       "      <td>0.970833</td>\n",
       "      <td>0.99</td>\n",
       "      <td>0.82</td>\n",
       "      <td>0.97</td>\n",
       "      <td>0.97</td>\n",
       "      <td>0.95</td>\n",
       "      <td>0.97</td>\n",
       "      <td>0.98</td>\n",
       "      <td>0.88</td>\n",
       "      <td>0.97</td>\n",
       "      <td>2127</td>\n",
       "      <td>273</td>\n",
       "      <td>2400</td>\n",
       "    </tr>\n",
       "    <tr>\n",
       "      <th>5</th>\n",
       "      <td>RF, unscaled, 100 n_estimators</td>\n",
       "      <td>rfc_2, 100 estimators</td>\n",
       "      <td>0.970833</td>\n",
       "      <td>0.98</td>\n",
       "      <td>0.91</td>\n",
       "      <td>0.97</td>\n",
       "      <td>0.99</td>\n",
       "      <td>0.82</td>\n",
       "      <td>0.97</td>\n",
       "      <td>0.98</td>\n",
       "      <td>0.87</td>\n",
       "      <td>0.97</td>\n",
       "      <td>2127</td>\n",
       "      <td>273</td>\n",
       "      <td>2400</td>\n",
       "    </tr>\n",
       "    <tr>\n",
       "      <th>6</th>\n",
       "      <td>RF, scaled, 10 n_estimators</td>\n",
       "      <td>rfc_1s, 10 estimators</td>\n",
       "      <td>0.970000</td>\n",
       "      <td>0.98</td>\n",
       "      <td>0.92</td>\n",
       "      <td>0.97</td>\n",
       "      <td>0.99</td>\n",
       "      <td>0.81</td>\n",
       "      <td>0.97</td>\n",
       "      <td>0.98</td>\n",
       "      <td>0.86</td>\n",
       "      <td>0.97</td>\n",
       "      <td>2127</td>\n",
       "      <td>273</td>\n",
       "      <td>2400</td>\n",
       "    </tr>\n",
       "    <tr>\n",
       "      <th>7</th>\n",
       "      <td>RF, scaled, 100 n_estimators</td>\n",
       "      <td>rfc_2s, 100 estimators</td>\n",
       "      <td>0.970000</td>\n",
       "      <td>0.98</td>\n",
       "      <td>0.90</td>\n",
       "      <td>0.97</td>\n",
       "      <td>0.99</td>\n",
       "      <td>0.83</td>\n",
       "      <td>0.97</td>\n",
       "      <td>0.98</td>\n",
       "      <td>0.86</td>\n",
       "      <td>0.97</td>\n",
       "      <td>2127</td>\n",
       "      <td>273</td>\n",
       "      <td>2400</td>\n",
       "    </tr>\n",
       "    <tr>\n",
       "      <th>8</th>\n",
       "      <td>LR, scaled, lbfgs solver, L2 penalty, C=10.0</td>\n",
       "      <td>17</td>\n",
       "      <td>0.969167</td>\n",
       "      <td>1.00</td>\n",
       "      <td>0.80</td>\n",
       "      <td>0.97</td>\n",
       "      <td>0.97</td>\n",
       "      <td>0.97</td>\n",
       "      <td>0.97</td>\n",
       "      <td>0.98</td>\n",
       "      <td>0.88</td>\n",
       "      <td>0.97</td>\n",
       "      <td>2127</td>\n",
       "      <td>273</td>\n",
       "      <td>2400</td>\n",
       "    </tr>\n",
       "    <tr>\n",
       "      <th>9</th>\n",
       "      <td>LR, scaled, lbfgs solver, L2 penalty, C=100.0</td>\n",
       "      <td>18</td>\n",
       "      <td>0.967917</td>\n",
       "      <td>1.00</td>\n",
       "      <td>0.79</td>\n",
       "      <td>0.97</td>\n",
       "      <td>0.97</td>\n",
       "      <td>0.97</td>\n",
       "      <td>0.97</td>\n",
       "      <td>0.98</td>\n",
       "      <td>0.87</td>\n",
       "      <td>0.97</td>\n",
       "      <td>2127</td>\n",
       "      <td>273</td>\n",
       "      <td>2400</td>\n",
       "    </tr>\n",
       "    <tr>\n",
       "      <th>10</th>\n",
       "      <td>LR, scaled, saga solver, L1 penalty, C=1.0</td>\n",
       "      <td>22</td>\n",
       "      <td>0.967917</td>\n",
       "      <td>1.00</td>\n",
       "      <td>0.80</td>\n",
       "      <td>0.97</td>\n",
       "      <td>0.97</td>\n",
       "      <td>0.97</td>\n",
       "      <td>0.97</td>\n",
       "      <td>0.98</td>\n",
       "      <td>0.87</td>\n",
       "      <td>0.97</td>\n",
       "      <td>2127</td>\n",
       "      <td>273</td>\n",
       "      <td>2400</td>\n",
       "    </tr>\n",
       "    <tr>\n",
       "      <th>11</th>\n",
       "      <td>LR, scaled, saga solver, L1 penalty, C=10.0</td>\n",
       "      <td>23</td>\n",
       "      <td>0.967917</td>\n",
       "      <td>1.00</td>\n",
       "      <td>0.79</td>\n",
       "      <td>0.97</td>\n",
       "      <td>0.97</td>\n",
       "      <td>0.97</td>\n",
       "      <td>0.97</td>\n",
       "      <td>0.98</td>\n",
       "      <td>0.87</td>\n",
       "      <td>0.97</td>\n",
       "      <td>2127</td>\n",
       "      <td>273</td>\n",
       "      <td>2400</td>\n",
       "    </tr>\n",
       "    <tr>\n",
       "      <th>12</th>\n",
       "      <td>LR, scaled, saga solver, L1 penalty, C=100.0</td>\n",
       "      <td>24</td>\n",
       "      <td>0.967917</td>\n",
       "      <td>1.00</td>\n",
       "      <td>0.79</td>\n",
       "      <td>0.97</td>\n",
       "      <td>0.97</td>\n",
       "      <td>0.97</td>\n",
       "      <td>0.97</td>\n",
       "      <td>0.98</td>\n",
       "      <td>0.87</td>\n",
       "      <td>0.97</td>\n",
       "      <td>2127</td>\n",
       "      <td>273</td>\n",
       "      <td>2400</td>\n",
       "    </tr>\n",
       "    <tr>\n",
       "      <th>13</th>\n",
       "      <td>LR, scaled, lbfgs solver, L2 penalty, C=0.01</td>\n",
       "      <td>14</td>\n",
       "      <td>0.903750</td>\n",
       "      <td>0.99</td>\n",
       "      <td>0.55</td>\n",
       "      <td>0.94</td>\n",
       "      <td>0.90</td>\n",
       "      <td>0.90</td>\n",
       "      <td>0.90</td>\n",
       "      <td>0.94</td>\n",
       "      <td>0.68</td>\n",
       "      <td>0.91</td>\n",
       "      <td>2127</td>\n",
       "      <td>273</td>\n",
       "      <td>2400</td>\n",
       "    </tr>\n",
       "    <tr>\n",
       "      <th>14</th>\n",
       "      <td>LR, scaled, lbfgs solver, L2 penalty, C=0.001</td>\n",
       "      <td>13</td>\n",
       "      <td>0.779583</td>\n",
       "      <td>0.98</td>\n",
       "      <td>0.33</td>\n",
       "      <td>0.91</td>\n",
       "      <td>0.76</td>\n",
       "      <td>0.90</td>\n",
       "      <td>0.78</td>\n",
       "      <td>0.86</td>\n",
       "      <td>0.48</td>\n",
       "      <td>0.82</td>\n",
       "      <td>2127</td>\n",
       "      <td>273</td>\n",
       "      <td>2400</td>\n",
       "    </tr>\n",
       "    <tr>\n",
       "      <th>15</th>\n",
       "      <td>LR, scaled, saga solver, L1 penalty, C=0.001</td>\n",
       "      <td>19</td>\n",
       "      <td>0.742917</td>\n",
       "      <td>0.98</td>\n",
       "      <td>0.29</td>\n",
       "      <td>0.90</td>\n",
       "      <td>0.72</td>\n",
       "      <td>0.90</td>\n",
       "      <td>0.74</td>\n",
       "      <td>0.83</td>\n",
       "      <td>0.44</td>\n",
       "      <td>0.79</td>\n",
       "      <td>2127</td>\n",
       "      <td>273</td>\n",
       "      <td>2400</td>\n",
       "    </tr>\n",
       "    <tr>\n",
       "      <th>16</th>\n",
       "      <td>LR, unscaled, lbfgs solver, L2 penalty, C=0.001</td>\n",
       "      <td>1</td>\n",
       "      <td>0.113750</td>\n",
       "      <td>0.00</td>\n",
       "      <td>0.11</td>\n",
       "      <td>0.01</td>\n",
       "      <td>0.00</td>\n",
       "      <td>1.00</td>\n",
       "      <td>0.11</td>\n",
       "      <td>0.00</td>\n",
       "      <td>0.20</td>\n",
       "      <td>0.02</td>\n",
       "      <td>2127</td>\n",
       "      <td>273</td>\n",
       "      <td>2400</td>\n",
       "    </tr>\n",
       "    <tr>\n",
       "      <th>17</th>\n",
       "      <td>LR, unscaled, lbfgs solver, L2 penalty, C=0.01</td>\n",
       "      <td>2</td>\n",
       "      <td>0.113750</td>\n",
       "      <td>0.00</td>\n",
       "      <td>0.11</td>\n",
       "      <td>0.01</td>\n",
       "      <td>0.00</td>\n",
       "      <td>1.00</td>\n",
       "      <td>0.11</td>\n",
       "      <td>0.00</td>\n",
       "      <td>0.20</td>\n",
       "      <td>0.02</td>\n",
       "      <td>2127</td>\n",
       "      <td>273</td>\n",
       "      <td>2400</td>\n",
       "    </tr>\n",
       "    <tr>\n",
       "      <th>18</th>\n",
       "      <td>LR, unscaled, lbfgs solver, L2 penalty, C=0.1</td>\n",
       "      <td>3</td>\n",
       "      <td>0.113750</td>\n",
       "      <td>0.00</td>\n",
       "      <td>0.11</td>\n",
       "      <td>0.01</td>\n",
       "      <td>0.00</td>\n",
       "      <td>1.00</td>\n",
       "      <td>0.11</td>\n",
       "      <td>0.00</td>\n",
       "      <td>0.20</td>\n",
       "      <td>0.02</td>\n",
       "      <td>2127</td>\n",
       "      <td>273</td>\n",
       "      <td>2400</td>\n",
       "    </tr>\n",
       "    <tr>\n",
       "      <th>19</th>\n",
       "      <td>LR, unscaled, lbfgs solver, L2 penalty, C=1.0</td>\n",
       "      <td>4</td>\n",
       "      <td>0.113750</td>\n",
       "      <td>0.00</td>\n",
       "      <td>0.11</td>\n",
       "      <td>0.01</td>\n",
       "      <td>0.00</td>\n",
       "      <td>1.00</td>\n",
       "      <td>0.11</td>\n",
       "      <td>0.00</td>\n",
       "      <td>0.20</td>\n",
       "      <td>0.02</td>\n",
       "      <td>2127</td>\n",
       "      <td>273</td>\n",
       "      <td>2400</td>\n",
       "    </tr>\n",
       "    <tr>\n",
       "      <th>20</th>\n",
       "      <td>LR, unscaled, lbfgs solver, L2 penalty, C=10.0</td>\n",
       "      <td>5</td>\n",
       "      <td>0.113750</td>\n",
       "      <td>0.00</td>\n",
       "      <td>0.11</td>\n",
       "      <td>0.01</td>\n",
       "      <td>0.00</td>\n",
       "      <td>1.00</td>\n",
       "      <td>0.11</td>\n",
       "      <td>0.00</td>\n",
       "      <td>0.20</td>\n",
       "      <td>0.02</td>\n",
       "      <td>2127</td>\n",
       "      <td>273</td>\n",
       "      <td>2400</td>\n",
       "    </tr>\n",
       "    <tr>\n",
       "      <th>21</th>\n",
       "      <td>LR, unscaled, lbfgs solver, L2 penalty, C=100.0</td>\n",
       "      <td>6</td>\n",
       "      <td>0.113750</td>\n",
       "      <td>0.00</td>\n",
       "      <td>0.11</td>\n",
       "      <td>0.01</td>\n",
       "      <td>0.00</td>\n",
       "      <td>1.00</td>\n",
       "      <td>0.11</td>\n",
       "      <td>0.00</td>\n",
       "      <td>0.20</td>\n",
       "      <td>0.02</td>\n",
       "      <td>2127</td>\n",
       "      <td>273</td>\n",
       "      <td>2400</td>\n",
       "    </tr>\n",
       "    <tr>\n",
       "      <th>22</th>\n",
       "      <td>LR, unscaled, saga solver, L1 penalty, C=0.001</td>\n",
       "      <td>7</td>\n",
       "      <td>0.113750</td>\n",
       "      <td>0.00</td>\n",
       "      <td>0.11</td>\n",
       "      <td>0.01</td>\n",
       "      <td>0.00</td>\n",
       "      <td>1.00</td>\n",
       "      <td>0.11</td>\n",
       "      <td>0.00</td>\n",
       "      <td>0.20</td>\n",
       "      <td>0.02</td>\n",
       "      <td>2127</td>\n",
       "      <td>273</td>\n",
       "      <td>2400</td>\n",
       "    </tr>\n",
       "    <tr>\n",
       "      <th>23</th>\n",
       "      <td>LR, unscaled, saga solver, L1 penalty, C=0.01</td>\n",
       "      <td>8</td>\n",
       "      <td>0.113750</td>\n",
       "      <td>0.00</td>\n",
       "      <td>0.11</td>\n",
       "      <td>0.01</td>\n",
       "      <td>0.00</td>\n",
       "      <td>1.00</td>\n",
       "      <td>0.11</td>\n",
       "      <td>0.00</td>\n",
       "      <td>0.20</td>\n",
       "      <td>0.02</td>\n",
       "      <td>2127</td>\n",
       "      <td>273</td>\n",
       "      <td>2400</td>\n",
       "    </tr>\n",
       "    <tr>\n",
       "      <th>24</th>\n",
       "      <td>LR, unscaled, saga solver, L1 penalty, C=0.1</td>\n",
       "      <td>9</td>\n",
       "      <td>0.113750</td>\n",
       "      <td>0.00</td>\n",
       "      <td>0.11</td>\n",
       "      <td>0.01</td>\n",
       "      <td>0.00</td>\n",
       "      <td>1.00</td>\n",
       "      <td>0.11</td>\n",
       "      <td>0.00</td>\n",
       "      <td>0.20</td>\n",
       "      <td>0.02</td>\n",
       "      <td>2127</td>\n",
       "      <td>273</td>\n",
       "      <td>2400</td>\n",
       "    </tr>\n",
       "    <tr>\n",
       "      <th>25</th>\n",
       "      <td>LR, unscaled, saga solver, L1 penalty, C=1.0</td>\n",
       "      <td>10</td>\n",
       "      <td>0.113750</td>\n",
       "      <td>0.00</td>\n",
       "      <td>0.11</td>\n",
       "      <td>0.01</td>\n",
       "      <td>0.00</td>\n",
       "      <td>1.00</td>\n",
       "      <td>0.11</td>\n",
       "      <td>0.00</td>\n",
       "      <td>0.20</td>\n",
       "      <td>0.02</td>\n",
       "      <td>2127</td>\n",
       "      <td>273</td>\n",
       "      <td>2400</td>\n",
       "    </tr>\n",
       "    <tr>\n",
       "      <th>26</th>\n",
       "      <td>LR, unscaled, saga solver, L1 penalty, C=10.0</td>\n",
       "      <td>11</td>\n",
       "      <td>0.113750</td>\n",
       "      <td>0.00</td>\n",
       "      <td>0.11</td>\n",
       "      <td>0.01</td>\n",
       "      <td>0.00</td>\n",
       "      <td>1.00</td>\n",
       "      <td>0.11</td>\n",
       "      <td>0.00</td>\n",
       "      <td>0.20</td>\n",
       "      <td>0.02</td>\n",
       "      <td>2127</td>\n",
       "      <td>273</td>\n",
       "      <td>2400</td>\n",
       "    </tr>\n",
       "    <tr>\n",
       "      <th>27</th>\n",
       "      <td>LR, unscaled, saga solver, L1 penalty, C=100.0</td>\n",
       "      <td>12</td>\n",
       "      <td>0.113750</td>\n",
       "      <td>0.00</td>\n",
       "      <td>0.11</td>\n",
       "      <td>0.01</td>\n",
       "      <td>0.00</td>\n",
       "      <td>1.00</td>\n",
       "      <td>0.11</td>\n",
       "      <td>0.00</td>\n",
       "      <td>0.20</td>\n",
       "      <td>0.02</td>\n",
       "      <td>2127</td>\n",
       "      <td>273</td>\n",
       "      <td>2400</td>\n",
       "    </tr>\n",
       "  </tbody>\n",
       "</table>\n",
       "</div>"
      ],
      "text/plain": [
       "                                         Unnamed: 0                    LR_#  \\\n",
       "0       LR, scaled, lbfgs solver, L2 penalty, C=0.1                      15   \n",
       "1       LR, scaled, lbfgs solver, L2 penalty, C=1.0                      16   \n",
       "2       LR, scaled, saga solver, L1 penalty, C=0.01                      20   \n",
       "3                     RF, unscaled, 10 n_estimators    rfc_1, 10 estimators   \n",
       "4        LR, scaled, saga solver, L1 penalty, C=0.1                      21   \n",
       "5                    RF, unscaled, 100 n_estimators   rfc_2, 100 estimators   \n",
       "6                       RF, scaled, 10 n_estimators   rfc_1s, 10 estimators   \n",
       "7                      RF, scaled, 100 n_estimators  rfc_2s, 100 estimators   \n",
       "8      LR, scaled, lbfgs solver, L2 penalty, C=10.0                      17   \n",
       "9     LR, scaled, lbfgs solver, L2 penalty, C=100.0                      18   \n",
       "10       LR, scaled, saga solver, L1 penalty, C=1.0                      22   \n",
       "11      LR, scaled, saga solver, L1 penalty, C=10.0                      23   \n",
       "12     LR, scaled, saga solver, L1 penalty, C=100.0                      24   \n",
       "13     LR, scaled, lbfgs solver, L2 penalty, C=0.01                      14   \n",
       "14    LR, scaled, lbfgs solver, L2 penalty, C=0.001                      13   \n",
       "15     LR, scaled, saga solver, L1 penalty, C=0.001                      19   \n",
       "16  LR, unscaled, lbfgs solver, L2 penalty, C=0.001                       1   \n",
       "17   LR, unscaled, lbfgs solver, L2 penalty, C=0.01                       2   \n",
       "18    LR, unscaled, lbfgs solver, L2 penalty, C=0.1                       3   \n",
       "19    LR, unscaled, lbfgs solver, L2 penalty, C=1.0                       4   \n",
       "20   LR, unscaled, lbfgs solver, L2 penalty, C=10.0                       5   \n",
       "21  LR, unscaled, lbfgs solver, L2 penalty, C=100.0                       6   \n",
       "22   LR, unscaled, saga solver, L1 penalty, C=0.001                       7   \n",
       "23    LR, unscaled, saga solver, L1 penalty, C=0.01                       8   \n",
       "24     LR, unscaled, saga solver, L1 penalty, C=0.1                       9   \n",
       "25     LR, unscaled, saga solver, L1 penalty, C=1.0                      10   \n",
       "26    LR, unscaled, saga solver, L1 penalty, C=10.0                      11   \n",
       "27   LR, unscaled, saga solver, L1 penalty, C=100.0                      12   \n",
       "\n",
       "    Accuracy_Score  Precision_Not_Retained  Precision_Retained  \\\n",
       "0         0.972500                    0.99                0.86   \n",
       "1         0.972083                    0.99                0.84   \n",
       "2         0.971667                    0.99                0.86   \n",
       "3         0.971250                    0.97                0.94   \n",
       "4         0.970833                    0.99                0.82   \n",
       "5         0.970833                    0.98                0.91   \n",
       "6         0.970000                    0.98                0.92   \n",
       "7         0.970000                    0.98                0.90   \n",
       "8         0.969167                    1.00                0.80   \n",
       "9         0.967917                    1.00                0.79   \n",
       "10        0.967917                    1.00                0.80   \n",
       "11        0.967917                    1.00                0.79   \n",
       "12        0.967917                    1.00                0.79   \n",
       "13        0.903750                    0.99                0.55   \n",
       "14        0.779583                    0.98                0.33   \n",
       "15        0.742917                    0.98                0.29   \n",
       "16        0.113750                    0.00                0.11   \n",
       "17        0.113750                    0.00                0.11   \n",
       "18        0.113750                    0.00                0.11   \n",
       "19        0.113750                    0.00                0.11   \n",
       "20        0.113750                    0.00                0.11   \n",
       "21        0.113750                    0.00                0.11   \n",
       "22        0.113750                    0.00                0.11   \n",
       "23        0.113750                    0.00                0.11   \n",
       "24        0.113750                    0.00                0.11   \n",
       "25        0.113750                    0.00                0.11   \n",
       "26        0.113750                    0.00                0.11   \n",
       "27        0.113750                    0.00                0.11   \n",
       "\n",
       "    Precision_Average  Recall_Not_Retained  Recall_Retained  Recall_Average  \\\n",
       "0                0.97                 0.98             0.90            0.97   \n",
       "1                0.97                 0.98             0.94            0.97   \n",
       "2                0.97                 0.98             0.90            0.97   \n",
       "3                0.97                 0.99             0.80            0.97   \n",
       "4                0.97                 0.97             0.95            0.97   \n",
       "5                0.97                 0.99             0.82            0.97   \n",
       "6                0.97                 0.99             0.81            0.97   \n",
       "7                0.97                 0.99             0.83            0.97   \n",
       "8                0.97                 0.97             0.97            0.97   \n",
       "9                0.97                 0.97             0.97            0.97   \n",
       "10               0.97                 0.97             0.97            0.97   \n",
       "11               0.97                 0.97             0.97            0.97   \n",
       "12               0.97                 0.97             0.97            0.97   \n",
       "13               0.94                 0.90             0.90            0.90   \n",
       "14               0.91                 0.76             0.90            0.78   \n",
       "15               0.90                 0.72             0.90            0.74   \n",
       "16               0.01                 0.00             1.00            0.11   \n",
       "17               0.01                 0.00             1.00            0.11   \n",
       "18               0.01                 0.00             1.00            0.11   \n",
       "19               0.01                 0.00             1.00            0.11   \n",
       "20               0.01                 0.00             1.00            0.11   \n",
       "21               0.01                 0.00             1.00            0.11   \n",
       "22               0.01                 0.00             1.00            0.11   \n",
       "23               0.01                 0.00             1.00            0.11   \n",
       "24               0.01                 0.00             1.00            0.11   \n",
       "25               0.01                 0.00             1.00            0.11   \n",
       "26               0.01                 0.00             1.00            0.11   \n",
       "27               0.01                 0.00             1.00            0.11   \n",
       "\n",
       "    F1_Score_Not_Retained  F1_Score_Retained  F1_Score_Average  \\\n",
       "0                    0.98               0.88              0.97   \n",
       "1                    0.98               0.88              0.97   \n",
       "2                    0.98               0.88              0.97   \n",
       "3                    0.98               0.86              0.97   \n",
       "4                    0.98               0.88              0.97   \n",
       "5                    0.98               0.87              0.97   \n",
       "6                    0.98               0.86              0.97   \n",
       "7                    0.98               0.86              0.97   \n",
       "8                    0.98               0.88              0.97   \n",
       "9                    0.98               0.87              0.97   \n",
       "10                   0.98               0.87              0.97   \n",
       "11                   0.98               0.87              0.97   \n",
       "12                   0.98               0.87              0.97   \n",
       "13                   0.94               0.68              0.91   \n",
       "14                   0.86               0.48              0.82   \n",
       "15                   0.83               0.44              0.79   \n",
       "16                   0.00               0.20              0.02   \n",
       "17                   0.00               0.20              0.02   \n",
       "18                   0.00               0.20              0.02   \n",
       "19                   0.00               0.20              0.02   \n",
       "20                   0.00               0.20              0.02   \n",
       "21                   0.00               0.20              0.02   \n",
       "22                   0.00               0.20              0.02   \n",
       "23                   0.00               0.20              0.02   \n",
       "24                   0.00               0.20              0.02   \n",
       "25                   0.00               0.20              0.02   \n",
       "26                   0.00               0.20              0.02   \n",
       "27                   0.00               0.20              0.02   \n",
       "\n",
       "    Support_Not_Retained  Support_Retained  Support_Total  \n",
       "0                   2127               273           2400  \n",
       "1                   2127               273           2400  \n",
       "2                   2127               273           2400  \n",
       "3                   2127               273           2400  \n",
       "4                   2127               273           2400  \n",
       "5                   2127               273           2400  \n",
       "6                   2127               273           2400  \n",
       "7                   2127               273           2400  \n",
       "8                   2127               273           2400  \n",
       "9                   2127               273           2400  \n",
       "10                  2127               273           2400  \n",
       "11                  2127               273           2400  \n",
       "12                  2127               273           2400  \n",
       "13                  2127               273           2400  \n",
       "14                  2127               273           2400  \n",
       "15                  2127               273           2400  \n",
       "16                  2127               273           2400  \n",
       "17                  2127               273           2400  \n",
       "18                  2127               273           2400  \n",
       "19                  2127               273           2400  \n",
       "20                  2127               273           2400  \n",
       "21                  2127               273           2400  \n",
       "22                  2127               273           2400  \n",
       "23                  2127               273           2400  \n",
       "24                  2127               273           2400  \n",
       "25                  2127               273           2400  \n",
       "26                  2127               273           2400  \n",
       "27                  2127               273           2400  "
      ]
     },
     "execution_count": 279,
     "metadata": {},
     "output_type": "execute_result"
    }
   ],
   "source": [
    "hp_tuning_table = pd.read_excel('Relax_HP_tuning_table.xlsx')\n",
    "hp_tuning_table"
   ]
  },
  {
   "cell_type": "markdown",
   "metadata": {},
   "source": [
    "## ROC curve and AUC"
   ]
  },
  {
   "cell_type": "markdown",
   "metadata": {},
   "source": [
    "The Receiver Operating Characteristic (ROC) curve and Area Under the Curve (AUC) are called on the best performing LogisticRegression algorithm ('lr_15'). This is done to further evaluate the model."
   ]
  },
  {
   "cell_type": "markdown",
   "metadata": {},
   "source": [
    "First, the ROC curve for the best performing LogisticRegression model ('lr_15') is calculated and plotted, and its AUC score is returned."
   ]
  },
  {
   "cell_type": "code",
   "execution_count": 280,
   "metadata": {},
   "outputs": [
    {
     "data": {
      "text/plain": [
       "array([0.06319767, 0.09607917, 0.35282332, ..., 0.26718684, 0.08021157,\n",
       "       0.12506306])"
      ]
     },
     "execution_count": 280,
     "metadata": {},
     "output_type": "execute_result"
    }
   ],
   "source": [
    "y_pred_prob_lr_15 = lr_15.predict_proba(X_test)[:,1]\n",
    "y_pred_prob_lr_15"
   ]
  },
  {
   "cell_type": "code",
   "execution_count": 281,
   "metadata": {},
   "outputs": [],
   "source": [
    "fpr_lr_15, tpr_lr_15, thresholds_lr_15 = roc_curve(y_test, y_pred_prob_lr_15)"
   ]
  },
  {
   "cell_type": "code",
   "execution_count": 282,
   "metadata": {},
   "outputs": [
    {
     "data": {
      "image/png": "[encoded data removed]",
      "text/plain": [
       "<Figure size 432x288 with 1 Axes>"
      ]
     },
     "metadata": {
      "needs_background": "light"
     },
     "output_type": "display_data"
    }
   ],
   "source": [
    "plt.plot([0, 1], [0, 1], 'k--')\n",
    "plt.plot(fpr_lr_15, tpr_lr_15, label='Logistic Regression')\n",
    "plt.xlabel('False Positive Rate')\n",
    "plt.ylabel('True Positive Rate')\n",
    "plt.title('Logistic Regression')\n",
    "plt.show();"
   ]
  },
  {
   "cell_type": "code",
   "execution_count": 283,
   "metadata": {},
   "outputs": [
    {
     "data": {
      "text/plain": [
       "0.9836223954700681"
      ]
     },
     "execution_count": 283,
     "metadata": {},
     "output_type": "execute_result"
    }
   ],
   "source": [
    "auc_score_lr_15 = roc_auc_score(y_test, y_pred_prob_lr_15)\n",
    "auc_score_lr_15"
   ]
  },
  {
   "cell_type": "markdown",
   "metadata": {},
   "source": [
    "## Precision Recall Curve"
   ]
  },
  {
   "cell_type": "markdown",
   "metadata": {},
   "source": [
    "Because of the imbalanced class count, the 15th LogisticRegression algorithm is evaluated below with a Precision-Recall Curve, as recommended by this article by Jason Brownlee, PhD: https://machinelearningmastery.com/roc-curves-and-precision-recall-curves-for-classification-in-python/. As Dr. Brownlee says, the future performance of a model with imbalanced class counts is better evaluated with a Precision-Recall Curve than an ROC curve. Specific modules are first imported for use in calculating the Precision-Recall Curve."
   ]
  },
  {
   "cell_type": "code",
   "execution_count": 284,
   "metadata": {},
   "outputs": [],
   "source": [
    "from sklearn.metrics import precision_recall_curve\n",
    "from sklearn.metrics import f1_score\n",
    "from sklearn.metrics import auc"
   ]
  },
  {
   "cell_type": "markdown",
   "metadata": {},
   "source": [
    "The precision recall curve is defined below, as is the F1 score and AUC for the precision-recall curve."
   ]
  },
  {
   "cell_type": "code",
   "execution_count": 285,
   "metadata": {},
   "outputs": [],
   "source": [
    "lr_precision, lr_recall, _ = precision_recall_curve(y_test, y_pred_prob_lr_15)"
   ]
  },
  {
   "cell_type": "code",
   "execution_count": 286,
   "metadata": {},
   "outputs": [],
   "source": [
    "lr_f1, lr_auc = f1_score(y_test, lr_pred_15), auc(lr_recall, lr_precision)"
   ]
  },
  {
   "cell_type": "markdown",
   "metadata": {},
   "source": [
    "The F1 score is then called, as is the area under the Precision Recall Curve."
   ]
  },
  {
   "cell_type": "code",
   "execution_count": 287,
   "metadata": {},
   "outputs": [
    {
     "name": "stdout",
     "output_type": "stream",
     "text": [
      "Logistic: f1=0.882 auc=0.948\n"
     ]
    }
   ],
   "source": [
    "print('Logistic: f1=%.3f auc=%.3f' % (lr_f1, lr_auc))"
   ]
  },
  {
   "cell_type": "markdown",
   "metadata": {},
   "source": [
    "The precision-recall curve is then plotted for the best Logistic Regression algorithm ('lr_15'). The precision-recall curve's AUC score (0.948) is lower than the ROC curve's AUC (0.984), showing that the model is skilled at differentiating true positives from false positives and false negatives."
   ]
  },
  {
   "cell_type": "code",
   "execution_count": 288,
   "metadata": {},
   "outputs": [
    {
     "data": {
      "image/png": "[encoded data removed]",
      "text/plain": [
       "<Figure size 432x288 with 1 Axes>"
      ]
     },
     "metadata": {
      "needs_background": "light"
     },
     "output_type": "display_data"
    }
   ],
   "source": [
    "no_skill = len(y_test[y_test==1]) / len(y_test)\n",
    "plt.plot([0, 1], [no_skill, no_skill], linestyle='--', label='No Skill')\n",
    "plt.plot(lr_recall, lr_precision, marker='.', label='Logistic Regression 15')\n",
    "plt.xlabel('Recall')\n",
    "plt.ylabel('Precision')\n",
    "plt.legend()\n",
    "plt.show()"
   ]
  },
  {
   "cell_type": "markdown",
   "metadata": {},
   "source": [
    "## Coefficients"
   ]
  },
  {
   "cell_type": "markdown",
   "metadata": {},
   "source": [
    "In order to look at the most salient predictors of adopted Relax customers, the feature set's coefficients for the best performing Logistic Regression algorithm ('lr_15') are identified to find the most predictive features differentiating adopted customers from non-adopted customers."
   ]
  },
  {
   "cell_type": "markdown",
   "metadata": {},
   "source": [
    "First, the coefficients are scaled as the features in the predictive feature set are of multiple scales, including binary, 5-point ratings, percentiles, and real integer numbers."
   ]
  },
  {
   "cell_type": "markdown",
   "metadata": {},
   "source": [
    "First, the coefficients are called for all the features in the feature set, assigned to 'best_cf_coeffs' (short for 'best classifier's coefficients')."
   ]
  },
  {
   "cell_type": "code",
   "execution_count": 289,
   "metadata": {},
   "outputs": [
    {
     "data": {
      "text/plain": [
       "last_session_creation_time            10.172719\n",
       "opted_in_to_mailing_list              -0.020610\n",
       "enabled_for_marketing_drip             0.002489\n",
       "org_id                                 0.424256\n",
       "invited_by_user_id                    -0.080541\n",
       "last_session_creation_time_isnull     -5.747519\n",
       "invited_by_user_id_isnull             -0.076398\n",
       "creation_time_year                    -7.695870\n",
       "creation_time_month                   -2.980415\n",
       "creation_time_day                     -0.343844\n",
       "creation_time_hour                     0.021917\n",
       "creation_time_minute                  -0.127037\n",
       "creation_time_seconds                 -0.002576\n",
       "creation_source_GUEST_INVITE           0.159554\n",
       "creation_source_ORG_INVITE            -0.082955\n",
       "creation_source_PERSONAL_PROJECTS      0.083534\n",
       "creation_source_SIGNUP                -0.052854\n",
       "creation_source_SIGNUP_GOOGLE_AUTH    -0.107077\n",
       "dtype: float64"
      ]
     },
     "execution_count": 289,
     "metadata": {},
     "output_type": "execute_result"
    }
   ],
   "source": [
    "best_cf_coeffs = pd.Series(lr_15.coef_[0], index=X_train.columns) \n",
    "best_cf_coeffs"
   ]
  },
  {
   "cell_type": "code",
   "execution_count": 290,
   "metadata": {},
   "outputs": [
    {
     "data": {
      "text/plain": [
       "last_session_creation_time            10.172719\n",
       "org_id                                 0.424256\n",
       "creation_source_GUEST_INVITE           0.159554\n",
       "creation_source_PERSONAL_PROJECTS      0.083534\n",
       "creation_time_hour                     0.021917\n",
       "enabled_for_marketing_drip             0.002489\n",
       "creation_time_seconds                 -0.002576\n",
       "opted_in_to_mailing_list              -0.020610\n",
       "creation_source_SIGNUP                -0.052854\n",
       "invited_by_user_id_isnull             -0.076398\n",
       "invited_by_user_id                    -0.080541\n",
       "creation_source_ORG_INVITE            -0.082955\n",
       "creation_source_SIGNUP_GOOGLE_AUTH    -0.107077\n",
       "creation_time_minute                  -0.127037\n",
       "creation_time_day                     -0.343844\n",
       "creation_time_month                   -2.980415\n",
       "last_session_creation_time_isnull     -5.747519\n",
       "creation_time_year                    -7.695870\n",
       "dtype: float64"
      ]
     },
     "execution_count": 290,
     "metadata": {},
     "output_type": "execute_result"
    }
   ],
   "source": [
    "lr_15_coeffs_sorted = best_cf_coeffs.sort_values(ascending=False)\n",
    "lr_15_coeffs_sorted"
   ]
  },
  {
   "cell_type": "markdown",
   "metadata": {},
   "source": [
    "Second, the coefficients are scaled as the features in the predictive feature set are of multiple scales, including binary, 5-point ratings, percentiles, and real integer numbers."
   ]
  },
  {
   "cell_type": "code",
   "execution_count": 291,
   "metadata": {},
   "outputs": [
    {
     "data": {
      "text/plain": [
       "last_session_creation_time            10.172719\n",
       "opted_in_to_mailing_list              -0.020610\n",
       "enabled_for_marketing_drip             0.002489\n",
       "org_id                                 0.424256\n",
       "invited_by_user_id                    -0.080541\n",
       "last_session_creation_time_isnull     -5.747519\n",
       "invited_by_user_id_isnull             -0.076398\n",
       "creation_time_year                    -7.695870\n",
       "creation_time_month                   -2.980415\n",
       "creation_time_day                     -0.343844\n",
       "creation_time_hour                     0.021917\n",
       "creation_time_minute                  -0.127037\n",
       "creation_time_seconds                 -0.002576\n",
       "creation_source_GUEST_INVITE           0.159554\n",
       "creation_source_ORG_INVITE            -0.082955\n",
       "creation_source_PERSONAL_PROJECTS      0.083534\n",
       "creation_source_SIGNUP                -0.052854\n",
       "creation_source_SIGNUP_GOOGLE_AUTH    -0.107077\n",
       "dtype: float64"
      ]
     },
     "execution_count": 291,
     "metadata": {},
     "output_type": "execute_result"
    }
   ],
   "source": [
    "normalized_lr_15_coeffs = best_cf_coeffs/(X_train.max() - X_train.min())\n",
    "normalized_lr_15_coeffs"
   ]
  },
  {
   "cell_type": "markdown",
   "metadata": {},
   "source": [
    "The features' coefficients are then sorted to show the features most predictive of adopted Relax customers. The features with positive coefficients are more predictive of adopted Relax customers, while the features with negative coefficients are more predictive of non-adopted Relax customers."
   ]
  },
  {
   "cell_type": "code",
   "execution_count": 293,
   "metadata": {},
   "outputs": [
    {
     "data": {
      "text/plain": [
       "last_session_creation_time            10.172719\n",
       "org_id                                 0.424256\n",
       "creation_source_GUEST_INVITE           0.159554\n",
       "creation_source_PERSONAL_PROJECTS      0.083534\n",
       "creation_time_hour                     0.021917\n",
       "enabled_for_marketing_drip             0.002489\n",
       "creation_time_seconds                 -0.002576\n",
       "opted_in_to_mailing_list              -0.020610\n",
       "creation_source_SIGNUP                -0.052854\n",
       "invited_by_user_id_isnull             -0.076398\n",
       "invited_by_user_id                    -0.080541\n",
       "creation_source_ORG_INVITE            -0.082955\n",
       "creation_source_SIGNUP_GOOGLE_AUTH    -0.107077\n",
       "creation_time_minute                  -0.127037\n",
       "creation_time_day                     -0.343844\n",
       "creation_time_month                   -2.980415\n",
       "last_session_creation_time_isnull     -5.747519\n",
       "creation_time_year                    -7.695870\n",
       "dtype: float64"
      ]
     },
     "execution_count": 293,
     "metadata": {},
     "output_type": "execute_result"
    }
   ],
   "source": [
    "norm_best_coeffs = normalized_lr_15_coeffs.sort_values(ascending=False)\n",
    "norm_best_coeffs"
   ]
  },
  {
   "cell_type": "markdown",
   "metadata": {},
   "source": [
    "As can be seen, there are several features with interesting logistic regression coefficients that can guide Relax's efforts to increase customer adoption. These include:\n",
    "\n",
    "- 'last_session_creation_time': 10.2  This feature has the highest logistic regression coefficient by far, which mirrors its Pearson's correlation with the 'is_adopted' target variable. This again shows that users whose last session was created recently are more likely to be adopted users, which makes perfect sense.\n",
    "\n",
    "- 'org_id': 0.42  This is an interesting finding that shows that there is some relationship between users with larger org ids and Relax adoption. Perhaps the org id is assigned in a sequential growing sequence as users sign up for Relax, which reflects the logistic regression coefficient of 'last_session_creation_time', showing that users who signed up more recently are more likely to be adopted users. This may reflect a more general improvement in the user experience of Relax.\n",
    "\n",
    "- 'creation_time_day': -0.34  This simply shows that users who create their account later in the month are less likely to be Relax adopters. This may warrant some research into whether internal processes at Relax that are happening later in the month may be interfering with the user experience of Relax users.\n",
    "\n",
    "- 'creation_time_month': -2.98  This simply shows that users who create their account later in the year are less likely to be Relax adopters. This may warrant some research into whether internal processes at Relax that are happening later in the year may be interfering with the user experience of Relax users.\n",
    "\n",
    "- 'creation_time_year': -7.7  This simply shows that users who create their account later in later years are less likely to be Relax adopters. This may warrant some research into whether internal processes at Relax that are happening in 2014 versus 2013 may be interfering with the user experience of Relax users.\n",
    "\n",
    "These features are the most important features in predicting product adoption for Relax users."
   ]
  }
 ],
 "metadata": {
  "kernelspec": {
   "display_name": "Python 3",
   "language": "python",
   "name": "python3"
  },
  "language_info": {
   "codemirror_mode": {
    "name": "ipython",
    "version": 3
   },
   "file_extension": ".py",
   "mimetype": "text/x-python",
   "name": "python",
   "nbconvert_exporter": "python",
   "pygments_lexer": "ipython3",
   "version": "3.7.3"
  }
 },
 "nbformat": 4,
 "nbformat_minor": 2
}
